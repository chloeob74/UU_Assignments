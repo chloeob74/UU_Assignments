{
 "cells": [
  {
   "cell_type": "markdown",
   "id": "dd21efe9",
   "metadata": {},
   "source": [
    "# Assignment 5\n",
    "### Do all four questions."
   ]
  },
  {
   "cell_type": "code",
   "execution_count": 2,
   "id": "496b38ba",
   "metadata": {},
   "outputs": [],
   "source": [
    "import numpy as np\n",
    "import pandas as pd\n",
    "import matplotlib.pyplot as plt\n",
    "import seaborn as sns"
   ]
  },
  {
   "cell_type": "markdown",
   "id": "1ee9b4e8",
   "metadata": {},
   "source": [
    "## Question 1\n",
    "Let's review some basic matrix multiplication. When you have an $M \\times N$ matrix $A$ with $M$ rows and $N$ columns, \n",
    "$$\n",
    "A= \\left[ \\begin{array}{cccc} a_{11} & a_{12} & ... & a_{1N} \\\\\n",
    "a_{21} & a_{22} & ... & a_{2N} \\\\\n",
    "\\vdots & \\vdots & ... & \\vdots \\\\\n",
    "a_{M1} & a_{M2} & ... & a_{MN} \n",
    "\\end{array} \\right],\n",
    "$$\n",
    "and you right-multiply it by a vector\n",
    "$$\n",
    "x = \\left[ \\begin{array}{c} x_1 \\\\ x_2 \\\\ \\vdots \\\\ x_N \n",
    "\\end{array} \\right],\n",
    "$$\n",
    "you get\n",
    "$$\n",
    "Ax = \\left[ \\begin{array}{c} \\sum_{i=1}^N a_{1i} x_i \\\\ \\sum_{i=1}^N a_{2i} x_i \\\\ \\vdots \\\\ \\sum_{i=1}^N a_{Mi} x_i \n",
    "\\end{array} \\right].\n",
    "$$\n",
    "This is just \"matrix row times column vector\" element-by-element, stacking the results into a new vector.\n",
    "\n",
    "For this to make sense, $N$ must be the same for the matrix and the vector, but $M$ can be different from $N$. \n",
    "\n",
    "Let's play with some NumPy to see this. First we'll define a matrix $A$:"
   ]
  },
  {
   "cell_type": "code",
   "execution_count": 13,
   "id": "33df3579",
   "metadata": {},
   "outputs": [
    {
     "data": {
      "text/plain": [
       "array([[1, 2, 3],\n",
       "       [4, 5, 6],\n",
       "       [7, 8, 9]])"
      ]
     },
     "execution_count": 13,
     "metadata": {},
     "output_type": "execute_result"
    }
   ],
   "source": [
    "A = np.array([ [1,2,3],\n",
    "              [4,5,6],\n",
    "              [7,8,9]])\n",
    "A"
   ]
  },
  {
   "cell_type": "markdown",
   "id": "94b1b3ac",
   "metadata": {},
   "source": [
    "### a. \n",
    "**Multiply $A$ times each of the following vectors using the @ operator. Explain which part of the $A$ matrix gets selected and explain why, using the definition of matrix multiplication.**"
   ]
  },
  {
   "cell_type": "code",
   "execution_count": 8,
   "id": "5b6148d2",
   "metadata": {},
   "outputs": [],
   "source": [
    "e_1 = np.array([1,0,0])\n",
    "e_2 = np.array([0,1,0])\n",
    "e_3 = np.array([0,0,1])"
   ]
  },
  {
   "cell_type": "code",
   "execution_count": 17,
   "id": "887f436f",
   "metadata": {},
   "outputs": [
    {
     "name": "stdout",
     "output_type": "stream",
     "text": [
      "[1 4 7]\n",
      "[2 5 8]\n",
      "[3 6 9]\n"
     ]
    }
   ],
   "source": [
    "print(A @ e_1)\n",
    "print(A @ e_2)\n",
    "print(A @ e_3)"
   ]
  },
  {
   "cell_type": "markdown",
   "id": "1b7f4b42",
   "metadata": {},
   "source": [
    "-For `A @ e_1`: the first column of A: [1, 4, 7] is selected.\n",
    "-For `A @ e_2`: the first column of A: [2, 5, 8] is selected.\n",
    "-For `A @ e_3`: the first column of A: [3, 6, 9] is selected.\n",
    "\n",
    "If we look at the definition of matrix multiplication, the i-th component of A @ v is the dot product of the i-th row of A with vector v.\n",
    "\n",
    "So, for `A @ e_1 = A @ [1, 0, 0]`:\n",
    " - Row 1: [1, 2, 3] · [1, 0, 0] = 1x1 + 2x0 + 3x0 = 1\n",
    " - Row 2: [4, 5, 6] · [1, 0, 0] = 4x1 + 5x0 + 6x0 = 4\n",
    " - Row 3: [7, 8, 8] · [1, 0, 0] = 7x1 + 8x0 + 9x0 = 7\n",
    "\n",
    "Because `e_1` has a 1 in the first position and 0s elsewhere, each rows's dot product pics out only the first element of that row. \n",
    "\n",
    "Similarly for `A @ e_2` and `A @ e_3`, the 1 is in position 2 or 3 respectivelym nd picks out the 2nd or 3rd element from each row.\n",
    "\n"
   ]
  },
  {
   "cell_type": "markdown",
   "id": "72a4704e",
   "metadata": {},
   "source": [
    "### b. \n",
    "**Now multiply $A$ times $u = (1,1,1)$. Explain the logic of the result with the definition of matrix multiplication.**"
   ]
  },
  {
   "cell_type": "code",
   "execution_count": 20,
   "id": "5bf73f9b",
   "metadata": {},
   "outputs": [
    {
     "data": {
      "text/plain": [
       "array([1., 1., 1.])"
      ]
     },
     "execution_count": 20,
     "metadata": {},
     "output_type": "execute_result"
    }
   ],
   "source": [
    "u = np.ones(3)\n",
    "u"
   ]
  },
  {
   "cell_type": "code",
   "execution_count": 19,
   "id": "734deb73",
   "metadata": {},
   "outputs": [
    {
     "name": "stdout",
     "output_type": "stream",
     "text": [
      "[ 6. 15. 24.]\n"
     ]
    }
   ],
   "source": [
    "print(A @ u)"
   ]
  },
  {
   "cell_type": "markdown",
   "id": "e3d075ba",
   "metadata": {},
   "source": [
    "Since u = [1, 1, 1] has all components that are equal to 1, the dot product of each row with u is simply the sum of each element in the row. So:\n",
    "- Row 1: [1, 2, 3] · [1, 1, 1] = 1x1 + 2x1 + 3x1 = 1 + 2 + 3 = 6\n",
    "- Row 2: [4, 5, 6] · [1, 1, 1] = 4x1 + 5x1 + 6x1 = 4 + 5 + 6 = 15\n",
    "- Row 3: [7, 8, 9] · [1, 1, 1] = 7x1 + 8x1 + 9x1 = 7 + 8 + 9 = 24"
   ]
  },
  {
   "cell_type": "markdown",
   "id": "dde75eab",
   "metadata": {},
   "source": [
    "### c. \n",
    "**Whenever a matrix has 1's on the diagonal and zeros everywhere else, we call it an **identity matrix**. What happens when you multiple $A$ times $x$ below? What happens when you multiple an identity matrix times any vector? Explain your result with the definition of matrix multiplication.**"
   ]
  },
  {
   "cell_type": "code",
   "execution_count": 3,
   "id": "b0d349c4",
   "metadata": {},
   "outputs": [],
   "source": [
    "A = np.array([ [1,0,0],\n",
    "              [0,1,0],\n",
    "              [0,0,1]])\n",
    "x = np.array([-2,4,11])\n"
   ]
  },
  {
   "cell_type": "code",
   "execution_count": 4,
   "id": "768c8e11",
   "metadata": {},
   "outputs": [
    {
     "name": "stdout",
     "output_type": "stream",
     "text": [
      "[-2  4 11]\n"
     ]
    }
   ],
   "source": [
    "print(A @ x)"
   ]
  },
  {
   "cell_type": "markdown",
   "id": "4177d31a",
   "metadata": {},
   "source": [
    "Each row of A has a single 1 in a different position and zeros elsewhere. The dot product with x picks out exactly one component of x. So:\n",
    "- Row 1 of `A` picks out x[0] = -2 because the 1 is in the 1st position or at index 0\n",
    "- Row 2 of `A` picks out x[1] = 4 because the 1 is in the 2nd position or at index 1\n",
    "- Row 3 of `A` picks out x[2] = 11 because the 1 is in the 3rd position or at index 2"
   ]
  },
  {
   "cell_type": "markdown",
   "id": "57141925",
   "metadata": {},
   "source": [
    "### d. \n",
    "**What if every row and column sum to 1, but the 1's are no longer on the diagonal? Multiple $A$ times $X$ below and explain the result. Create another matrix whose rows and columns sum to 1, but is not an identity matrix, and show how it permutes the values of $x$.**"
   ]
  },
  {
   "cell_type": "code",
   "execution_count": 5,
   "id": "83a9ed11",
   "metadata": {},
   "outputs": [],
   "source": [
    "A = np.array([ [0,0,1],\n",
    "              [1,0,0],\n",
    "              [0,1,0]])\n",
    "x = np.array([-2,4,11])\n"
   ]
  },
  {
   "cell_type": "code",
   "execution_count": 6,
   "id": "d84245ef",
   "metadata": {},
   "outputs": [
    {
     "name": "stdout",
     "output_type": "stream",
     "text": [
      "[11 -2  4]\n"
     ]
    }
   ],
   "source": [
    "print(A @ x)"
   ]
  },
  {
   "cell_type": "markdown",
   "id": "e024fa52",
   "metadata": {},
   "source": [
    "This is the same as described above -- because each row of A has exactly one 1, it selects oen element from x\n",
    "\n",
    "So:\n",
    "- Row 1 for `A` has the 1 at index 2, so it will pick the element x[2] = 11\n",
    "- Row 2 for `A` has the 1 at index 0, so it will pick the element x[0] = -2\n",
    "- Row 3 for `A` has the 1 at index 1, so it will pick the element x[1] = 4\n",
    "\n",
    "So the resulting matrix is [11, -2, 4]"
   ]
  },
  {
   "cell_type": "markdown",
   "id": "611c26c3",
   "metadata": {},
   "source": [
    "### e. \n",
    "**The next matrix $A$ could be a Markov transition matrix: Its columns sum to 1, and each entry $a_{ij}$ can be interpreted as the proportion of observations who moved from state $j$ to state $i$. Multiply $A$ by each of the vectors $e_1$, $e_2$, and $e_3$, and explain your results.**"
   ]
  },
  {
   "cell_type": "code",
   "execution_count": 7,
   "id": "aff4fb97",
   "metadata": {},
   "outputs": [
    {
     "name": "stdout",
     "output_type": "stream",
     "text": [
      "[[0.50052958 0.24049286 0.18358131]\n",
      " [0.02574731 0.39251588 0.37907577]\n",
      " [0.47372311 0.36699127 0.43734292]]\n"
     ]
    }
   ],
   "source": [
    "rng = np.random.default_rng(100)\n",
    "A = rng.random((3,3)) # Generate a random 3X3 matrix\n",
    "sums = np.sum(A,axis=0) # Column sums\n",
    "A = A/sums # Normalize the columns so they sum to 1\n",
    "print(A)"
   ]
  },
  {
   "cell_type": "code",
   "execution_count": 9,
   "id": "7843d3d3",
   "metadata": {},
   "outputs": [
    {
     "name": "stdout",
     "output_type": "stream",
     "text": [
      "[0.50052958 0.02574731 0.47372311]\n",
      "[0.24049286 0.39251588 0.36699127]\n",
      "[0.18358131 0.37907577 0.43734292]\n"
     ]
    }
   ],
   "source": [
    "print(A @ e_1)\n",
    "print(A @ e_2)\n",
    "print(A @ e_3)"
   ]
  },
  {
   "cell_type": "markdown",
   "id": "097edc63",
   "metadata": {},
   "source": [
    "For a Markov transition where entry a_ij represents the proportion moving from state j to state i:\n",
    "\n",
    "- For `A @ e_1` we see that this is equal to the first column of A. This shows where the observations starting in state 1 end up:\n",
    "    - 50.1% stay in state 1\n",
    "    - 2.6% move to state 2\n",
    "    - 47.4% move to state 3\n",
    "-  For `A @ e_2` we see that this is equal to the second column of A. This shows where the observations starting in state 2 end up:\n",
    "    - 24.0% move to state 1\n",
    "    - 39.3% stay in state 2\n",
    "    - 36.7% move to state 3\n",
    "-  For `A @ e_3` we see that this is equal to the third column of A. This shows where the observations starting in state 3 end up:\n",
    "    - 18.4% move to state 1\n",
    "    - 37.9% move in state 2\n",
    "    - 43.7% stay to state 3\n"
   ]
  },
  {
   "cell_type": "markdown",
   "id": "0647bfa7",
   "metadata": {},
   "source": [
    "### f. \n",
    "**For each of the vectors $e_1, e_2, e_3$, multiple $A$ times that vector 5 times. What answer do you get for each starting vector? Describe the behavior you observe.**"
   ]
  },
  {
   "cell_type": "code",
   "execution_count": 11,
   "id": "9dd41bcc",
   "metadata": {},
   "outputs": [
    {
     "name": "stdout",
     "output_type": "stream",
     "text": [
      "Starting with e_1 = [1, 0, 0]:\n",
      "[0.50052958 0.02574731 0.47372311]\n",
      "[0.34368862 0.20257047 0.45374091]\n",
      "[0.30404142 0.26036337 0.43559521]\n",
      "[0.29476439 0.27514859 0.43008701]\n",
      "[0.29266551 0.27862515 0.42870935]\n",
      "\n",
      "Starting with e_2 = [0, 1, 0]:\n",
      "[0.24049286 0.39251588 0.36699127]\n",
      "[0.28214379 0.29937825 0.41847795]\n",
      "[0.29004438 0.28341002 0.42654561]\n",
      "[0.29163968 0.2804039  0.42795643]\n",
      "[0.29197422 0.27979983 0.42822595]\n",
      "\n",
      "Starting with e_3 = [0, 0, 1]:\n",
      "[0.18358131 0.37907577 0.43734292]\n",
      "[0.26334088 0.31930609 0.41735304]\n",
      "[0.28521895 0.29032145 0.4244596 ]\n",
      "[0.29050361 0.28220175 0.42729464]\n",
      "[0.29171646 0.2802254  0.42805814]\n"
     ]
    }
   ],
   "source": [
    "e_1_copy = e_1.copy()\n",
    "e_2_copy = e_2.copy()\n",
    "e_3_copy = e_3.copy()\n",
    "\n",
    "print(\"Starting with e_1 = [1, 0, 0]:\")\n",
    "for i in range(5):\n",
    "    e_1_copy = A @ e_1_copy\n",
    "    print(e_1_copy)\n",
    "\n",
    "print(\"\\nStarting with e_2 = [0, 1, 0]:\")\n",
    "for i in range(5):\n",
    "    e_2_copy = A @ e_2_copy\n",
    "    print(e_2_copy)\n",
    "\n",
    "print(\"\\nStarting with e_3 = [0, 0, 1]:\")\n",
    "for i in range(5):\n",
    "    e_3_copy = A @ e_3_copy\n",
    "    print(e_3_copy)"
   ]
  },
  {
   "cell_type": "markdown",
   "id": "f8ef3b27",
   "metadata": {},
   "source": [
    "It appears that all three vectors e_1, e_2, and e_3 start t oconverge to approximately the same distribution with:\n",
    "- State 1: ~29.1%\n",
    "- State 2: ~28.0%\n",
    "- State 3: ~42.8%\n",
    "\n",
    "This shows that despite the vectors starting in completely different states, after just 5 multiplications, they all look nearly identical. The distributions are converging to an equilibrium where the proportionas stabalize. "
   ]
  },
  {
   "cell_type": "markdown",
   "id": "fa2c9a93",
   "metadata": {},
   "source": [
    "## Question 2\n",
    "**Let's consider a simple Markov transition matrix over two states:**\n",
    "$$\n",
    "T = \\left[ \\begin{array}{cc} p_{1\\leftarrow 1} &  p_{1\\leftarrow 2} \\\\\n",
    "p_{2 \\leftarrow 1} & p_{2 \\leftarrow 2} \\end{array}\\right] \n",
    "$$\n",
    "**The arrows help visualize the transition a bit: This is the same index notation as usual, $p_{ij}$, but writing it $p_{i \\leftarrow j}$ emphasizes that it's the proportion of times that state $j$ transitions to state $i$. Below, $T$ is given by**\n",
    "$$\n",
    "T = \\left[ \\begin{array}{cc} .25 & .5 \\\\\n",
    ".75 & .5 \\end{array}\\right].\n",
    "$$\n",
    "\n",
    "**Start in state 1, at the initial condition $[1,0]$. Multiply that vector by $T$. Write out the result in terms of the formula and compute the result in a code chunk below. What is this object you're looking at, in terms of proportions and transitions?**\n"
   ]
  },
  {
   "cell_type": "code",
   "execution_count": 6,
   "id": "cf99390f",
   "metadata": {},
   "outputs": [],
   "source": [
    "T = np.array([[ 1/4, 1/2],\n",
    "                 [ 3/4, 1/2 ]])"
   ]
  },
  {
   "cell_type": "code",
   "execution_count": 7,
   "id": "60224429",
   "metadata": {},
   "outputs": [
    {
     "name": "stdout",
     "output_type": "stream",
     "text": [
      "[1 0]\n"
     ]
    }
   ],
   "source": [
    "init_condition = np.array([1, 0])\n",
    "print(init_condition)"
   ]
  },
  {
   "cell_type": "code",
   "execution_count": 8,
   "id": "8500b7f5",
   "metadata": {},
   "outputs": [
    {
     "name": "stdout",
     "output_type": "stream",
     "text": [
      "[0.25 0.75]\n"
     ]
    }
   ],
   "source": [
    "p_1 = T @ init_condition\n",
    "print(p_1)"
   ]
  },
  {
   "cell_type": "markdown",
   "id": "eb772965",
   "metadata": {},
   "source": [
    "$$\n",
    "T\\left[ \\begin{array}{cc} 1 \\\\ 0 \\end{array}\\right] = \\left[ \\begin{array}{cc} p_{1\\leftarrow 1} &  p_{1\\leftarrow 2} \\\\\n",
    "p_{2 \\leftarrow 1} & p_{2 \\leftarrow 2} \\end{array}\\right]\\left[ \\begin{array}{cc} 1 \\\\ 0 \\end{array}\\right]\n",
    "$$\n",
    "\n",
    "$$\n",
    "T\\left[ \\begin{array}{cc} 1 \\\\ 0 \\end{array}\\right] = \\left[ \\begin{array}{cc} .25 & .5 \\\\\n",
    ".75 & .5 \\end{array}\\right]\\left[ \\begin{array}{cc} 1 \\\\ 0 \\end{array}\\right]\n",
    "$$\n",
    "\n",
    "First component (proportion in state 1 after one step):\n",
    "\n",
    "$$\n",
    "p_{1\\leftarrow 1}\\cdot 1 + p_{1\\leftarrow 2} \\cdot 0 = 0.25 \\cdot 1 + 0.5 \\cdot 0 = 0.25\n",
    "$$\n",
    "\n",
    "Second component (proportion in state 2 after one step):\n",
    "\n",
    "$$\n",
    "p_{2\\leftarrow 1}\\cdot 1 + p_{2\\leftarrow 2} \\cdot 0 = 0.75 \\cdot 1 + 0.5 \\cdot 0 = 0.75\n",
    "$$\n",
    "\n",
    "Result:\n",
    "$$\n",
    "\\left[\\begin {array}{cc} 0.25 \\\\ 0.75 \\end{array}\\right]\n",
    "$$"
   ]
  },
  {
   "cell_type": "markdown",
   "id": "bf8953e0",
   "metadata": {},
   "source": [
    "### What this means:\n",
    "This is the distribution after one step, starting from state 1:\n",
    "- 25% of the observtions remains in state 1 (via the $p_{1\\leftarrow 1} = 0.25$ transition)\n",
    "- 75% of the observations moved to state 2 (via the $p_{2\\leftarrow 1} = 0.75$ transition)"
   ]
  },
  {
   "cell_type": "markdown",
   "id": "6fe82ed8",
   "metadata": {},
   "source": [
    "**Multiple by $T$ again. What do you get? This isn't a column of $T$. Explain in words what it is. (Hint: A forecast of what in what period?)**"
   ]
  },
  {
   "cell_type": "code",
   "execution_count": 9,
   "id": "241ac246",
   "metadata": {},
   "outputs": [
    {
     "name": "stdout",
     "output_type": "stream",
     "text": [
      "[0.4375 0.5625]\n"
     ]
    }
   ],
   "source": [
    "p_2 = T @ p_1\n",
    "print(p_2)"
   ]
  },
  {
   "cell_type": "markdown",
   "id": "f716c559",
   "metadata": {},
   "source": [
    "This is a forecast for period two. It is the distribution after two steps starting from state 1.\n",
    "\n",
    "After step 1, there was:\n",
    "- 25% in state 1\n",
    "- 75% in state 2\n",
    "\n",
    "In step 2, the groups are transitioned again:\n",
    "\n",
    "For state 1:\n",
    "- From the 25% in state 1: 0.25 x 0.25 = 0.0625 stay in state 1\n",
    "- From the 75% in state 2: 0.75 x 0.5 = 0.375 move from state 2 to state 1\n",
    "- So, the total in state 1 is: 0.0625 + 0.375 = 0.4375\n",
    "\n",
    "For state 2:\n",
    "- From the 25% in state 1: 0.25 X 0.75 = 0.1875 move from state 1 to state 2\n",
    "- From the 75% in state 2: 0.75 X 0.5 = 0.375 stay in state 2\n",
    "- So the total in state 2 is: 0.1875 + 0.375 = 0.5625\n",
    "\n",
    "So, the distribution for period 2 is **[0.4375, 0.5625]**"
   ]
  },
  {
   "cell_type": "markdown",
   "id": "ccc05f94",
   "metadata": {},
   "source": [
    "**Keep multiplying the current vector of outcomes by $T$. When does it start to settle down without changing further?**\n"
   ]
  },
  {
   "cell_type": "code",
   "execution_count": 10,
   "id": "376d451d",
   "metadata": {},
   "outputs": [
    {
     "name": "stdout",
     "output_type": "stream",
     "text": [
      "[1 0]\n",
      "[0.25 0.75]\n",
      "[0.4375 0.5625]\n",
      "[0.390625 0.609375]\n",
      "[0.40234375 0.59765625]\n",
      "[0.39941406 0.60058594]\n",
      "[0.40014648 0.59985352]\n",
      "[0.39996338 0.60003662]\n",
      "[0.40000916 0.59999084]\n",
      "[0.39999771 0.60000229]\n",
      "[0.40000057 0.59999943]\n",
      "[0.39999986 0.60000014]\n",
      "[0.40000004 0.59999996]\n",
      "[0.39999999 0.60000001]\n",
      "[0.4 0.6]\n",
      "[0.4 0.6]\n",
      "[0.4 0.6]\n",
      "[0.4 0.6]\n",
      "[0.4 0.6]\n",
      "[0.4 0.6]\n",
      "[0.4 0.6]\n",
      "[0.4 0.6]\n",
      "[0.4 0.6]\n",
      "[0.4 0.6]\n",
      "[0.4 0.6]\n",
      "[0.4 0.6]\n",
      "[0.4 0.6]\n",
      "[0.4 0.6]\n",
      "[0.4 0.6]\n",
      "[0.4 0.6]\n",
      "[0.4 0.6]\n",
      "[0.4 0.6]\n",
      "[0.4 0.6]\n",
      "[0.4 0.6]\n",
      "[0.4 0.6]\n",
      "[0.4 0.6]\n",
      "[0.4 0.6]\n",
      "[0.4 0.6]\n",
      "[0.4 0.6]\n",
      "[0.4 0.6]\n",
      "[0.4 0.6]\n",
      "[0.4 0.6]\n",
      "[0.4 0.6]\n",
      "[0.4 0.6]\n",
      "[0.4 0.6]\n",
      "[0.4 0.6]\n",
      "[0.4 0.6]\n",
      "[0.4 0.6]\n",
      "[0.4 0.6]\n",
      "[0.4 0.6]\n"
     ]
    }
   ],
   "source": [
    "n = 50\n",
    "p = np.array([1, 0])\n",
    "for i in range(n):\n",
    "    print(p)\n",
    "    p = T @ p"
   ]
  },
  {
   "cell_type": "markdown",
   "id": "15b1c095",
   "metadata": {},
   "source": [
    "THe distribution starts to settle without changing further at Step 14 to `[0.4, 0.6]`"
   ]
  },
  {
   "cell_type": "markdown",
   "id": "de345121",
   "metadata": {},
   "source": [
    "**Do the above analysis again, starting from the initial condition $[0,1]$. Do you get a different result?**\n"
   ]
  },
  {
   "cell_type": "code",
   "execution_count": 11,
   "id": "91185c1e",
   "metadata": {},
   "outputs": [
    {
     "name": "stdout",
     "output_type": "stream",
     "text": [
      "[0 1]\n",
      "[0.5 0.5]\n",
      "[0.375 0.625]\n",
      "[0.40625 0.59375]\n",
      "[0.3984375 0.6015625]\n",
      "[0.40039062 0.59960938]\n",
      "[0.39990234 0.60009766]\n",
      "[0.40002441 0.59997559]\n",
      "[0.3999939 0.6000061]\n",
      "[0.40000153 0.59999847]\n",
      "[0.39999962 0.60000038]\n",
      "[0.4000001 0.5999999]\n",
      "[0.39999998 0.60000002]\n",
      "[0.40000001 0.59999999]\n",
      "[0.4 0.6]\n",
      "[0.4 0.6]\n",
      "[0.4 0.6]\n",
      "[0.4 0.6]\n",
      "[0.4 0.6]\n",
      "[0.4 0.6]\n",
      "[0.4 0.6]\n",
      "[0.4 0.6]\n",
      "[0.4 0.6]\n",
      "[0.4 0.6]\n",
      "[0.4 0.6]\n",
      "[0.4 0.6]\n",
      "[0.4 0.6]\n",
      "[0.4 0.6]\n",
      "[0.4 0.6]\n",
      "[0.4 0.6]\n",
      "[0.4 0.6]\n",
      "[0.4 0.6]\n",
      "[0.4 0.6]\n",
      "[0.4 0.6]\n",
      "[0.4 0.6]\n",
      "[0.4 0.6]\n",
      "[0.4 0.6]\n",
      "[0.4 0.6]\n",
      "[0.4 0.6]\n",
      "[0.4 0.6]\n",
      "[0.4 0.6]\n",
      "[0.4 0.6]\n",
      "[0.4 0.6]\n",
      "[0.4 0.6]\n",
      "[0.4 0.6]\n",
      "[0.4 0.6]\n",
      "[0.4 0.6]\n",
      "[0.4 0.6]\n",
      "[0.4 0.6]\n",
      "[0.4 0.6]\n"
     ]
    }
   ],
   "source": [
    "p = np.array([0, 1])\n",
    "for i in range(n):\n",
    "    print(p)\n",
    "    p = T @ p"
   ]
  },
  {
   "cell_type": "markdown",
   "id": "b76ba007",
   "metadata": {},
   "source": [
    "The distribution still settles around Step 14 to `[0.4, 0.6]`"
   ]
  },
  {
   "cell_type": "markdown",
   "id": "5f179306",
   "metadata": {},
   "source": [
    "**The take-away is that, in the long run, these chains settle down into the long-run proportions, and the sensitivity on initial conditions vanishes.**\n"
   ]
  },
  {
   "cell_type": "markdown",
   "id": "921592e9",
   "metadata": {},
   "source": [
    "## Question 3: Weather data\n",
    "\n",
    "**Load the `cville_weather.csv` data. This includes data from Jan 4, 2024 to Feb 2, 2025. Are there any missing data issues?**"
   ]
  },
  {
   "cell_type": "code",
   "execution_count": 39,
   "id": "54fd781d",
   "metadata": {},
   "outputs": [],
   "source": [
    "weather = pd.read_csv(\"cville_weather.csv\")"
   ]
  },
  {
   "cell_type": "code",
   "execution_count": 41,
   "id": "442a5317",
   "metadata": {},
   "outputs": [
    {
     "data": {
      "text/html": [
       "<div>\n",
       "<style scoped>\n",
       "    .dataframe tbody tr th:only-of-type {\n",
       "        vertical-align: middle;\n",
       "    }\n",
       "\n",
       "    .dataframe tbody tr th {\n",
       "        vertical-align: top;\n",
       "    }\n",
       "\n",
       "    .dataframe thead th {\n",
       "        text-align: right;\n",
       "    }\n",
       "</style>\n",
       "<table border=\"1\" class=\"dataframe\">\n",
       "  <thead>\n",
       "    <tr style=\"text-align: right;\">\n",
       "      <th></th>\n",
       "      <th>STATION</th>\n",
       "      <th>NAME</th>\n",
       "      <th>DATE</th>\n",
       "      <th>DAPR</th>\n",
       "      <th>DAPR_ATTRIBUTES</th>\n",
       "      <th>MDPR</th>\n",
       "      <th>MDPR_ATTRIBUTES</th>\n",
       "      <th>PRCP</th>\n",
       "      <th>PRCP_ATTRIBUTES</th>\n",
       "      <th>SNOW</th>\n",
       "      <th>SNOW_ATTRIBUTES</th>\n",
       "      <th>SNWD</th>\n",
       "      <th>SNWD_ATTRIBUTES</th>\n",
       "    </tr>\n",
       "  </thead>\n",
       "  <tbody>\n",
       "    <tr>\n",
       "      <th>0</th>\n",
       "      <td>US1VACRC002</td>\n",
       "      <td>CHARLOTTESVILLE 0.5 NNE, VA US</td>\n",
       "      <td>2024-01-04</td>\n",
       "      <td>NaN</td>\n",
       "      <td>NaN</td>\n",
       "      <td>NaN</td>\n",
       "      <td>NaN</td>\n",
       "      <td>0.03</td>\n",
       "      <td>,,N</td>\n",
       "      <td>NaN</td>\n",
       "      <td>NaN</td>\n",
       "      <td>NaN</td>\n",
       "      <td>NaN</td>\n",
       "    </tr>\n",
       "    <tr>\n",
       "      <th>1</th>\n",
       "      <td>US1VACRC002</td>\n",
       "      <td>CHARLOTTESVILLE 0.5 NNE, VA US</td>\n",
       "      <td>2024-01-07</td>\n",
       "      <td>NaN</td>\n",
       "      <td>NaN</td>\n",
       "      <td>NaN</td>\n",
       "      <td>NaN</td>\n",
       "      <td>1.08</td>\n",
       "      <td>,,N</td>\n",
       "      <td>NaN</td>\n",
       "      <td>NaN</td>\n",
       "      <td>NaN</td>\n",
       "      <td>NaN</td>\n",
       "    </tr>\n",
       "    <tr>\n",
       "      <th>2</th>\n",
       "      <td>US1VACRC002</td>\n",
       "      <td>CHARLOTTESVILLE 0.5 NNE, VA US</td>\n",
       "      <td>2024-01-09</td>\n",
       "      <td>NaN</td>\n",
       "      <td>NaN</td>\n",
       "      <td>NaN</td>\n",
       "      <td>NaN</td>\n",
       "      <td>0.24</td>\n",
       "      <td>,,N</td>\n",
       "      <td>NaN</td>\n",
       "      <td>NaN</td>\n",
       "      <td>NaN</td>\n",
       "      <td>NaN</td>\n",
       "    </tr>\n",
       "    <tr>\n",
       "      <th>3</th>\n",
       "      <td>US1VACRC002</td>\n",
       "      <td>CHARLOTTESVILLE 0.5 NNE, VA US</td>\n",
       "      <td>2024-01-10</td>\n",
       "      <td>NaN</td>\n",
       "      <td>NaN</td>\n",
       "      <td>NaN</td>\n",
       "      <td>NaN</td>\n",
       "      <td>3.00</td>\n",
       "      <td>,,N</td>\n",
       "      <td>NaN</td>\n",
       "      <td>NaN</td>\n",
       "      <td>NaN</td>\n",
       "      <td>NaN</td>\n",
       "    </tr>\n",
       "    <tr>\n",
       "      <th>4</th>\n",
       "      <td>US1VACRC002</td>\n",
       "      <td>CHARLOTTESVILLE 0.5 NNE, VA US</td>\n",
       "      <td>2024-01-24</td>\n",
       "      <td>NaN</td>\n",
       "      <td>NaN</td>\n",
       "      <td>NaN</td>\n",
       "      <td>NaN</td>\n",
       "      <td>0.00</td>\n",
       "      <td>,,N</td>\n",
       "      <td>0.0</td>\n",
       "      <td>,,N</td>\n",
       "      <td>NaN</td>\n",
       "      <td>NaN</td>\n",
       "    </tr>\n",
       "    <tr>\n",
       "      <th>5</th>\n",
       "      <td>US1VACRC002</td>\n",
       "      <td>CHARLOTTESVILLE 0.5 NNE, VA US</td>\n",
       "      <td>2024-01-25</td>\n",
       "      <td>NaN</td>\n",
       "      <td>NaN</td>\n",
       "      <td>NaN</td>\n",
       "      <td>NaN</td>\n",
       "      <td>0.18</td>\n",
       "      <td>,,N</td>\n",
       "      <td>NaN</td>\n",
       "      <td>NaN</td>\n",
       "      <td>NaN</td>\n",
       "      <td>NaN</td>\n",
       "    </tr>\n",
       "    <tr>\n",
       "      <th>6</th>\n",
       "      <td>US1VACRC002</td>\n",
       "      <td>CHARLOTTESVILLE 0.5 NNE, VA US</td>\n",
       "      <td>2024-01-26</td>\n",
       "      <td>NaN</td>\n",
       "      <td>NaN</td>\n",
       "      <td>NaN</td>\n",
       "      <td>NaN</td>\n",
       "      <td>0.08</td>\n",
       "      <td>,,N</td>\n",
       "      <td>NaN</td>\n",
       "      <td>NaN</td>\n",
       "      <td>NaN</td>\n",
       "      <td>NaN</td>\n",
       "    </tr>\n",
       "    <tr>\n",
       "      <th>7</th>\n",
       "      <td>US1VACRC002</td>\n",
       "      <td>CHARLOTTESVILLE 0.5 NNE, VA US</td>\n",
       "      <td>2024-01-27</td>\n",
       "      <td>NaN</td>\n",
       "      <td>NaN</td>\n",
       "      <td>NaN</td>\n",
       "      <td>NaN</td>\n",
       "      <td>0.00</td>\n",
       "      <td>,,N</td>\n",
       "      <td>0.0</td>\n",
       "      <td>,,N</td>\n",
       "      <td>NaN</td>\n",
       "      <td>NaN</td>\n",
       "    </tr>\n",
       "    <tr>\n",
       "      <th>8</th>\n",
       "      <td>US1VACRC002</td>\n",
       "      <td>CHARLOTTESVILLE 0.5 NNE, VA US</td>\n",
       "      <td>2024-01-28</td>\n",
       "      <td>NaN</td>\n",
       "      <td>NaN</td>\n",
       "      <td>NaN</td>\n",
       "      <td>NaN</td>\n",
       "      <td>1.29</td>\n",
       "      <td>,,N</td>\n",
       "      <td>NaN</td>\n",
       "      <td>NaN</td>\n",
       "      <td>NaN</td>\n",
       "      <td>NaN</td>\n",
       "    </tr>\n",
       "    <tr>\n",
       "      <th>9</th>\n",
       "      <td>US1VACRC002</td>\n",
       "      <td>CHARLOTTESVILLE 0.5 NNE, VA US</td>\n",
       "      <td>2024-01-29</td>\n",
       "      <td>NaN</td>\n",
       "      <td>NaN</td>\n",
       "      <td>NaN</td>\n",
       "      <td>NaN</td>\n",
       "      <td>0.19</td>\n",
       "      <td>,,N</td>\n",
       "      <td>NaN</td>\n",
       "      <td>NaN</td>\n",
       "      <td>NaN</td>\n",
       "      <td>NaN</td>\n",
       "    </tr>\n",
       "  </tbody>\n",
       "</table>\n",
       "</div>"
      ],
      "text/plain": [
       "       STATION                            NAME        DATE  DAPR  \\\n",
       "0  US1VACRC002  CHARLOTTESVILLE 0.5 NNE, VA US  2024-01-04   NaN   \n",
       "1  US1VACRC002  CHARLOTTESVILLE 0.5 NNE, VA US  2024-01-07   NaN   \n",
       "2  US1VACRC002  CHARLOTTESVILLE 0.5 NNE, VA US  2024-01-09   NaN   \n",
       "3  US1VACRC002  CHARLOTTESVILLE 0.5 NNE, VA US  2024-01-10   NaN   \n",
       "4  US1VACRC002  CHARLOTTESVILLE 0.5 NNE, VA US  2024-01-24   NaN   \n",
       "5  US1VACRC002  CHARLOTTESVILLE 0.5 NNE, VA US  2024-01-25   NaN   \n",
       "6  US1VACRC002  CHARLOTTESVILLE 0.5 NNE, VA US  2024-01-26   NaN   \n",
       "7  US1VACRC002  CHARLOTTESVILLE 0.5 NNE, VA US  2024-01-27   NaN   \n",
       "8  US1VACRC002  CHARLOTTESVILLE 0.5 NNE, VA US  2024-01-28   NaN   \n",
       "9  US1VACRC002  CHARLOTTESVILLE 0.5 NNE, VA US  2024-01-29   NaN   \n",
       "\n",
       "  DAPR_ATTRIBUTES  MDPR MDPR_ATTRIBUTES  PRCP PRCP_ATTRIBUTES  SNOW  \\\n",
       "0             NaN   NaN             NaN  0.03             ,,N   NaN   \n",
       "1             NaN   NaN             NaN  1.08             ,,N   NaN   \n",
       "2             NaN   NaN             NaN  0.24             ,,N   NaN   \n",
       "3             NaN   NaN             NaN  3.00             ,,N   NaN   \n",
       "4             NaN   NaN             NaN  0.00             ,,N   0.0   \n",
       "5             NaN   NaN             NaN  0.18             ,,N   NaN   \n",
       "6             NaN   NaN             NaN  0.08             ,,N   NaN   \n",
       "7             NaN   NaN             NaN  0.00             ,,N   0.0   \n",
       "8             NaN   NaN             NaN  1.29             ,,N   NaN   \n",
       "9             NaN   NaN             NaN  0.19             ,,N   NaN   \n",
       "\n",
       "  SNOW_ATTRIBUTES  SNWD SNWD_ATTRIBUTES  \n",
       "0             NaN   NaN             NaN  \n",
       "1             NaN   NaN             NaN  \n",
       "2             NaN   NaN             NaN  \n",
       "3             NaN   NaN             NaN  \n",
       "4             ,,N   NaN             NaN  \n",
       "5             NaN   NaN             NaN  \n",
       "6             NaN   NaN             NaN  \n",
       "7             ,,N   NaN             NaN  \n",
       "8             NaN   NaN             NaN  \n",
       "9             NaN   NaN             NaN  "
      ]
     },
     "execution_count": 41,
     "metadata": {},
     "output_type": "execute_result"
    }
   ],
   "source": [
    "weather.head(10)"
   ]
  },
  {
   "cell_type": "markdown",
   "id": "f004d865",
   "metadata": {},
   "source": [
    "Just from an initial glance of the dataset, many columns contain missing values."
   ]
  },
  {
   "cell_type": "code",
   "execution_count": 43,
   "id": "e041c5e6",
   "metadata": {},
   "outputs": [
    {
     "name": "stdout",
     "output_type": "stream",
     "text": [
      "12\n"
     ]
    }
   ],
   "source": [
    "print(weather['PRCP'].isna().sum())"
   ]
  },
  {
   "cell_type": "markdown",
   "id": "d061997c",
   "metadata": {},
   "source": [
    "There are 12 missing values in the `PRCP` column"
   ]
  },
  {
   "cell_type": "code",
   "execution_count": 47,
   "id": "bf4c5cf7",
   "metadata": {},
   "outputs": [],
   "source": [
    "weather_clean = weather.dropna(subset=['PRCP']).reset_index(drop=True)"
   ]
  },
  {
   "cell_type": "markdown",
   "id": "8765c304",
   "metadata": {},
   "source": [
    "**Based on the precipitation variable, `PRCP`, make a new variable called `rain` that takes the value 1 if `PRCP`>0 and 0 otherwise.**"
   ]
  },
  {
   "cell_type": "code",
   "execution_count": 48,
   "id": "80074a53",
   "metadata": {},
   "outputs": [],
   "source": [
    "weather_clean['rain'] = (weather_clean['PRCP'] > 0).astype(int)"
   ]
  },
  {
   "cell_type": "markdown",
   "id": "476e296c",
   "metadata": {},
   "source": [
    "**Build a two-state Markov chain over the states 0 and 1 for the `rain` variable.**\n"
   ]
  },
  {
   "cell_type": "code",
   "execution_count": 55,
   "id": "2a2e642c",
   "metadata": {},
   "outputs": [
    {
     "data": {
      "text/html": [
       "<div>\n",
       "<style scoped>\n",
       "    .dataframe tbody tr th:only-of-type {\n",
       "        vertical-align: middle;\n",
       "    }\n",
       "\n",
       "    .dataframe tbody tr th {\n",
       "        vertical-align: top;\n",
       "    }\n",
       "\n",
       "    .dataframe thead th {\n",
       "        text-align: right;\n",
       "    }\n",
       "</style>\n",
       "<table border=\"1\" class=\"dataframe\">\n",
       "  <thead>\n",
       "    <tr style=\"text-align: right;\">\n",
       "      <th>rain</th>\n",
       "      <th>0</th>\n",
       "      <th>1</th>\n",
       "    </tr>\n",
       "    <tr>\n",
       "      <th>rain</th>\n",
       "      <th></th>\n",
       "      <th></th>\n",
       "    </tr>\n",
       "  </thead>\n",
       "  <tbody>\n",
       "    <tr>\n",
       "      <th>0.0</th>\n",
       "      <td>0.744292</td>\n",
       "      <td>0.255708</td>\n",
       "    </tr>\n",
       "    <tr>\n",
       "      <th>1.0</th>\n",
       "      <td>0.318436</td>\n",
       "      <td>0.681564</td>\n",
       "    </tr>\n",
       "  </tbody>\n",
       "</table>\n",
       "</div>"
      ],
      "text/plain": [
       "rain         0         1\n",
       "rain                    \n",
       "0.0   0.744292  0.255708\n",
       "1.0   0.318436  0.681564"
      ]
     },
     "execution_count": 55,
     "metadata": {},
     "output_type": "execute_result"
    }
   ],
   "source": [
    "transitions = pd.crosstab(weather_clean['rain'].shift(1), weather_clean['rain'], normalize = 'index')\n",
    "transitions"
   ]
  },
  {
   "cell_type": "code",
   "execution_count": 56,
   "id": "d1f2bc76",
   "metadata": {},
   "outputs": [],
   "source": [
    "p00 = transitions[0][0]\n",
    "p01 = transitions[0][1]\n",
    "p10 = transitions[1][0]\n",
    "p11 = transitions[1][1]"
   ]
  },
  {
   "cell_type": "code",
   "execution_count": 58,
   "id": "a874dd15",
   "metadata": {},
   "outputs": [
    {
     "name": "stdout",
     "output_type": "stream",
     "text": [
      "[[0.74429224 0.31843575]\n",
      " [0.25570776 0.68156425]]\n"
     ]
    }
   ],
   "source": [
    "P = np.array([[p00, p01], [p10, p11]])\n",
    "print(P)"
   ]
  },
  {
   "cell_type": "markdown",
   "id": "6b464ed6",
   "metadata": {},
   "source": [
    "**For your chain from c, how likely is it to rain if it was rainy yesterday? How likely is it to rain if it was clear yesterday?**"
   ]
  },
  {
   "cell_type": "code",
   "execution_count": 60,
   "id": "217e96c1",
   "metadata": {},
   "outputs": [
    {
     "name": "stdout",
     "output_type": "stream",
     "text": [
      "\n",
      "P(rain | rain yesterday) = 0.6816 (68.16%)\n",
      "P(rain | no rain yesterday) = 0.2557 (25.57%)\n"
     ]
    }
   ],
   "source": [
    "print(f\"\\nP(rain | rain yesterday) = {p11:.4f} ({p11*100:.2f}%)\")\n",
    "print(f\"P(rain | no rain yesterday) = {p10:.4f} ({p10*100:.2f}%)\")"
   ]
  },
  {
   "cell_type": "markdown",
   "id": "50b5addf",
   "metadata": {},
   "source": [
    "**Starting from a clear day, forecast the distribution. How quickly does it converge to a fixed result? What if you start from a rainy day?**"
   ]
  },
  {
   "cell_type": "code",
   "execution_count": 68,
   "id": "29c6685d",
   "metadata": {},
   "outputs": [
    {
     "name": "stdout",
     "output_type": "stream",
     "text": [
      "\n",
      "Starting from a clear day:\n",
      "Day 0: P(rain) = 0.0\n",
      "Day 1: P(rain) = 0.2557077625570776\n",
      "Day 2: P(rain) = 0.3646025710601223\n",
      "Day 3: P(rain) = 0.4109761312537354\n",
      "Day 4: P(rain) = 0.4307246125137077\n",
      "Day 5: P(rain) = 0.4391346312926669\n",
      "Day 6: P(rain) = 0.44271609231396597\n",
      "Day 7: P(rain) = 0.444241280709404\n",
      "Day 8: P(rain) = 0.4448907920757835\n",
      "Day 9: P(rain) = 0.4451673907021027\n",
      "Day 10: P(rain) = 0.4452851820203796\n",
      "Day 11: P(rain) = 0.4453353442169387\n",
      "Day 12: P(rain) = 0.4453567061135576\n",
      "Day 13: P(rain) = 0.44536580321572733\n",
      "Day 14: P(rain) = 0.44536967727566507\n",
      "Day 15: P(rain) = 0.44537132706920607\n",
      "Day 16: P(rain) = 0.4453720296444815\n",
      "Day 17: P(rain) = 0.4453723288407176\n",
      "Day 18: P(rain) = 0.4453724562553744\n",
      "Day 19: P(rain) = 0.4453725105157321\n",
      "Day 20: P(rain) = 0.4453725336228572\n",
      "Day 21: P(rain) = 0.44537254346317623\n",
      "Day 22: P(rain) = 0.4453725476537399\n",
      "Day 23: P(rain) = 0.44537254943831855\n",
      "Day 24: P(rain) = 0.44537255019829297\n",
      "Day 25: P(rain) = 0.44537255052193303\n",
      "Day 26: P(rain) = 0.4453725506597572\n",
      "Day 27: P(rain) = 0.44537255071845055\n",
      "Day 28: P(rain) = 0.4453725507434455\n",
      "Day 29: P(rain) = 0.44537255075408977\n",
      "Day 30: P(rain) = 0.4453725507586227\n",
      "Day 31: P(rain) = 0.44537255076055304\n",
      "Day 32: P(rain) = 0.4453725507613751\n",
      "Day 33: P(rain) = 0.44537255076172516\n",
      "Day 34: P(rain) = 0.44537255076187426\n",
      "Day 35: P(rain) = 0.44537255076193777\n",
      "Day 36: P(rain) = 0.44537255076196475\n",
      "Day 37: P(rain) = 0.4453725507619763\n",
      "Day 38: P(rain) = 0.4453725507619811\n",
      "Day 39: P(rain) = 0.44537255076198323\n",
      "Day 40: P(rain) = 0.4453725507619841\n",
      "Day 41: P(rain) = 0.4453725507619845\n",
      "Day 42: P(rain) = 0.4453725507619846\n",
      "Day 43: P(rain) = 0.4453725507619847\n",
      "Day 44: P(rain) = 0.4453725507619847\n",
      "Day 45: P(rain) = 0.4453725507619847\n",
      "Day 46: P(rain) = 0.4453725507619847\n",
      "Day 47: P(rain) = 0.4453725507619847\n",
      "Day 48: P(rain) = 0.4453725507619847\n",
      "Day 49: P(rain) = 0.4453725507619847\n"
     ]
    }
   ],
   "source": [
    "print(\"\\nStarting from a clear day:\")\n",
    "\n",
    "init_condition = np.array([1.0 , 0.0])\n",
    "for i in range(50):\n",
    "    print(f\"Day {i}: P(rain) = {init_condition[1]}\")\n",
    "    init_condition = P @ init_condition"
   ]
  },
  {
   "cell_type": "markdown",
   "id": "a9022a38",
   "metadata": {},
   "source": [
    "The distribution appears to starts converging around day 11 at ~0.4453. The distribution starts to give a fized result by day 43."
   ]
  },
  {
   "cell_type": "code",
   "execution_count": 69,
   "id": "3d53c033",
   "metadata": {},
   "outputs": [
    {
     "name": "stdout",
     "output_type": "stream",
     "text": [
      "\n",
      "Starting from a rainy day:\n",
      "Day 0: P(rain) = 1.0\n",
      "Day 1: P(rain) = 0.6815642458100558\n",
      "Day 2: P(rain) = 0.5459563153887164\n",
      "Day 3: P(rain) = 0.4882067990382702\n",
      "Day 4: P(rain) = 0.46361379309570877\n",
      "Day 5: P(rain) = 0.45314070207239\n",
      "Day 6: P(rain) = 0.4486806683604111\n",
      "Day 7: P(rain) = 0.44678133408863807\n",
      "Day 8: P(rain) = 0.4459724902751389\n",
      "Day 9: P(rain) = 0.4456280388932213\n",
      "Day 10: P(rain) = 0.4454813520390662\n",
      "Day 11: P(rain) = 0.44541888449121625\n",
      "Day 12: P(rain) = 0.4453922822809714\n",
      "Day 13: P(rain) = 0.44538095355726975\n",
      "Day 14: P(rain) = 0.44537612914683444\n",
      "Day 15: P(rain) = 0.44537407464037265\n",
      "Day 16: P(rain) = 0.44537319971547606\n",
      "Day 17: P(rain) = 0.4453728271230365\n",
      "Day 18: P(rain) = 0.44537266845213047\n",
      "Day 19: P(rain) = 0.4453726008810964\n",
      "Day 20: P(rain) = 0.4453725721055335\n",
      "Day 21: P(rain) = 0.44537255985127344\n",
      "Day 22: P(rain) = 0.4453725546327174\n",
      "Day 23: P(rain) = 0.4453725524103614\n",
      "Day 24: P(rain) = 0.4453725514639567\n",
      "Day 25: P(rain) = 0.4453725510609241\n",
      "Day 26: P(rain) = 0.4453725508892901\n",
      "Day 27: P(rain) = 0.44537255081619864\n",
      "Day 28: P(rain) = 0.44537255078507215\n",
      "Day 29: P(rain) = 0.44537255077181676\n",
      "Day 30: P(rain) = 0.4453725507661718\n",
      "Day 31: P(rain) = 0.44537255076376786\n",
      "Day 32: P(rain) = 0.4453725507627441\n",
      "Day 33: P(rain) = 0.4453725507623082\n",
      "Day 34: P(rain) = 0.44537255076212257\n",
      "Day 35: P(rain) = 0.44537255076204346\n",
      "Day 36: P(rain) = 0.44537255076200977\n",
      "Day 37: P(rain) = 0.4453725507619954\n",
      "Day 38: P(rain) = 0.4453725507619893\n",
      "Day 39: P(rain) = 0.4453725507619867\n",
      "Day 40: P(rain) = 0.44537255076198556\n",
      "Day 41: P(rain) = 0.44537255076198506\n",
      "Day 42: P(rain) = 0.44537255076198484\n",
      "Day 43: P(rain) = 0.44537255076198473\n",
      "Day 44: P(rain) = 0.4453725507619847\n",
      "Day 45: P(rain) = 0.4453725507619846\n",
      "Day 46: P(rain) = 0.4453725507619846\n",
      "Day 47: P(rain) = 0.4453725507619846\n",
      "Day 48: P(rain) = 0.4453725507619846\n",
      "Day 49: P(rain) = 0.4453725507619846\n"
     ]
    }
   ],
   "source": [
    "print(\"\\nStarting from a rainy day:\")\n",
    "\n",
    "init_condition = np.array([0.0 , 1.0])\n",
    "for i in range(50):\n",
    "    print(f\"Day {i}: P(rain) = {init_condition[1]}\")\n",
    "    init_condition = P @ init_condition"
   ]
  },
  {
   "cell_type": "markdown",
   "id": "51972402",
   "metadata": {},
   "source": [
    "The distribution starts converging around day 12 with ~0.4454. It converges to a fixed result starting on day 45."
   ]
  },
  {
   "cell_type": "markdown",
   "id": "98985dd1",
   "metadata": {},
   "source": [
    "**Conditional on being rainy, plot a KDE of the `PRCP` variable.**"
   ]
  },
  {
   "cell_type": "code",
   "execution_count": 72,
   "id": "7545ce4a",
   "metadata": {},
   "outputs": [],
   "source": [
    "rainy_days = weather_clean[weather_clean['rain'] == 1]['PRCP']"
   ]
  },
  {
   "cell_type": "code",
   "execution_count": 74,
   "id": "eb5c87ea",
   "metadata": {},
   "outputs": [
    {
     "data": {
      "image/png": "[encoded data removed]",
      "text/plain": [
       "<Figure size 1000x500 with 1 Axes>"
      ]
     },
     "metadata": {},
     "output_type": "display_data"
    }
   ],
   "source": [
    "plt.figure(figsize=(10,5))\n",
    "rainy_days.plot(kind = 'kde', linewidth = 2)\n",
    "plt.xlabel(\"Precipitation (inches)\")\n",
    "plt.ylabel(\"Density\")\n",
    "plt.title(\"KDE of Precipitation (Rainy Days Only)\")\n",
    "plt.grid(alpha = 0.3)\n",
    "plt.tight_layout()\n",
    "plt.show()"
   ]
  },
  {
   "cell_type": "markdown",
   "id": "0ac19890",
   "metadata": {},
   "source": [
    "**Describe one way of making your model better for forecasting and simulation the weather.**"
   ]
  },
  {
   "cell_type": "markdown",
   "id": "3d3598be",
   "metadata": {},
   "source": [
    "One way of making the model better for forecasting is using a multi-state model with different categories for precipitation. Precipitation can be categorized as none, light, moderate, or heavy instead of just a binary rain/no rain."
   ]
  },
  {
   "cell_type": "markdown",
   "id": "be50f0f2",
   "metadata": {},
   "source": [
    "**Congratulations, you now are a non-parametric meteorologist!**"
   ]
  },
  {
   "cell_type": "markdown",
   "id": "b953c2c4",
   "metadata": {},
   "source": [
    "## Question 4: Taxicab trajectories \n",
    "**Using the pickled taxicab data, we want to complete the exercise from class.**\n",
    "\n",
    "- **For the taxicab trajectory data, determine your state space and clean your sequences of cab rides.**\n"
   ]
  },
  {
   "cell_type": "code",
   "execution_count": 3,
   "id": "71b2cd62",
   "metadata": {},
   "outputs": [],
   "source": [
    "import pickle"
   ]
  },
  {
   "cell_type": "code",
   "execution_count": 4,
   "id": "4676ecc3",
   "metadata": {},
   "outputs": [
    {
     "data": {
      "text/plain": [
       "1000"
      ]
     },
     "execution_count": 4,
     "metadata": {},
     "output_type": "execute_result"
    }
   ],
   "source": [
    "with open(\"taxicab.pkl\", 'rb') as f:\n",
    "    data = pickle.load(f)\n",
    "\n",
    "len(data)"
   ]
  },
  {
   "cell_type": "code",
   "execution_count": 5,
   "metadata": {},
   "outputs": [],
   "source": [
    "states = set(data[0])"
   ]
  },
  {
   "cell_type": "code",
   "execution_count": 6,
   "metadata": {},
   "outputs": [],
   "source": [
    "for i in range(1, len(data)):\n",
    "    new_trip =  data[i]\n",
    "    new_states = set(new_trip)\n",
    "    states = states.union(new_states)\n",
    "states = list(states)"
   ]
  },
  {
   "cell_type": "markdown",
   "id": "36ab05f0",
   "metadata": {},
   "source": [
    "- **Compute the transition matrix for the taxicab data between neighborhoods in Manhattan. Plot it in a heat map. What are the most common routes?**"
   ]
  },
  {
   "cell_type": "code",
   "execution_count": 7,
   "id": "46d51627",
   "metadata": {},
   "outputs": [
    {
     "data": {
      "text/plain": [
       "array([[9.80000e+02, 2.30000e+01, 6.00000e+01, ..., 3.30000e+01,\n",
       "        2.00000e+01, 1.36400e+03],\n",
       "       [3.30000e+01, 1.60010e+04, 1.03760e+04, ..., 5.56000e+02,\n",
       "        4.63000e+02, 2.10500e+03],\n",
       "       [1.74000e+02, 8.13900e+03, 8.80490e+04, ..., 2.65900e+03,\n",
       "        2.10200e+03, 1.09410e+04],\n",
       "       ...,\n",
       "       [2.90000e+01, 6.80000e+02, 1.85300e+03, ..., 6.00930e+04,\n",
       "        1.56800e+03, 7.18100e+03],\n",
       "       [2.10000e+01, 6.12000e+02, 2.42000e+03, ..., 1.32300e+03,\n",
       "        1.39800e+04, 1.90800e+03],\n",
       "       [1.48400e+03, 1.94900e+03, 1.00100e+04, ..., 8.26000e+03,\n",
       "        2.27800e+03, 3.46322e+05]], shape=(38, 38))"
      ]
     },
     "execution_count": 7,
     "metadata": {},
     "output_type": "execute_result"
    }
   ],
   "source": [
    "tr_counts = np.zeros((len(states), len(states)))\n",
    "for trip in data:\n",
    "    seq = np.array(trip)\n",
    "    for t in range(1, len(seq)):\n",
    "        x_tm1 = seq[t-1]\n",
    "        x_t = seq[t]\n",
    "        index_from = states.index(x_tm1)\n",
    "        index_to = states.index(x_t)\n",
    "        tr_counts[index_from, index_to] += 1\n",
    "tr_counts"
   ]
  },
  {
   "cell_type": "code",
   "execution_count": 8,
   "metadata": {},
   "outputs": [
    {
     "data": {
      "text/html": [
       "<div>\n",
       "<style scoped>\n",
       "    .dataframe tbody tr th:only-of-type {\n",
       "        vertical-align: middle;\n",
       "    }\n",
       "\n",
       "    .dataframe tbody tr th {\n",
       "        vertical-align: top;\n",
       "    }\n",
       "\n",
       "    .dataframe thead th {\n",
       "        text-align: right;\n",
       "    }\n",
       "</style>\n",
       "<table border=\"1\" class=\"dataframe\">\n",
       "  <thead>\n",
       "    <tr style=\"text-align: right;\">\n",
       "      <th></th>\n",
       "      <th>Inwood</th>\n",
       "      <th>Stuyvesant Town</th>\n",
       "      <th>Gramercy</th>\n",
       "      <th>Washington Heights</th>\n",
       "      <th>East Village</th>\n",
       "      <th>Outside Manhattan</th>\n",
       "      <th>Roosevelt Island</th>\n",
       "      <th>Theater District</th>\n",
       "      <th>Chelsea</th>\n",
       "      <th>Tribeca</th>\n",
       "      <th>...</th>\n",
       "      <th>Central Park</th>\n",
       "      <th>Flatiron District</th>\n",
       "      <th>Midtown</th>\n",
       "      <th>Little Italy</th>\n",
       "      <th>Governors Island</th>\n",
       "      <th>Marble Hill</th>\n",
       "      <th>East Harlem</th>\n",
       "      <th>Battery Park City</th>\n",
       "      <th>Chinatown</th>\n",
       "      <th>Hell's Kitchen</th>\n",
       "    </tr>\n",
       "  </thead>\n",
       "  <tbody>\n",
       "    <tr>\n",
       "      <th>Inwood</th>\n",
       "      <td>0.07</td>\n",
       "      <td>0.00</td>\n",
       "      <td>0.00</td>\n",
       "      <td>0.08</td>\n",
       "      <td>0.01</td>\n",
       "      <td>0.07</td>\n",
       "      <td>0.0</td>\n",
       "      <td>0.03</td>\n",
       "      <td>0.04</td>\n",
       "      <td>0.00</td>\n",
       "      <td>...</td>\n",
       "      <td>0.01</td>\n",
       "      <td>0.00</td>\n",
       "      <td>0.06</td>\n",
       "      <td>0.0</td>\n",
       "      <td>0.0</td>\n",
       "      <td>0.0</td>\n",
       "      <td>0.03</td>\n",
       "      <td>0.00</td>\n",
       "      <td>0.00</td>\n",
       "      <td>0.10</td>\n",
       "    </tr>\n",
       "    <tr>\n",
       "      <th>Stuyvesant Town</th>\n",
       "      <td>0.00</td>\n",
       "      <td>0.14</td>\n",
       "      <td>0.09</td>\n",
       "      <td>0.00</td>\n",
       "      <td>0.10</td>\n",
       "      <td>0.05</td>\n",
       "      <td>0.0</td>\n",
       "      <td>0.01</td>\n",
       "      <td>0.07</td>\n",
       "      <td>0.01</td>\n",
       "      <td>...</td>\n",
       "      <td>0.00</td>\n",
       "      <td>0.02</td>\n",
       "      <td>0.13</td>\n",
       "      <td>0.0</td>\n",
       "      <td>0.0</td>\n",
       "      <td>0.0</td>\n",
       "      <td>0.01</td>\n",
       "      <td>0.00</td>\n",
       "      <td>0.00</td>\n",
       "      <td>0.02</td>\n",
       "    </tr>\n",
       "    <tr>\n",
       "      <th>Gramercy</th>\n",
       "      <td>0.00</td>\n",
       "      <td>0.02</td>\n",
       "      <td>0.18</td>\n",
       "      <td>0.00</td>\n",
       "      <td>0.08</td>\n",
       "      <td>0.05</td>\n",
       "      <td>0.0</td>\n",
       "      <td>0.02</td>\n",
       "      <td>0.10</td>\n",
       "      <td>0.01</td>\n",
       "      <td>...</td>\n",
       "      <td>0.00</td>\n",
       "      <td>0.03</td>\n",
       "      <td>0.13</td>\n",
       "      <td>0.0</td>\n",
       "      <td>0.0</td>\n",
       "      <td>0.0</td>\n",
       "      <td>0.00</td>\n",
       "      <td>0.01</td>\n",
       "      <td>0.00</td>\n",
       "      <td>0.02</td>\n",
       "    </tr>\n",
       "    <tr>\n",
       "      <th>Washington Heights</th>\n",
       "      <td>0.01</td>\n",
       "      <td>0.00</td>\n",
       "      <td>0.00</td>\n",
       "      <td>0.15</td>\n",
       "      <td>0.01</td>\n",
       "      <td>0.06</td>\n",
       "      <td>0.0</td>\n",
       "      <td>0.02</td>\n",
       "      <td>0.03</td>\n",
       "      <td>0.00</td>\n",
       "      <td>...</td>\n",
       "      <td>0.01</td>\n",
       "      <td>0.00</td>\n",
       "      <td>0.05</td>\n",
       "      <td>0.0</td>\n",
       "      <td>0.0</td>\n",
       "      <td>0.0</td>\n",
       "      <td>0.02</td>\n",
       "      <td>0.00</td>\n",
       "      <td>0.00</td>\n",
       "      <td>0.07</td>\n",
       "    </tr>\n",
       "    <tr>\n",
       "      <th>East Village</th>\n",
       "      <td>0.00</td>\n",
       "      <td>0.02</td>\n",
       "      <td>0.07</td>\n",
       "      <td>0.00</td>\n",
       "      <td>0.27</td>\n",
       "      <td>0.08</td>\n",
       "      <td>0.0</td>\n",
       "      <td>0.01</td>\n",
       "      <td>0.07</td>\n",
       "      <td>0.01</td>\n",
       "      <td>...</td>\n",
       "      <td>0.00</td>\n",
       "      <td>0.02</td>\n",
       "      <td>0.09</td>\n",
       "      <td>0.0</td>\n",
       "      <td>0.0</td>\n",
       "      <td>0.0</td>\n",
       "      <td>0.01</td>\n",
       "      <td>0.01</td>\n",
       "      <td>0.01</td>\n",
       "      <td>0.02</td>\n",
       "    </tr>\n",
       "  </tbody>\n",
       "</table>\n",
       "<p>5 rows × 38 columns</p>\n",
       "</div>"
      ],
      "text/plain": [
       "                    Inwood  Stuyvesant Town  Gramercy  Washington Heights  \\\n",
       "Inwood                0.07             0.00      0.00                0.08   \n",
       "Stuyvesant Town       0.00             0.14      0.09                0.00   \n",
       "Gramercy              0.00             0.02      0.18                0.00   \n",
       "Washington Heights    0.01             0.00      0.00                0.15   \n",
       "East Village          0.00             0.02      0.07                0.00   \n",
       "\n",
       "                    East Village  Outside Manhattan  Roosevelt Island  \\\n",
       "Inwood                      0.01               0.07               0.0   \n",
       "Stuyvesant Town             0.10               0.05               0.0   \n",
       "Gramercy                    0.08               0.05               0.0   \n",
       "Washington Heights          0.01               0.06               0.0   \n",
       "East Village                0.27               0.08               0.0   \n",
       "\n",
       "                    Theater District  Chelsea  Tribeca  ...  Central Park  \\\n",
       "Inwood                          0.03     0.04     0.00  ...          0.01   \n",
       "Stuyvesant Town                 0.01     0.07     0.01  ...          0.00   \n",
       "Gramercy                        0.02     0.10     0.01  ...          0.00   \n",
       "Washington Heights              0.02     0.03     0.00  ...          0.01   \n",
       "East Village                    0.01     0.07     0.01  ...          0.00   \n",
       "\n",
       "                    Flatiron District  Midtown  Little Italy  \\\n",
       "Inwood                           0.00     0.06           0.0   \n",
       "Stuyvesant Town                  0.02     0.13           0.0   \n",
       "Gramercy                         0.03     0.13           0.0   \n",
       "Washington Heights               0.00     0.05           0.0   \n",
       "East Village                     0.02     0.09           0.0   \n",
       "\n",
       "                    Governors Island  Marble Hill  East Harlem  \\\n",
       "Inwood                           0.0          0.0         0.03   \n",
       "Stuyvesant Town                  0.0          0.0         0.01   \n",
       "Gramercy                         0.0          0.0         0.00   \n",
       "Washington Heights               0.0          0.0         0.02   \n",
       "East Village                     0.0          0.0         0.01   \n",
       "\n",
       "                    Battery Park City  Chinatown  Hell's Kitchen  \n",
       "Inwood                           0.00       0.00            0.10  \n",
       "Stuyvesant Town                  0.00       0.00            0.02  \n",
       "Gramercy                         0.01       0.00            0.02  \n",
       "Washington Heights               0.00       0.00            0.07  \n",
       "East Village                     0.01       0.01            0.02  \n",
       "\n",
       "[5 rows x 38 columns]"
      ]
     },
     "execution_count": 8,
     "metadata": {},
     "output_type": "execute_result"
    }
   ],
   "source": [
    "sums = tr_counts.sum(axis = 1, keepdims=True)\n",
    "tr_pr = np.divide(tr_counts, sums, out = np.zeros_like(tr_counts), where = sums != 0)\n",
    "tr_df = pd.DataFrame(np.round(tr_pr, 2), index = states, columns = states)\n",
    "tr_df.head()"
   ]
  },
  {
   "cell_type": "code",
   "execution_count": 11,
   "id": "beb2be45",
   "metadata": {},
   "outputs": [
    {
     "data": {
      "image/png": "[encoded data removed]",
      "text/plain": [
       "<Figure size 1200x1000 with 2 Axes>"
      ]
     },
     "metadata": {},
     "output_type": "display_data"
    }
   ],
   "source": [
    "plt.figure(figsize=(12, 10))\n",
    "\n",
    "sns.heatmap(tr_pr, \n",
    "            cmap = 'YlOrRd', \n",
    "            square=True, \n",
    "            xticklabels = states, \n",
    "            yticklabels = states, \n",
    "            cbar_kws={'label': 'Transition probabilities'},\n",
    "            vmin=0, vmax=0.5,\n",
    "            linewidths=0.5,\n",
    "            linecolor='lightgray')\n",
    "\n",
    "plt.title(\"Transition probabilities\")\n",
    "plt.xlabel(\"...To State\")\n",
    "plt.ylabel(\"From State...\")\n",
    "plt.xticks(rotation = 90)\n",
    "plt.yticks(rotation = 0)\n",
    "\n",
    "plt.show()"
   ]
  },
  {
   "cell_type": "code",
   "execution_count": 14,
   "id": "3fdd86f0",
   "metadata": {},
   "outputs": [
    {
     "name": "stdout",
     "output_type": "stream",
     "text": [
      "Top 10 Most Common Routes:\n",
      "Midtown              → Midtown              | Count: 1389343 | Prob: 0.361\n",
      "Upper East Side      → Upper East Side      | Count: 1283151 | Prob: 0.459\n",
      "Outside Manhattan    → Outside Manhattan    | Count: 1203902 | Prob: 0.509\n",
      "Upper West Side      → Upper West Side      | Count: 763963 | Prob: 0.424\n",
      "Chelsea              → Chelsea              | Count: 662397 | Prob: 0.335\n",
      "Upper East Side      → Midtown              | Count: 507502 | Prob: 0.181\n",
      "Midtown              → Upper East Side      | Count: 484395 | Prob: 0.126\n",
      "Hell's Kitchen       → Hell's Kitchen       | Count: 346322 | Prob: 0.283\n",
      "Midtown              → Chelsea              | Count: 278191 | Prob: 0.072\n",
      "Chelsea              → Midtown              | Count: 260420 | Prob: 0.132\n"
     ]
    }
   ],
   "source": [
    "transitions = []\n",
    "for i in range(len(states)):\n",
    "    for j in range(len(states)):\n",
    "        if tr_counts[i, j] > 0:\n",
    "            transitions.append({\n",
    "                \"from\": states[i],\n",
    "                \"to\": states[j],\n",
    "                \"count\": int(tr_counts[i, j]),\n",
    "                \"prob\": tr_pr[i, j]\n",
    "            })\n",
    "transitions_df = pd.DataFrame(transitions)\n",
    "transitions_df = transitions_df.sort_values('count', ascending=False)\n",
    "\n",
    "print(f\"Top 10 Most Common Routes:\")\n",
    "for i, row in transitions_df.head(10).iterrows():\n",
    "    print(f\"{row['from']:20s} → {row['to']:20s} | Count: {row['count']:5.0f} | Prob: {row['prob']:.3f}\")"
   ]
  },
  {
   "cell_type": "markdown",
   "id": "ad20f5e7",
   "metadata": {},
   "source": [
    "- **Explain why taxicabs are most likely order 1, and not 2 or more.**"
   ]
  },
  {
   "cell_type": "markdown",
   "id": "98d1b9c6",
   "metadata": {},
   "source": [
    "Taxicabs are more likely order 1 and not 2 or more because a Markov chain is order 1 if the next state depends only on the current state, and not on the history of the previous states. Where a taxicab is going depends on where it is now, not where it came from, and each passenger is going to have a destination independent of the taxicab's prvious routes. The next location does not depend on the last two locations. SO taxicabs are more likely order 1."
   ]
  },
  {
   "cell_type": "markdown",
   "id": "9e2ce2a5",
   "metadata": {},
   "source": [
    "\n",
    "- **Starting at Hell's Kitchen, create a sequence of forecasts of where the cab is likely to be in 2, 3, 5, and 10 trips**\n"
   ]
  },
  {
   "cell_type": "code",
   "execution_count": null,
   "id": "4d077700",
   "metadata": {},
   "outputs": [
    {
     "ename": "_IncompleteInputError",
     "evalue": "incomplete input (2452102080.py, line 8)",
     "output_type": "error",
     "traceback": [
      "  \u001b[36mCell\u001b[39m\u001b[36m \u001b[39m\u001b[32mIn[15]\u001b[39m\u001b[32m, line 8\u001b[39m\n\u001b[31m    \u001b[39m\u001b[31mfor i in forecast_steps:\u001b[39m\n                            ^\n\u001b[31m_IncompleteInputError\u001b[39m\u001b[31m:\u001b[39m incomplete input\n"
     ]
    }
   ],
   "source": [
    "start_state = \"Hell's Kitchen\"\n",
    "start_state_index = states.index(start_state)\n",
    "pi_0 = np.zeros(len(states))\n",
    "pi_0[start_state_index] = 1\n",
    "\n",
    "forecast_steps = [2, 3, 5, 10]\n",
    "\n",
    "for i in forecast_steps:\n",
    "    P_n = np.linalg.matrix_power(tr_pr, i)\n",
    "    pi_n = pi_0 @ P_n\n",
    "\n",
    "    print(f\"\\nAfter {n} trips:\")\n",
    "    "
   ]
  },
  {
   "cell_type": "markdown",
   "id": "c3d8b714",
   "metadata": {},
   "source": [
    "- **Starting at any neighborhood, iterate your forecast until it is no longer changing very much. Where do cabs spend most of their time working in Manhattan?**"
   ]
  }
 ],
 "metadata": {
  "kernelspec": {
   "display_name": "base",
   "language": "python",
   "name": "python3"
  },
  "language_info": {
   "codemirror_mode": {
    "name": "ipython",
    "version": 3
   },
   "file_extension": ".py",
   "mimetype": "text/x-python",
   "name": "python",
   "nbconvert_exporter": "python",
   "pygments_lexer": "ipython3",
   "version": "3.13.2"
  }
 },
 "nbformat": 4,
 "nbformat_minor": 5
}
