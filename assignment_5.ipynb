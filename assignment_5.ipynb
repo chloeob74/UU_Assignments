{
 "cells": [
  {
   "cell_type": "markdown",
   "id": "dd21efe9",
   "metadata": {},
   "source": [
    "# Assignment 5\n",
    "### Do all four questions."
   ]
  },
  {
   "cell_type": "code",
   "execution_count": 2,
   "id": "496b38ba",
   "metadata": {},
   "outputs": [],
   "source": [
    "import numpy as np\n",
    "import pandas as pd\n",
    "import matplotlib.pyplot as plt\n",
    "import seaborn as sns"
   ]
  },
  {
   "cell_type": "markdown",
   "id": "1ee9b4e8",
   "metadata": {},
   "source": [
    "## Question 1\n",
    "Let's review some basic matrix multiplication. When you have an $M \\times N$ matrix $A$ with $M$ rows and $N$ columns, \n",
    "$$\n",
    "A= \\left[ \\begin{array}{cccc} a_{11} & a_{12} & ... & a_{1N} \\\\\n",
    "a_{21} & a_{22} & ... & a_{2N} \\\\\n",
    "\\vdots & \\vdots & ... & \\vdots \\\\\n",
    "a_{M1} & a_{M2} & ... & a_{MN} \n",
    "\\end{array} \\right],\n",
    "$$\n",
    "and you right-multiply it by a vector\n",
    "$$\n",
    "x = \\left[ \\begin{array}{c} x_1 \\\\ x_2 \\\\ \\vdots \\\\ x_N \n",
    "\\end{array} \\right],\n",
    "$$\n",
    "you get\n",
    "$$\n",
    "Ax = \\left[ \\begin{array}{c} \\sum_{i=1}^N a_{1i} x_i \\\\ \\sum_{i=1}^N a_{2i} x_i \\\\ \\vdots \\\\ \\sum_{i=1}^N a_{Mi} x_i \n",
    "\\end{array} \\right].\n",
    "$$\n",
    "This is just \"matrix row times column vector\" element-by-element, stacking the results into a new vector.\n",
    "\n",
    "For this to make sense, $N$ must be the same for the matrix and the vector, but $M$ can be different from $N$. \n",
    "\n",
    "Let's play with some NumPy to see this. First we'll define a matrix $A$:"
   ]
  },
  {
   "cell_type": "code",
   "execution_count": 13,
   "id": "33df3579",
   "metadata": {},
   "outputs": [
    {
     "data": {
      "text/plain": [
       "array([[1, 2, 3],\n",
       "       [4, 5, 6],\n",
       "       [7, 8, 9]])"
      ]
     },
     "execution_count": 13,
     "metadata": {},
     "output_type": "execute_result"
    }
   ],
   "source": [
    "A = np.array([ [1,2,3],\n",
    "              [4,5,6],\n",
    "              [7,8,9]])\n",
    "A"
   ]
  },
  {
   "cell_type": "markdown",
   "id": "94b1b3ac",
   "metadata": {},
   "source": [
    "### a. \n",
    "**Multiply $A$ times each of the following vectors using the @ operator. Explain which part of the $A$ matrix gets selected and explain why, using the definition of matrix multiplication.**"
   ]
  },
  {
   "cell_type": "code",
   "execution_count": 8,
   "id": "5b6148d2",
   "metadata": {},
   "outputs": [],
   "source": [
    "e_1 = np.array([1,0,0])\n",
    "e_2 = np.array([0,1,0])\n",
    "e_3 = np.array([0,0,1])"
   ]
  },
  {
   "cell_type": "code",
   "execution_count": 17,
   "id": "887f436f",
   "metadata": {},
   "outputs": [
    {
     "name": "stdout",
     "output_type": "stream",
     "text": [
      "[1 4 7]\n",
      "[2 5 8]\n",
      "[3 6 9]\n"
     ]
    }
   ],
   "source": [
    "print(A @ e_1)\n",
    "print(A @ e_2)\n",
    "print(A @ e_3)"
   ]
  },
  {
   "cell_type": "markdown",
   "id": "1b7f4b42",
   "metadata": {},
   "source": [
    "-For `A @ e_1`: the first column of A: [1, 4, 7] is selected.\n",
    "-For `A @ e_2`: the first column of A: [2, 5, 8] is selected.\n",
    "-For `A @ e_3`: the first column of A: [3, 6, 9] is selected.\n",
    "\n",
    "If we look at the definition of matrix multiplication, the i-th component of A @ v is the dot product of the i-th row of A with vector v.\n",
    "\n",
    "So, for `A @ e_1 = A @ [1, 0, 0]`:\n",
    " - Row 1: [1, 2, 3] · [1, 0, 0] = 1x1 + 2x0 + 3x0 = 1\n",
    " - Row 2: [4, 5, 6] · [1, 0, 0] = 4x1 + 5x0 + 6x0 = 4\n",
    " - Row 3: [7, 8, 8] · [1, 0, 0] = 7x1 + 8x0 + 9x0 = 7\n",
    "\n",
    "Because `e_1` has a 1 in the first position and 0s elsewhere, each rows's dot product pics out only the first element of that row. \n",
    "\n",
    "Similarly for `A @ e_2` and `A @ e_3`, the 1 is in position 2 or 3 respectivelym nd picks out the 2nd or 3rd element from each row.\n",
    "\n"
   ]
  },
  {
   "cell_type": "markdown",
   "id": "72a4704e",
   "metadata": {},
   "source": [
    "### b. \n",
    "**Now multiply $A$ times $u = (1,1,1)$. Explain the logic of the result with the definition of matrix multiplication.**"
   ]
  },
  {
   "cell_type": "code",
   "execution_count": 20,
   "id": "5bf73f9b",
   "metadata": {},
   "outputs": [
    {
     "data": {
      "text/plain": [
       "array([1., 1., 1.])"
      ]
     },
     "execution_count": 20,
     "metadata": {},
     "output_type": "execute_result"
    }
   ],
   "source": [
    "u = np.ones(3)\n",
    "u"
   ]
  },
  {
   "cell_type": "code",
   "execution_count": 19,
   "id": "734deb73",
   "metadata": {},
   "outputs": [
    {
     "name": "stdout",
     "output_type": "stream",
     "text": [
      "[ 6. 15. 24.]\n"
     ]
    }
   ],
   "source": [
    "print(A @ u)"
   ]
  },
  {
   "cell_type": "markdown",
   "id": "e3d075ba",
   "metadata": {},
   "source": [
    "Since u = [1, 1, 1] has all components that are equal to 1, the dot product of each row with u is simply the sum of each element in the row. So:\n",
    "- Row 1: [1, 2, 3] · [1, 1, 1] = 1x1 + 2x1 + 3x1 = 1 + 2 + 3 = 6\n",
    "- Row 2: [4, 5, 6] · [1, 1, 1] = 4x1 + 5x1 + 6x1 = 4 + 5 + 6 = 15\n",
    "- Row 3: [7, 8, 9] · [1, 1, 1] = 7x1 + 8x1 + 9x1 = 7 + 8 + 9 = 24"
   ]
  },
  {
   "cell_type": "markdown",
   "id": "dde75eab",
   "metadata": {},
   "source": [
    "### c. \n",
    "**Whenever a matrix has 1's on the diagonal and zeros everywhere else, we call it an **identity matrix**. What happens when you multiple $A$ times $x$ below? What happens when you multiple an identity matrix times any vector? Explain your result with the definition of matrix multiplication.**"
   ]
  },
  {
   "cell_type": "code",
   "execution_count": 3,
   "id": "b0d349c4",
   "metadata": {},
   "outputs": [],
   "source": [
    "A = np.array([ [1,0,0],\n",
    "              [0,1,0],\n",
    "              [0,0,1]])\n",
    "x = np.array([-2,4,11])\n"
   ]
  },
  {
   "cell_type": "code",
   "execution_count": 4,
   "id": "768c8e11",
   "metadata": {},
   "outputs": [
    {
     "name": "stdout",
     "output_type": "stream",
     "text": [
      "[-2  4 11]\n"
     ]
    }
   ],
   "source": [
    "print(A @ x)"
   ]
  },
  {
   "cell_type": "markdown",
   "id": "4177d31a",
   "metadata": {},
   "source": [
    "Each row of A has a single 1 in a different position and zeros elsewhere. The dot product with x picks out exactly one component of x. So:\n",
    "- Row 1 of `A` picks out x[0] = -2 because the 1 is in the 1st position or at index 0\n",
    "- Row 2 of `A` picks out x[1] = 4 because the 1 is in the 2nd position or at index 1\n",
    "- Row 3 of `A` picks out x[2] = 11 because the 1 is in the 3rd position or at index 2"
   ]
  },
  {
   "cell_type": "markdown",
   "id": "57141925",
   "metadata": {},
   "source": [
    "### d. \n",
    "**What if every row and column sum to 1, but the 1's are no longer on the diagonal? Multiple $A$ times $X$ below and explain the result. Create another matrix whose rows and columns sum to 1, but is not an identity matrix, and show how it permutes the values of $x$.**"
   ]
  },
  {
   "cell_type": "code",
   "execution_count": 5,
   "id": "83a9ed11",
   "metadata": {},
   "outputs": [],
   "source": [
    "A = np.array([ [0,0,1],\n",
    "              [1,0,0],\n",
    "              [0,1,0]])\n",
    "x = np.array([-2,4,11])\n"
   ]
  },
  {
   "cell_type": "code",
   "execution_count": 6,
   "id": "d84245ef",
   "metadata": {},
   "outputs": [
    {
     "name": "stdout",
     "output_type": "stream",
     "text": [
      "[11 -2  4]\n"
     ]
    }
   ],
   "source": [
    "print(A @ x)"
   ]
  },
  {
   "cell_type": "markdown",
   "id": "e024fa52",
   "metadata": {},
   "source": [
    "This is the same as described above -- because each row of A has exactly one 1, it selects oen element from x\n",
    "\n",
    "So:\n",
    "- Row 1 for `A` has the 1 at index 2, so it will pick the element x[2] = 11\n",
    "- Row 2 for `A` has the 1 at index 0, so it will pick the element x[0] = -2\n",
    "- Row 3 for `A` has the 1 at index 1, so it will pick the element x[1] = 4\n",
    "\n",
    "So the resulting matrix is [11, -2, 4]"
   ]
  },
  {
   "cell_type": "markdown",
   "id": "611c26c3",
   "metadata": {},
   "source": [
    "### e. \n",
    "**The next matrix $A$ could be a Markov transition matrix: Its columns sum to 1, and each entry $a_{ij}$ can be interpreted as the proportion of observations who moved from state $j$ to state $i$. Multiply $A$ by each of the vectors $e_1$, $e_2$, and $e_3$, and explain your results.**"
   ]
  },
  {
   "cell_type": "code",
   "execution_count": 7,
   "id": "aff4fb97",
   "metadata": {},
   "outputs": [
    {
     "name": "stdout",
     "output_type": "stream",
     "text": [
      "[[0.50052958 0.24049286 0.18358131]\n",
      " [0.02574731 0.39251588 0.37907577]\n",
      " [0.47372311 0.36699127 0.43734292]]\n"
     ]
    }
   ],
   "source": [
    "rng = np.random.default_rng(100)\n",
    "A = rng.random((3,3)) # Generate a random 3X3 matrix\n",
    "sums = np.sum(A,axis=0) # Column sums\n",
    "A = A/sums # Normalize the columns so they sum to 1\n",
    "print(A)"
   ]
  },
  {
   "cell_type": "code",
   "execution_count": 9,
   "id": "7843d3d3",
   "metadata": {},
   "outputs": [
    {
     "name": "stdout",
     "output_type": "stream",
     "text": [
      "[0.50052958 0.02574731 0.47372311]\n",
      "[0.24049286 0.39251588 0.36699127]\n",
      "[0.18358131 0.37907577 0.43734292]\n"
     ]
    }
   ],
   "source": [
    "print(A @ e_1)\n",
    "print(A @ e_2)\n",
    "print(A @ e_3)"
   ]
  },
  {
   "cell_type": "markdown",
   "id": "097edc63",
   "metadata": {},
   "source": [
    "For a Markov transition where entry a_ij represents the proportion moving from state j to state i:\n",
    "\n",
    "- For `A @ e_1` we see that this is equal to the first column of A. This shows where the observations starting in state 1 end up:\n",
    "    - 50.1% stay in state 1\n",
    "    - 2.6% move to state 2\n",
    "    - 47.4% move to state 3\n",
    "-  For `A @ e_2` we see that this is equal to the second column of A. This shows where the observations starting in state 2 end up:\n",
    "    - 24.0% move to state 1\n",
    "    - 39.3% stay in state 2\n",
    "    - 36.7% move to state 3\n",
    "-  For `A @ e_3` we see that this is equal to the third column of A. This shows where the observations starting in state 3 end up:\n",
    "    - 18.4% move to state 1\n",
    "    - 37.9% move in state 2\n",
    "    - 43.7% stay to state 3\n"
   ]
  },
  {
   "cell_type": "markdown",
   "id": "0647bfa7",
   "metadata": {},
   "source": [
    "### f. \n",
    "**For each of the vectors $e_1, e_2, e_3$, multiple $A$ times that vector 5 times. What answer do you get for each starting vector? Describe the behavior you observe.**"
   ]
  },
  {
   "cell_type": "code",
   "execution_count": 11,
   "id": "9dd41bcc",
   "metadata": {},
   "outputs": [
    {
     "name": "stdout",
     "output_type": "stream",
     "text": [
      "Starting with e_1 = [1, 0, 0]:\n",
      "[0.50052958 0.02574731 0.47372311]\n",
      "[0.34368862 0.20257047 0.45374091]\n",
      "[0.30404142 0.26036337 0.43559521]\n",
      "[0.29476439 0.27514859 0.43008701]\n",
      "[0.29266551 0.27862515 0.42870935]\n",
      "\n",
      "Starting with e_2 = [0, 1, 0]:\n",
      "[0.24049286 0.39251588 0.36699127]\n",
      "[0.28214379 0.29937825 0.41847795]\n",
      "[0.29004438 0.28341002 0.42654561]\n",
      "[0.29163968 0.2804039  0.42795643]\n",
      "[0.29197422 0.27979983 0.42822595]\n",
      "\n",
      "Starting with e_3 = [0, 0, 1]:\n",
      "[0.18358131 0.37907577 0.43734292]\n",
      "[0.26334088 0.31930609 0.41735304]\n",
      "[0.28521895 0.29032145 0.4244596 ]\n",
      "[0.29050361 0.28220175 0.42729464]\n",
      "[0.29171646 0.2802254  0.42805814]\n"
     ]
    }
   ],
   "source": [
    "e_1_copy = e_1.copy()\n",
    "e_2_copy = e_2.copy()\n",
    "e_3_copy = e_3.copy()\n",
    "\n",
    "print(\"Starting with e_1 = [1, 0, 0]:\")\n",
    "for i in range(5):\n",
    "    e_1_copy = A @ e_1_copy\n",
    "    print(e_1_copy)\n",
    "\n",
    "print(\"\\nStarting with e_2 = [0, 1, 0]:\")\n",
    "for i in range(5):\n",
    "    e_2_copy = A @ e_2_copy\n",
    "    print(e_2_copy)\n",
    "\n",
    "print(\"\\nStarting with e_3 = [0, 0, 1]:\")\n",
    "for i in range(5):\n",
    "    e_3_copy = A @ e_3_copy\n",
    "    print(e_3_copy)"
   ]
  },
  {
   "cell_type": "markdown",
   "id": "f8ef3b27",
   "metadata": {},
   "source": [
    "It appears that all three vectors e_1, e_2, and e_3 start t oconverge to approximately the same distribution with:\n",
    "- State 1: ~29.1%\n",
    "- State 2: ~28.0%\n",
    "- State 3: ~42.8%\n",
    "\n",
    "This shows that despite the vectors starting in completely different states, after just 5 multiplications, they all look nearly identical. The distributions are converging to an equilibrium where the proportionas stabalize. "
   ]
  },
  {
   "cell_type": "markdown",
   "id": "fa2c9a93",
   "metadata": {},
   "source": [
    "## Question 2\n",
    "**Let's consider a simple Markov transition matrix over two states:**\n",
    "$$\n",
    "T = \\left[ \\begin{array}{cc} p_{1\\leftarrow 1} &  p_{1\\leftarrow 2} \\\\\n",
    "p_{2 \\leftarrow 1} & p_{2 \\leftarrow 2} \\end{array}\\right] \n",
    "$$\n",
    "**The arrows help visualize the transition a bit: This is the same index notation as usual, $p_{ij}$, but writing it $p_{i \\leftarrow j}$ emphasizes that it's the proportion of times that state $j$ transitions to state $i$. Below, $T$ is given by**\n",
    "$$\n",
    "T = \\left[ \\begin{array}{cc} .25 & .5 \\\\\n",
    ".75 & .5 \\end{array}\\right].\n",
    "$$\n",
    "\n",
    "**Start in state 1, at the initial condition $[1,0]$. Multiply that vector by $T$. Write out the result in terms of the formula and compute the result in a code chunk below. What is this object you're looking at, in terms of proportions and transitions?**\n"
   ]
  },
  {
   "cell_type": "code",
   "execution_count": 6,
   "id": "cf99390f",
   "metadata": {},
   "outputs": [],
   "source": [
    "T = np.array([[ 1/4, 1/2],\n",
    "                 [ 3/4, 1/2 ]])"
   ]
  },
  {
   "cell_type": "code",
   "execution_count": 7,
   "id": "60224429",
   "metadata": {},
   "outputs": [
    {
     "name": "stdout",
     "output_type": "stream",
     "text": [
      "[1 0]\n"
     ]
    }
   ],
   "source": [
    "init_condition = np.array([1, 0])\n",
    "print(init_condition)"
   ]
  },
  {
   "cell_type": "code",
   "execution_count": 8,
   "id": "8500b7f5",
   "metadata": {},
   "outputs": [
    {
     "name": "stdout",
     "output_type": "stream",
     "text": [
      "[0.25 0.75]\n"
     ]
    }
   ],
   "source": [
    "p_1 = T @ init_condition\n",
    "print(p_1)"
   ]
  },
  {
   "cell_type": "markdown",
   "id": "eb772965",
   "metadata": {},
   "source": [
    "$$\n",
    "T\\left[ \\begin{array}{cc} 1 \\\\ 0 \\end{array}\\right] = \\left[ \\begin{array}{cc} p_{1\\leftarrow 1} &  p_{1\\leftarrow 2} \\\\\n",
    "p_{2 \\leftarrow 1} & p_{2 \\leftarrow 2} \\end{array}\\right]\\left[ \\begin{array}{cc} 1 \\\\ 0 \\end{array}\\right]\n",
    "$$\n",
    "\n",
    "$$\n",
    "T\\left[ \\begin{array}{cc} 1 \\\\ 0 \\end{array}\\right] = \\left[ \\begin{array}{cc} .25 & .5 \\\\\n",
    ".75 & .5 \\end{array}\\right]\\left[ \\begin{array}{cc} 1 \\\\ 0 \\end{array}\\right]\n",
    "$$\n",
    "\n",
    "First component (proportion in state 1 after one step):\n",
    "\n",
    "$$\n",
    "p_{1\\leftarrow 1}\\cdot 1 + p_{1\\leftarrow 2} \\cdot 0 = 0.25 \\cdot 1 + 0.5 \\cdot 0 = 0.25\n",
    "$$\n",
    "\n",
    "Second component (proportion in state 2 after one step):\n",
    "\n",
    "$$\n",
    "p_{2\\leftarrow 1}\\cdot 1 + p_{2\\leftarrow 2} \\cdot 0 = 0.75 \\cdot 1 + 0.5 \\cdot 0 = 0.75\n",
    "$$\n",
    "\n",
    "Result:\n",
    "$$\n",
    "\\left[\\begin {array}{cc} 0.25 \\\\ 0.75 \\end{array}\\right]\n",
    "$$"
   ]
  },
  {
   "cell_type": "markdown",
   "id": "bf8953e0",
   "metadata": {},
   "source": [
    "### What this means:\n",
    "This is the distribution after one step, starting from state 1:\n",
    "- 25% of the observtions remains in state 1 (via the $p_{1\\leftarrow 1} = 0.25$ transition)\n",
    "- 75% of the observations moved to state 2 (via the $p_{2\\leftarrow 1} = 0.75$ transition)"
   ]
  },
  {
   "cell_type": "markdown",
   "id": "6fe82ed8",
   "metadata": {},
   "source": [
    "**Multiple by $T$ again. What do you get? This isn't a column of $T$. Explain in words what it is. (Hint: A forecast of what in what period?)**"
   ]
  },
  {
   "cell_type": "code",
   "execution_count": 9,
   "id": "241ac246",
   "metadata": {},
   "outputs": [
    {
     "name": "stdout",
     "output_type": "stream",
     "text": [
      "[0.4375 0.5625]\n"
     ]
    }
   ],
   "source": [
    "p_2 = T @ p_1\n",
    "print(p_2)"
   ]
  },
  {
   "cell_type": "markdown",
   "id": "f716c559",
   "metadata": {},
   "source": [
    "This is a forecast for period two. It is the distribution after two steps starting from state 1.\n",
    "\n",
    "After step 1, there was:\n",
    "- 25% in state 1\n",
    "- 75% in state 2\n",
    "\n",
    "In step 2, the groups are transitioned again:\n",
    "\n",
    "For state 1:\n",
    "- From the 25% in state 1: 0.25 x 0.25 = 0.0625 stay in state 1\n",
    "- From the 75% in state 2: 0.75 x 0.5 = 0.375 move from state 2 to state 1\n",
    "- So, the total in state 1 is: 0.0625 + 0.375 = 0.4375\n",
    "\n",
    "For state 2:\n",
    "- From the 25% in state 1: 0.25 X 0.75 = 0.1875 move from state 1 to state 2\n",
    "- From the 75% in state 2: 0.75 X 0.5 = 0.375 stay in state 2\n",
    "- So the total in state 2 is: 0.1875 + 0.375 = 0.5625\n",
    "\n",
    "So, the distribution for period 2 is **[0.4375, 0.5625]**"
   ]
  },
  {
   "cell_type": "markdown",
   "id": "ccc05f94",
   "metadata": {},
   "source": [
    "**Keep multiplying the current vector of outcomes by $T$. When does it start to settle down without changing further?**\n"
   ]
  },
  {
   "cell_type": "code",
   "execution_count": 10,
   "id": "376d451d",
   "metadata": {},
   "outputs": [
    {
     "name": "stdout",
     "output_type": "stream",
     "text": [
      "[1 0]\n",
      "[0.25 0.75]\n",
      "[0.4375 0.5625]\n",
      "[0.390625 0.609375]\n",
      "[0.40234375 0.59765625]\n",
      "[0.39941406 0.60058594]\n",
      "[0.40014648 0.59985352]\n",
      "[0.39996338 0.60003662]\n",
      "[0.40000916 0.59999084]\n",
      "[0.39999771 0.60000229]\n",
      "[0.40000057 0.59999943]\n",
      "[0.39999986 0.60000014]\n",
      "[0.40000004 0.59999996]\n",
      "[0.39999999 0.60000001]\n",
      "[0.4 0.6]\n",
      "[0.4 0.6]\n",
      "[0.4 0.6]\n",
      "[0.4 0.6]\n",
      "[0.4 0.6]\n",
      "[0.4 0.6]\n",
      "[0.4 0.6]\n",
      "[0.4 0.6]\n",
      "[0.4 0.6]\n",
      "[0.4 0.6]\n",
      "[0.4 0.6]\n",
      "[0.4 0.6]\n",
      "[0.4 0.6]\n",
      "[0.4 0.6]\n",
      "[0.4 0.6]\n",
      "[0.4 0.6]\n",
      "[0.4 0.6]\n",
      "[0.4 0.6]\n",
      "[0.4 0.6]\n",
      "[0.4 0.6]\n",
      "[0.4 0.6]\n",
      "[0.4 0.6]\n",
      "[0.4 0.6]\n",
      "[0.4 0.6]\n",
      "[0.4 0.6]\n",
      "[0.4 0.6]\n",
      "[0.4 0.6]\n",
      "[0.4 0.6]\n",
      "[0.4 0.6]\n",
      "[0.4 0.6]\n",
      "[0.4 0.6]\n",
      "[0.4 0.6]\n",
      "[0.4 0.6]\n",
      "[0.4 0.6]\n",
      "[0.4 0.6]\n",
      "[0.4 0.6]\n"
     ]
    }
   ],
   "source": [
    "n = 50\n",
    "p = np.array([1, 0])\n",
    "for i in range(n):\n",
    "    print(p)\n",
    "    p = T @ p"
   ]
  },
  {
   "cell_type": "markdown",
   "id": "de345121",
   "metadata": {},
   "source": [
    "**Do the above analysis again, starting from the initial condition $[0,1]$. Do you get a different result?**\n"
   ]
  },
  {
   "cell_type": "code",
   "execution_count": 11,
   "id": "91185c1e",
   "metadata": {},
   "outputs": [
    {
     "name": "stdout",
     "output_type": "stream",
     "text": [
      "[0 1]\n",
      "[0.5 0.5]\n",
      "[0.375 0.625]\n",
      "[0.40625 0.59375]\n",
      "[0.3984375 0.6015625]\n",
      "[0.40039062 0.59960938]\n",
      "[0.39990234 0.60009766]\n",
      "[0.40002441 0.59997559]\n",
      "[0.3999939 0.6000061]\n",
      "[0.40000153 0.59999847]\n",
      "[0.39999962 0.60000038]\n",
      "[0.4000001 0.5999999]\n",
      "[0.39999998 0.60000002]\n",
      "[0.40000001 0.59999999]\n",
      "[0.4 0.6]\n",
      "[0.4 0.6]\n",
      "[0.4 0.6]\n",
      "[0.4 0.6]\n",
      "[0.4 0.6]\n",
      "[0.4 0.6]\n",
      "[0.4 0.6]\n",
      "[0.4 0.6]\n",
      "[0.4 0.6]\n",
      "[0.4 0.6]\n",
      "[0.4 0.6]\n",
      "[0.4 0.6]\n",
      "[0.4 0.6]\n",
      "[0.4 0.6]\n",
      "[0.4 0.6]\n",
      "[0.4 0.6]\n",
      "[0.4 0.6]\n",
      "[0.4 0.6]\n",
      "[0.4 0.6]\n",
      "[0.4 0.6]\n",
      "[0.4 0.6]\n",
      "[0.4 0.6]\n",
      "[0.4 0.6]\n",
      "[0.4 0.6]\n",
      "[0.4 0.6]\n",
      "[0.4 0.6]\n",
      "[0.4 0.6]\n",
      "[0.4 0.6]\n",
      "[0.4 0.6]\n",
      "[0.4 0.6]\n",
      "[0.4 0.6]\n",
      "[0.4 0.6]\n",
      "[0.4 0.6]\n",
      "[0.4 0.6]\n",
      "[0.4 0.6]\n",
      "[0.4 0.6]\n"
     ]
    }
   ],
   "source": [
    "p = np.array([0, 1])\n",
    "for i in range(n):\n",
    "    print(p)\n",
    "    p = T @ p"
   ]
  },
  {
   "cell_type": "markdown",
   "id": "5f179306",
   "metadata": {},
   "source": [
    "**The take-away is that, in the long run, these chains settle down into the long-run proportions, and the sensitivity on initial conditions vanishes.**\n"
   ]
  },
  {
   "cell_type": "markdown",
   "id": "921592e9",
   "metadata": {},
   "source": [
    "## Question 3: Weather data\n",
    "\n",
    "- Load the `cville_weather.csv` data. This includes data from Jan 4, 2024 to Feb 2, 2025. Are there any missing data issues?"
   ]
  },
  {
   "cell_type": "markdown",
   "id": "8765c304",
   "metadata": {},
   "source": [
    "- Based on the precipitation variable, `PRCP`, make a new variable called `rain` that takes the value 1 if `PRCP`>0 and 0 otherwise.\n",
    "- Build a two-state Markov chain over the states 0 and 1 for the `rain` variable. \n",
    "- For your chain from c, how likely is it to rain if it was rainy yesterday? How likely is it to rain if it was clear yesterday?\n",
    "- Starting from a clear day, forecast the distribution. How quickly does it converge to a fixed result? What if you start from a rainy day?\n",
    "- Conditional on being rainy, plot a KDE of the `PRCP` variable.\n",
    "- Describe one way of making your model better for forecasting and simulation the weather.\n",
    "\n",
    "Congratulations, you now are a non-parametric meteorologist!"
   ]
  },
  {
   "cell_type": "markdown",
   "id": "b953c2c4",
   "metadata": {},
   "source": [
    "## Question 4: Taxicab trajectories \n",
    "Using the pickled taxicab data, we want to complete the exercise from class.\n",
    "\n",
    "- For the taxicab trajectory data, determine your state space and clean your sequences of cab rides.\n",
    "- Compute the transition matrix for the taxicab data between neighborhoods in Manhattan. Plot it in a heat map. What are the most common routes?\n",
    "- Explain why taxicabs are most likely order 1, and not 2 or more.\n",
    "- Starting at Hell's Kitchen, create a sequence of forecasts of where the cab is likely to be in 2, 3, 5, and 10 trips\n",
    "- Starting at any neighborhood, iterate your forecast until it is no longer changing very much. Where do cabs spend most of their time working in Manhattan?"
   ]
  },
  {
   "cell_type": "code",
   "execution_count": 12,
   "id": "71b2cd62",
   "metadata": {},
   "outputs": [],
   "source": [
    "import pickle"
   ]
  },
  {
   "cell_type": "code",
   "execution_count": 13,
   "id": "4676ecc3",
   "metadata": {},
   "outputs": [
    {
     "data": {
      "text/plain": [
       "1000"
      ]
     },
     "execution_count": 13,
     "metadata": {},
     "output_type": "execute_result"
    }
   ],
   "source": [
    "with open(\"taxicab.pkl\", 'rb') as f:\n",
    "    data = pickle.load(f)\n",
    "\n",
    "len(data)"
   ]
  },
  {
   "cell_type": "code",
   "execution_count": 14,
   "metadata": {},
   "outputs": [
    {
     "data": {
      "text/plain": [
       "0     Outside Manhattan\n",
       "0     Outside Manhattan\n",
       "0     Outside Manhattan\n",
       "0     Outside Manhattan\n",
       "0     Outside Manhattan\n",
       "            ...        \n",
       "29                 SoHo\n",
       "29                 SoHo\n",
       "13    Greenwich Village\n",
       "3               Chelsea\n",
       "3               Chelsea\n",
       "Name: nbhd, Length: 26026, dtype: object"
      ]
     },
     "execution_count": 14,
     "metadata": {},
     "output_type": "execute_result"
    }
   ],
   "source": [
    "data[0]"
   ]
  },
  {
   "cell_type": "code",
   "execution_count": null,
   "metadata": {},
   "outputs": [],
   "source": []
  },
  {
   "cell_type": "code",
   "execution_count": null,
   "metadata": {},
   "outputs": [],
   "source": []
  },
  {
   "cell_type": "code",
   "execution_count": null,
   "metadata": {},
   "outputs": [],
   "source": []
  },
  {
   "cell_type": "code",
   "execution_count": null,
   "metadata": {},
   "outputs": [],
   "source": []
  },
  {
   "cell_type": "code",
   "execution_count": null,
   "id": "3e5396fa",
   "metadata": {},
   "outputs": [],
   "source": []
  }
 ],
 "metadata": {
  "kernelspec": {
   "display_name": "base",
   "language": "python",
   "name": "python3"
  },
  "language_info": {
   "codemirror_mode": {
    "name": "ipython",
    "version": 3
   },
   "file_extension": ".py",
   "mimetype": "text/x-python",
   "name": "python",
   "nbconvert_exporter": "python",
   "pygments_lexer": "ipython3",
   "version": "3.13.2"
  }
 },
 "nbformat": 4,
 "nbformat_minor": 5
}
