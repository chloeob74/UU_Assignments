{
 "cells": [
  {
   "cell_type": "markdown",
   "id": "dd21efe9",
   "metadata": {},
   "source": [
    "# Assignment 5\n",
    "### Do all four questions."
   ]
  },
  {
   "cell_type": "code",
   "execution_count": 1,
   "id": "496b38ba",
   "metadata": {},
   "outputs": [],
   "source": [
    "import numpy as np\n",
    "import pandas as pd\n",
    "import matplotlib.pyplot as plt\n",
    "import seaborn as sns"
   ]
  },
  {
   "cell_type": "markdown",
   "id": "1ee9b4e8",
   "metadata": {},
   "source": [
    "## Question 1\n",
    "Let's review some basic matrix multiplication. When you have an $M \\times N$ matrix $A$ with $M$ rows and $N$ columns, \n",
    "$$\n",
    "A= \\left[ \\begin{array}{cccc} a_{11} & a_{12} & ... & a_{1N} \\\\\n",
    "a_{21} & a_{22} & ... & a_{2N} \\\\\n",
    "\\vdots & \\vdots & ... & \\vdots \\\\\n",
    "a_{M1} & a_{M2} & ... & a_{MN} \n",
    "\\end{array} \\right],\n",
    "$$\n",
    "and you right-multiply it by a vector\n",
    "$$\n",
    "x = \\left[ \\begin{array}{c} x_1 \\\\ x_2 \\\\ \\vdots \\\\ x_N \n",
    "\\end{array} \\right],\n",
    "$$\n",
    "you get\n",
    "$$\n",
    "Ax = \\left[ \\begin{array}{c} \\sum_{i=1}^N a_{1i} x_i \\\\ \\sum_{i=1}^N a_{2i} x_i \\\\ \\vdots \\\\ \\sum_{i=1}^N a_{Mi} x_i \n",
    "\\end{array} \\right].\n",
    "$$\n",
    "This is just \"matrix row times column vector\" element-by-element, stacking the results into a new vector.\n",
    "\n",
    "For this to make sense, $N$ must be the same for the matrix and the vector, but $M$ can be different from $N$. \n",
    "\n",
    "Let's play with some NumPy to see this. First we'll define a matrix $A$:"
   ]
  },
  {
   "cell_type": "code",
   "execution_count": 13,
   "id": "33df3579",
   "metadata": {},
   "outputs": [
    {
     "data": {
      "text/plain": [
       "array([[1, 2, 3],\n",
       "       [4, 5, 6],\n",
       "       [7, 8, 9]])"
      ]
     },
     "execution_count": 13,
     "metadata": {},
     "output_type": "execute_result"
    }
   ],
   "source": [
    "A = np.array([ [1,2,3],\n",
    "              [4,5,6],\n",
    "              [7,8,9]])\n",
    "A"
   ]
  },
  {
   "cell_type": "markdown",
   "id": "94b1b3ac",
   "metadata": {},
   "source": [
    "### a. \n",
    "**Multiply $A$ times each of the following vectors using the @ operator. Explain which part of the $A$ matrix gets selected and explain why, using the definition of matrix multiplication.**"
   ]
  },
  {
   "cell_type": "code",
   "execution_count": 8,
   "id": "5b6148d2",
   "metadata": {},
   "outputs": [],
   "source": [
    "e_1 = np.array([1,0,0])\n",
    "e_2 = np.array([0,1,0])\n",
    "e_3 = np.array([0,0,1])"
   ]
  },
  {
   "cell_type": "code",
   "execution_count": 17,
   "id": "887f436f",
   "metadata": {},
   "outputs": [
    {
     "name": "stdout",
     "output_type": "stream",
     "text": [
      "[1 4 7]\n",
      "[2 5 8]\n",
      "[3 6 9]\n"
     ]
    }
   ],
   "source": [
    "print(A @ e_1)\n",
    "print(A @ e_2)\n",
    "print(A @ e_3)"
   ]
  },
  {
   "cell_type": "markdown",
   "id": "1b7f4b42",
   "metadata": {},
   "source": [
    "-For `A @ e_1`: the first column of A: [1, 4, 7] is selected.\n",
    "-For `A @ e_2`: the first column of A: [2, 5, 8] is selected.\n",
    "-For `A @ e_3`: the first column of A: [3, 6, 9] is selected.\n",
    "\n",
    "If we look at the definition of matrix multiplication, the i-th component of A @ v is the dot product of the i-th row of A with vector v.\n",
    "\n",
    "So, for `A @ e_1 = A @ [1, 0, 0]`:\n",
    " - Row 1: [1, 2, 3] · [1, 0, 0] = 1x1 + 2x0 + 3x0 = 1\n",
    " - Row 2: [4, 5, 6] · [1, 0, 0] = 4x1 + 5x0 + 6x0 = 4\n",
    " - Row 3: [7, 8, 8] · [1, 0, 0] = 7x1 + 8x0 + 9x0 = 7\n",
    "\n",
    "Because `e_1` has a 1 in the first position and 0s elsewhere, each rows's dot product pics out only the first element of that row. \n",
    "\n",
    "Similarly for `A @ e_2` and `A @ e_3`, the 1 is in position 2 or 3 respectivelym nd picks out the 2nd or 3rd element from each row.\n",
    "\n"
   ]
  },
  {
   "cell_type": "markdown",
   "id": "72a4704e",
   "metadata": {},
   "source": [
    "### b. \n",
    "**Now multiply $A$ times $u = (1,1,1)$. Explain the logic of the result with the definition of matrix multiplication.**"
   ]
  },
  {
   "cell_type": "code",
   "execution_count": 20,
   "id": "5bf73f9b",
   "metadata": {},
   "outputs": [
    {
     "data": {
      "text/plain": [
       "array([1., 1., 1.])"
      ]
     },
     "execution_count": 20,
     "metadata": {},
     "output_type": "execute_result"
    }
   ],
   "source": [
    "u = np.ones(3)\n",
    "u"
   ]
  },
  {
   "cell_type": "code",
   "execution_count": 19,
   "id": "734deb73",
   "metadata": {},
   "outputs": [
    {
     "name": "stdout",
     "output_type": "stream",
     "text": [
      "[ 6. 15. 24.]\n"
     ]
    }
   ],
   "source": [
    "print(A @ u)"
   ]
  },
  {
   "cell_type": "markdown",
   "id": "e3d075ba",
   "metadata": {},
   "source": [
    "Since u = [1, 1, 1] has all components that are equal to 1, the dot product of each row with u is simply the sum of each element in the row. So:\n",
    "- Row 1: [1, 2, 3] · [1, 1, 1] = 1x1 + 2x1 + 3x1 = 1 + 2 + 3 = 6\n",
    "- Row 2: [4, 5, 6] · [1, 1, 1] = 4x1 + 5x1 + 6x1 = 4 + 5 + 6 = 15\n",
    "- Row 3: [7, 8, 9] · [1, 1, 1] = 7x1 + 8x1 + 9x1 = 7 + 8 + 9 = 24"
   ]
  },
  {
   "cell_type": "markdown",
   "id": "dde75eab",
   "metadata": {},
   "source": [
    "### c. \n",
    "**Whenever a matrix has 1's on the diagonal and zeros everywhere else, we call it an **identity matrix**. What happens when you multiple $A$ times $x$ below? What happens when you multiple an identity matrix times any vector? Explain your result with the definition of matrix multiplication.**"
   ]
  },
  {
   "cell_type": "code",
   "execution_count": 3,
   "id": "b0d349c4",
   "metadata": {},
   "outputs": [],
   "source": [
    "A = np.array([ [1,0,0],\n",
    "              [0,1,0],\n",
    "              [0,0,1]])\n",
    "x = np.array([-2,4,11])\n"
   ]
  },
  {
   "cell_type": "code",
   "execution_count": 4,
   "id": "768c8e11",
   "metadata": {},
   "outputs": [
    {
     "name": "stdout",
     "output_type": "stream",
     "text": [
      "[-2  4 11]\n"
     ]
    }
   ],
   "source": [
    "print(A @ x)"
   ]
  },
  {
   "cell_type": "markdown",
   "id": "4177d31a",
   "metadata": {},
   "source": [
    "Each row of A has a single 1 in a different position and zeros elsewhere. The dot product with x picks out exactly one component of x. So:\n",
    "- Row 1 of `A` picks out x[0] = -2 because the 1 is in the 1st position or at index 0\n",
    "- Row 2 of `A` picks out x[1] = 4 because the 1 is in the 2nd position or at index 1\n",
    "- Row 3 of `A` picks out x[2] = 11 because the 1 is in the 3rd position or at index 2"
   ]
  },
  {
   "cell_type": "markdown",
   "id": "57141925",
   "metadata": {},
   "source": [
    "### d. \n",
    "**What if every row and column sum to 1, but the 1's are no longer on the diagonal? Multiple $A$ times $X$ below and explain the result. Create another matrix whose rows and columns sum to 1, but is not an identity matrix, and show how it permutes the values of $x$.**"
   ]
  },
  {
   "cell_type": "code",
   "execution_count": 5,
   "id": "83a9ed11",
   "metadata": {},
   "outputs": [],
   "source": [
    "A = np.array([ [0,0,1],\n",
    "              [1,0,0],\n",
    "              [0,1,0]])\n",
    "x = np.array([-2,4,11])\n"
   ]
  },
  {
   "cell_type": "code",
   "execution_count": 6,
   "id": "d84245ef",
   "metadata": {},
   "outputs": [
    {
     "name": "stdout",
     "output_type": "stream",
     "text": [
      "[11 -2  4]\n"
     ]
    }
   ],
   "source": [
    "print(A @ x)"
   ]
  },
  {
   "cell_type": "markdown",
   "id": "e024fa52",
   "metadata": {},
   "source": [
    "This is the same as described above -- because each row of A has exactly one 1, it selects oen element from x\n",
    "\n",
    "So:\n",
    "- Row 1 for `A` has the 1 at index 2, so it will pick the element x[2] = 11\n",
    "- Row 2 for `A` has the 1 at index 0, so it will pick the element x[0] = -2\n",
    "- Row 3 for `A` has the 1 at index 1, so it will pick the element x[1] = 4\n",
    "\n",
    "So the resulting matrix is [11, -2, 4]"
   ]
  },
  {
   "cell_type": "markdown",
   "id": "611c26c3",
   "metadata": {},
   "source": [
    "### e. \n",
    "**The next matrix $A$ could be a Markov transition matrix: Its columns sum to 1, and each entry $a_{ij}$ can be interpreted as the proportion of observations who moved from state $j$ to state $i$. Multiply $A$ by each of the vectors $e_1$, $e_2$, and $e_3$, and explain your results.**"
   ]
  },
  {
   "cell_type": "code",
   "execution_count": 7,
   "id": "aff4fb97",
   "metadata": {},
   "outputs": [
    {
     "name": "stdout",
     "output_type": "stream",
     "text": [
      "[[0.50052958 0.24049286 0.18358131]\n",
      " [0.02574731 0.39251588 0.37907577]\n",
      " [0.47372311 0.36699127 0.43734292]]\n"
     ]
    }
   ],
   "source": [
    "rng = np.random.default_rng(100)\n",
    "A = rng.random((3,3)) # Generate a random 3X3 matrix\n",
    "sums = np.sum(A,axis=0) # Column sums\n",
    "A = A/sums # Normalize the columns so they sum to 1\n",
    "print(A)"
   ]
  },
  {
   "cell_type": "code",
   "execution_count": 9,
   "id": "7843d3d3",
   "metadata": {},
   "outputs": [
    {
     "name": "stdout",
     "output_type": "stream",
     "text": [
      "[0.50052958 0.02574731 0.47372311]\n",
      "[0.24049286 0.39251588 0.36699127]\n",
      "[0.18358131 0.37907577 0.43734292]\n"
     ]
    }
   ],
   "source": [
    "print(A @ e_1)\n",
    "print(A @ e_2)\n",
    "print(A @ e_3)"
   ]
  },
  {
   "cell_type": "markdown",
   "id": "097edc63",
   "metadata": {},
   "source": [
    "For a Markov transition where entry a_ij represents the proportion moving from state j to state i:\n",
    "\n",
    "- For `A @ e_1` we see that this is equal to the first column of A. This shows where the observations starting in state 1 end up:\n",
    "    - 50.1% stay in state 1\n",
    "    - 2.6% move to state 2\n",
    "    - 47.4% move to state 3\n",
    "-  For `A @ e_2` we see that this is equal to the second column of A. This shows where the observations starting in state 2 end up:\n",
    "    - 24.0% move to state 1\n",
    "    - 39.3% stay in state 2\n",
    "    - 36.7% move to state 3\n",
    "-  For `A @ e_3` we see that this is equal to the third column of A. This shows where the observations starting in state 3 end up:\n",
    "    - 18.4% move to state 1\n",
    "    - 37.9% move in state 2\n",
    "    - 43.7% stay to state 3\n"
   ]
  },
  {
   "cell_type": "markdown",
   "id": "0647bfa7",
   "metadata": {},
   "source": [
    "### f. \n",
    "**For each of the vectors $e_1, e_2, e_3$, multiple $A$ times that vector 5 times. What answer do you get for each starting vector? Describe the behavior you observe.**"
   ]
  },
  {
   "cell_type": "code",
   "execution_count": 11,
   "id": "9dd41bcc",
   "metadata": {},
   "outputs": [
    {
     "name": "stdout",
     "output_type": "stream",
     "text": [
      "Starting with e_1 = [1, 0, 0]:\n",
      "[0.50052958 0.02574731 0.47372311]\n",
      "[0.34368862 0.20257047 0.45374091]\n",
      "[0.30404142 0.26036337 0.43559521]\n",
      "[0.29476439 0.27514859 0.43008701]\n",
      "[0.29266551 0.27862515 0.42870935]\n",
      "\n",
      "Starting with e_2 = [0, 1, 0]:\n",
      "[0.24049286 0.39251588 0.36699127]\n",
      "[0.28214379 0.29937825 0.41847795]\n",
      "[0.29004438 0.28341002 0.42654561]\n",
      "[0.29163968 0.2804039  0.42795643]\n",
      "[0.29197422 0.27979983 0.42822595]\n",
      "\n",
      "Starting with e_3 = [0, 0, 1]:\n",
      "[0.18358131 0.37907577 0.43734292]\n",
      "[0.26334088 0.31930609 0.41735304]\n",
      "[0.28521895 0.29032145 0.4244596 ]\n",
      "[0.29050361 0.28220175 0.42729464]\n",
      "[0.29171646 0.2802254  0.42805814]\n"
     ]
    }
   ],
   "source": [
    "e_1_copy = e_1.copy()\n",
    "e_2_copy = e_2.copy()\n",
    "e_3_copy = e_3.copy()\n",
    "\n",
    "print(\"Starting with e_1 = [1, 0, 0]:\")\n",
    "for i in range(5):\n",
    "    e_1_copy = A @ e_1_copy\n",
    "    print(e_1_copy)\n",
    "\n",
    "print(\"\\nStarting with e_2 = [0, 1, 0]:\")\n",
    "for i in range(5):\n",
    "    e_2_copy = A @ e_2_copy\n",
    "    print(e_2_copy)\n",
    "\n",
    "print(\"\\nStarting with e_3 = [0, 0, 1]:\")\n",
    "for i in range(5):\n",
    "    e_3_copy = A @ e_3_copy\n",
    "    print(e_3_copy)"
   ]
  },
  {
   "cell_type": "markdown",
   "id": "f8ef3b27",
   "metadata": {},
   "source": [
    "It appears that all three vectors e_1, e_2, and e_3 start t oconverge to approximately the same distribution with:\n",
    "- State 1: ~29.1%\n",
    "- State 2: ~28.0%\n",
    "- State 3: ~42.8%\n",
    "\n",
    "This shows that despite the vectors starting in completely different states, after just 5 multiplications, they all look nearly identical. The distributions are converging to an equilibrium where the proportionas stabalize. "
   ]
  },
  {
   "cell_type": "markdown",
   "id": "fa2c9a93",
   "metadata": {},
   "source": [
    "## Question 2\n",
    "**Let's consider a simple Markov transition matrix over two states:**\n",
    "$$\n",
    "T = \\left[ \\begin{array}{cc} p_{1\\leftarrow 1} &  p_{1\\leftarrow 2} \\\\\n",
    "p_{2 \\leftarrow 1} & p_{2 \\leftarrow 2} \\end{array}\\right] \n",
    "$$\n",
    "**The arrows help visualize the transition a bit: This is the same index notation as usual, $p_{ij}$, but writing it $p_{i \\leftarrow j}$ emphasizes that it's the proportion of times that state $j$ transitions to state $i$. Below, $T$ is given by**\n",
    "$$\n",
    "T = \\left[ \\begin{array}{cc} .25 & .5 \\\\\n",
    ".75 & .5 \\end{array}\\right].\n",
    "$$\n",
    "\n",
    "**Start in state 1, at the initial condition $[1,0]$. Multiply that vector by $T$. Write out the result in terms of the formula and compute the result in a code chunk below. What is this object you're looking at, in terms of proportions and transitions?**\n"
   ]
  },
  {
   "cell_type": "code",
   "execution_count": 6,
   "id": "cf99390f",
   "metadata": {},
   "outputs": [],
   "source": [
    "T = np.array([[ 1/4, 1/2],\n",
    "                 [ 3/4, 1/2 ]])"
   ]
  },
  {
   "cell_type": "code",
   "execution_count": 7,
   "id": "60224429",
   "metadata": {},
   "outputs": [
    {
     "name": "stdout",
     "output_type": "stream",
     "text": [
      "[1 0]\n"
     ]
    }
   ],
   "source": [
    "init_condition = np.array([1, 0])\n",
    "print(init_condition)"
   ]
  },
  {
   "cell_type": "code",
   "execution_count": 8,
   "id": "8500b7f5",
   "metadata": {},
   "outputs": [
    {
     "name": "stdout",
     "output_type": "stream",
     "text": [
      "[0.25 0.75]\n"
     ]
    }
   ],
   "source": [
    "p_1 = T @ init_condition\n",
    "print(p_1)"
   ]
  },
  {
   "cell_type": "markdown",
   "id": "eb772965",
   "metadata": {},
   "source": [
    "$$\n",
    "T\\left[ \\begin{array}{cc} 1 \\\\ 0 \\end{array}\\right] = \\left[ \\begin{array}{cc} p_{1\\leftarrow 1} &  p_{1\\leftarrow 2} \\\\\n",
    "p_{2 \\leftarrow 1} & p_{2 \\leftarrow 2} \\end{array}\\right]\\left[ \\begin{array}{cc} 1 \\\\ 0 \\end{array}\\right]\n",
    "$$\n",
    "\n",
    "$$\n",
    "T\\left[ \\begin{array}{cc} 1 \\\\ 0 \\end{array}\\right] = \\left[ \\begin{array}{cc} .25 & .5 \\\\\n",
    ".75 & .5 \\end{array}\\right]\\left[ \\begin{array}{cc} 1 \\\\ 0 \\end{array}\\right]\n",
    "$$\n",
    "\n",
    "First component (proportion in state 1 after one step):\n",
    "\n",
    "$$\n",
    "p_{1\\leftarrow 1}\\cdot 1 + p_{1\\leftarrow 2} \\cdot 0 = 0.25 \\cdot 1 + 0.5 \\cdot 0 = 0.25\n",
    "$$\n",
    "\n",
    "Second component (proportion in state 2 after one step):\n",
    "\n",
    "$$\n",
    "p_{2\\leftarrow 1}\\cdot 1 + p_{2\\leftarrow 2} \\cdot 0 = 0.75 \\cdot 1 + 0.5 \\cdot 0 = 0.75\n",
    "$$\n",
    "\n",
    "Result:\n",
    "$$\n",
    "\\left[\\begin {array}{cc} 0.25 \\\\ 0.75 \\end{array}\\right]\n",
    "$$"
   ]
  },
  {
   "cell_type": "markdown",
   "id": "bf8953e0",
   "metadata": {},
   "source": [
    "### What this means:\n",
    "This is the distribution after one step, starting from state 1:\n",
    "- 25% of the observtions remains in state 1 (via the $p_{1\\leftarrow 1} = 0.25$ transition)\n",
    "- 75% of the observations moved to state 2 (via the $p_{2\\leftarrow 1} = 0.75$ transition)"
   ]
  },
  {
   "cell_type": "markdown",
   "id": "6fe82ed8",
   "metadata": {},
   "source": [
    "**Multiple by $T$ again. What do you get? This isn't a column of $T$. Explain in words what it is. (Hint: A forecast of what in what period?)**"
   ]
  },
  {
   "cell_type": "code",
   "execution_count": 9,
   "id": "241ac246",
   "metadata": {},
   "outputs": [
    {
     "name": "stdout",
     "output_type": "stream",
     "text": [
      "[0.4375 0.5625]\n"
     ]
    }
   ],
   "source": [
    "p_2 = T @ p_1\n",
    "print(p_2)"
   ]
  },
  {
   "cell_type": "markdown",
   "id": "f716c559",
   "metadata": {},
   "source": [
    "This is a forecast for period two. It is the distribution after two steps starting from state 1.\n",
    "\n",
    "After step 1, there was:\n",
    "- 25% in state 1\n",
    "- 75% in state 2\n",
    "\n",
    "In step 2, the groups are transitioned again:\n",
    "\n",
    "For state 1:\n",
    "- From the 25% in state 1: 0.25 x 0.25 = 0.0625 stay in state 1\n",
    "- From the 75% in state 2: 0.75 x 0.5 = 0.375 move from state 2 to state 1\n",
    "- So, the total in state 1 is: 0.0625 + 0.375 = 0.4375\n",
    "\n",
    "For state 2:\n",
    "- From the 25% in state 1: 0.25 X 0.75 = 0.1875 move from state 1 to state 2\n",
    "- From the 75% in state 2: 0.75 X 0.5 = 0.375 stay in state 2\n",
    "- So the total in state 2 is: 0.1875 + 0.375 = 0.5625\n",
    "\n",
    "So, the distribution for period 2 is **[0.4375, 0.5625]**"
   ]
  },
  {
   "cell_type": "markdown",
   "id": "ccc05f94",
   "metadata": {},
   "source": [
    "**Keep multiplying the current vector of outcomes by $T$. When does it start to settle down without changing further?**\n"
   ]
  },
  {
   "cell_type": "code",
   "execution_count": 10,
   "id": "376d451d",
   "metadata": {},
   "outputs": [
    {
     "name": "stdout",
     "output_type": "stream",
     "text": [
      "[1 0]\n",
      "[0.25 0.75]\n",
      "[0.4375 0.5625]\n",
      "[0.390625 0.609375]\n",
      "[0.40234375 0.59765625]\n",
      "[0.39941406 0.60058594]\n",
      "[0.40014648 0.59985352]\n",
      "[0.39996338 0.60003662]\n",
      "[0.40000916 0.59999084]\n",
      "[0.39999771 0.60000229]\n",
      "[0.40000057 0.59999943]\n",
      "[0.39999986 0.60000014]\n",
      "[0.40000004 0.59999996]\n",
      "[0.39999999 0.60000001]\n",
      "[0.4 0.6]\n",
      "[0.4 0.6]\n",
      "[0.4 0.6]\n",
      "[0.4 0.6]\n",
      "[0.4 0.6]\n",
      "[0.4 0.6]\n",
      "[0.4 0.6]\n",
      "[0.4 0.6]\n",
      "[0.4 0.6]\n",
      "[0.4 0.6]\n",
      "[0.4 0.6]\n",
      "[0.4 0.6]\n",
      "[0.4 0.6]\n",
      "[0.4 0.6]\n",
      "[0.4 0.6]\n",
      "[0.4 0.6]\n",
      "[0.4 0.6]\n",
      "[0.4 0.6]\n",
      "[0.4 0.6]\n",
      "[0.4 0.6]\n",
      "[0.4 0.6]\n",
      "[0.4 0.6]\n",
      "[0.4 0.6]\n",
      "[0.4 0.6]\n",
      "[0.4 0.6]\n",
      "[0.4 0.6]\n",
      "[0.4 0.6]\n",
      "[0.4 0.6]\n",
      "[0.4 0.6]\n",
      "[0.4 0.6]\n",
      "[0.4 0.6]\n",
      "[0.4 0.6]\n",
      "[0.4 0.6]\n",
      "[0.4 0.6]\n",
      "[0.4 0.6]\n",
      "[0.4 0.6]\n"
     ]
    }
   ],
   "source": [
    "n = 50\n",
    "p = np.array([1, 0])\n",
    "for i in range(n):\n",
    "    print(p)\n",
    "    p = T @ p"
   ]
  },
  {
   "cell_type": "markdown",
   "id": "15b1c095",
   "metadata": {},
   "source": [
    "THe distribution starts to settle without changing further at Step 14 to `[0.4, 0.6]`"
   ]
  },
  {
   "cell_type": "markdown",
   "id": "de345121",
   "metadata": {},
   "source": [
    "**Do the above analysis again, starting from the initial condition $[0,1]$. Do you get a different result?**\n"
   ]
  },
  {
   "cell_type": "code",
   "execution_count": 11,
   "id": "91185c1e",
   "metadata": {},
   "outputs": [
    {
     "name": "stdout",
     "output_type": "stream",
     "text": [
      "[0 1]\n",
      "[0.5 0.5]\n",
      "[0.375 0.625]\n",
      "[0.40625 0.59375]\n",
      "[0.3984375 0.6015625]\n",
      "[0.40039062 0.59960938]\n",
      "[0.39990234 0.60009766]\n",
      "[0.40002441 0.59997559]\n",
      "[0.3999939 0.6000061]\n",
      "[0.40000153 0.59999847]\n",
      "[0.39999962 0.60000038]\n",
      "[0.4000001 0.5999999]\n",
      "[0.39999998 0.60000002]\n",
      "[0.40000001 0.59999999]\n",
      "[0.4 0.6]\n",
      "[0.4 0.6]\n",
      "[0.4 0.6]\n",
      "[0.4 0.6]\n",
      "[0.4 0.6]\n",
      "[0.4 0.6]\n",
      "[0.4 0.6]\n",
      "[0.4 0.6]\n",
      "[0.4 0.6]\n",
      "[0.4 0.6]\n",
      "[0.4 0.6]\n",
      "[0.4 0.6]\n",
      "[0.4 0.6]\n",
      "[0.4 0.6]\n",
      "[0.4 0.6]\n",
      "[0.4 0.6]\n",
      "[0.4 0.6]\n",
      "[0.4 0.6]\n",
      "[0.4 0.6]\n",
      "[0.4 0.6]\n",
      "[0.4 0.6]\n",
      "[0.4 0.6]\n",
      "[0.4 0.6]\n",
      "[0.4 0.6]\n",
      "[0.4 0.6]\n",
      "[0.4 0.6]\n",
      "[0.4 0.6]\n",
      "[0.4 0.6]\n",
      "[0.4 0.6]\n",
      "[0.4 0.6]\n",
      "[0.4 0.6]\n",
      "[0.4 0.6]\n",
      "[0.4 0.6]\n",
      "[0.4 0.6]\n",
      "[0.4 0.6]\n",
      "[0.4 0.6]\n"
     ]
    }
   ],
   "source": [
    "p = np.array([0, 1])\n",
    "for i in range(n):\n",
    "    print(p)\n",
    "    p = T @ p"
   ]
  },
  {
   "cell_type": "markdown",
   "id": "b76ba007",
   "metadata": {},
   "source": [
    "The distribution still settles around Step 14 to `[0.4, 0.6]`"
   ]
  },
  {
   "cell_type": "markdown",
   "id": "5f179306",
   "metadata": {},
   "source": [
    "**The take-away is that, in the long run, these chains settle down into the long-run proportions, and the sensitivity on initial conditions vanishes.**\n"
   ]
  },
  {
   "cell_type": "markdown",
   "id": "921592e9",
   "metadata": {},
   "source": [
    "## Question 3: Weather data\n",
    "\n",
    "**Load the `cville_weather.csv` data. This includes data from Jan 4, 2024 to Feb 2, 2025. Are there any missing data issues?**"
   ]
  },
  {
   "cell_type": "code",
   "execution_count": 39,
   "id": "54fd781d",
   "metadata": {},
   "outputs": [],
   "source": [
    "weather = pd.read_csv(\"cville_weather.csv\")"
   ]
  },
  {
   "cell_type": "code",
   "execution_count": 41,
   "id": "442a5317",
   "metadata": {},
   "outputs": [
    {
     "data": {
      "text/html": [
       "<div>\n",
       "<style scoped>\n",
       "    .dataframe tbody tr th:only-of-type {\n",
       "        vertical-align: middle;\n",
       "    }\n",
       "\n",
       "    .dataframe tbody tr th {\n",
       "        vertical-align: top;\n",
       "    }\n",
       "\n",
       "    .dataframe thead th {\n",
       "        text-align: right;\n",
       "    }\n",
       "</style>\n",
       "<table border=\"1\" class=\"dataframe\">\n",
       "  <thead>\n",
       "    <tr style=\"text-align: right;\">\n",
       "      <th></th>\n",
       "      <th>STATION</th>\n",
       "      <th>NAME</th>\n",
       "      <th>DATE</th>\n",
       "      <th>DAPR</th>\n",
       "      <th>DAPR_ATTRIBUTES</th>\n",
       "      <th>MDPR</th>\n",
       "      <th>MDPR_ATTRIBUTES</th>\n",
       "      <th>PRCP</th>\n",
       "      <th>PRCP_ATTRIBUTES</th>\n",
       "      <th>SNOW</th>\n",
       "      <th>SNOW_ATTRIBUTES</th>\n",
       "      <th>SNWD</th>\n",
       "      <th>SNWD_ATTRIBUTES</th>\n",
       "    </tr>\n",
       "  </thead>\n",
       "  <tbody>\n",
       "    <tr>\n",
       "      <th>0</th>\n",
       "      <td>US1VACRC002</td>\n",
       "      <td>CHARLOTTESVILLE 0.5 NNE, VA US</td>\n",
       "      <td>2024-01-04</td>\n",
       "      <td>NaN</td>\n",
       "      <td>NaN</td>\n",
       "      <td>NaN</td>\n",
       "      <td>NaN</td>\n",
       "      <td>0.03</td>\n",
       "      <td>,,N</td>\n",
       "      <td>NaN</td>\n",
       "      <td>NaN</td>\n",
       "      <td>NaN</td>\n",
       "      <td>NaN</td>\n",
       "    </tr>\n",
       "    <tr>\n",
       "      <th>1</th>\n",
       "      <td>US1VACRC002</td>\n",
       "      <td>CHARLOTTESVILLE 0.5 NNE, VA US</td>\n",
       "      <td>2024-01-07</td>\n",
       "      <td>NaN</td>\n",
       "      <td>NaN</td>\n",
       "      <td>NaN</td>\n",
       "      <td>NaN</td>\n",
       "      <td>1.08</td>\n",
       "      <td>,,N</td>\n",
       "      <td>NaN</td>\n",
       "      <td>NaN</td>\n",
       "      <td>NaN</td>\n",
       "      <td>NaN</td>\n",
       "    </tr>\n",
       "    <tr>\n",
       "      <th>2</th>\n",
       "      <td>US1VACRC002</td>\n",
       "      <td>CHARLOTTESVILLE 0.5 NNE, VA US</td>\n",
       "      <td>2024-01-09</td>\n",
       "      <td>NaN</td>\n",
       "      <td>NaN</td>\n",
       "      <td>NaN</td>\n",
       "      <td>NaN</td>\n",
       "      <td>0.24</td>\n",
       "      <td>,,N</td>\n",
       "      <td>NaN</td>\n",
       "      <td>NaN</td>\n",
       "      <td>NaN</td>\n",
       "      <td>NaN</td>\n",
       "    </tr>\n",
       "    <tr>\n",
       "      <th>3</th>\n",
       "      <td>US1VACRC002</td>\n",
       "      <td>CHARLOTTESVILLE 0.5 NNE, VA US</td>\n",
       "      <td>2024-01-10</td>\n",
       "      <td>NaN</td>\n",
       "      <td>NaN</td>\n",
       "      <td>NaN</td>\n",
       "      <td>NaN</td>\n",
       "      <td>3.00</td>\n",
       "      <td>,,N</td>\n",
       "      <td>NaN</td>\n",
       "      <td>NaN</td>\n",
       "      <td>NaN</td>\n",
       "      <td>NaN</td>\n",
       "    </tr>\n",
       "    <tr>\n",
       "      <th>4</th>\n",
       "      <td>US1VACRC002</td>\n",
       "      <td>CHARLOTTESVILLE 0.5 NNE, VA US</td>\n",
       "      <td>2024-01-24</td>\n",
       "      <td>NaN</td>\n",
       "      <td>NaN</td>\n",
       "      <td>NaN</td>\n",
       "      <td>NaN</td>\n",
       "      <td>0.00</td>\n",
       "      <td>,,N</td>\n",
       "      <td>0.0</td>\n",
       "      <td>,,N</td>\n",
       "      <td>NaN</td>\n",
       "      <td>NaN</td>\n",
       "    </tr>\n",
       "    <tr>\n",
       "      <th>5</th>\n",
       "      <td>US1VACRC002</td>\n",
       "      <td>CHARLOTTESVILLE 0.5 NNE, VA US</td>\n",
       "      <td>2024-01-25</td>\n",
       "      <td>NaN</td>\n",
       "      <td>NaN</td>\n",
       "      <td>NaN</td>\n",
       "      <td>NaN</td>\n",
       "      <td>0.18</td>\n",
       "      <td>,,N</td>\n",
       "      <td>NaN</td>\n",
       "      <td>NaN</td>\n",
       "      <td>NaN</td>\n",
       "      <td>NaN</td>\n",
       "    </tr>\n",
       "    <tr>\n",
       "      <th>6</th>\n",
       "      <td>US1VACRC002</td>\n",
       "      <td>CHARLOTTESVILLE 0.5 NNE, VA US</td>\n",
       "      <td>2024-01-26</td>\n",
       "      <td>NaN</td>\n",
       "      <td>NaN</td>\n",
       "      <td>NaN</td>\n",
       "      <td>NaN</td>\n",
       "      <td>0.08</td>\n",
       "      <td>,,N</td>\n",
       "      <td>NaN</td>\n",
       "      <td>NaN</td>\n",
       "      <td>NaN</td>\n",
       "      <td>NaN</td>\n",
       "    </tr>\n",
       "    <tr>\n",
       "      <th>7</th>\n",
       "      <td>US1VACRC002</td>\n",
       "      <td>CHARLOTTESVILLE 0.5 NNE, VA US</td>\n",
       "      <td>2024-01-27</td>\n",
       "      <td>NaN</td>\n",
       "      <td>NaN</td>\n",
       "      <td>NaN</td>\n",
       "      <td>NaN</td>\n",
       "      <td>0.00</td>\n",
       "      <td>,,N</td>\n",
       "      <td>0.0</td>\n",
       "      <td>,,N</td>\n",
       "      <td>NaN</td>\n",
       "      <td>NaN</td>\n",
       "    </tr>\n",
       "    <tr>\n",
       "      <th>8</th>\n",
       "      <td>US1VACRC002</td>\n",
       "      <td>CHARLOTTESVILLE 0.5 NNE, VA US</td>\n",
       "      <td>2024-01-28</td>\n",
       "      <td>NaN</td>\n",
       "      <td>NaN</td>\n",
       "      <td>NaN</td>\n",
       "      <td>NaN</td>\n",
       "      <td>1.29</td>\n",
       "      <td>,,N</td>\n",
       "      <td>NaN</td>\n",
       "      <td>NaN</td>\n",
       "      <td>NaN</td>\n",
       "      <td>NaN</td>\n",
       "    </tr>\n",
       "    <tr>\n",
       "      <th>9</th>\n",
       "      <td>US1VACRC002</td>\n",
       "      <td>CHARLOTTESVILLE 0.5 NNE, VA US</td>\n",
       "      <td>2024-01-29</td>\n",
       "      <td>NaN</td>\n",
       "      <td>NaN</td>\n",
       "      <td>NaN</td>\n",
       "      <td>NaN</td>\n",
       "      <td>0.19</td>\n",
       "      <td>,,N</td>\n",
       "      <td>NaN</td>\n",
       "      <td>NaN</td>\n",
       "      <td>NaN</td>\n",
       "      <td>NaN</td>\n",
       "    </tr>\n",
       "  </tbody>\n",
       "</table>\n",
       "</div>"
      ],
      "text/plain": [
       "       STATION                            NAME        DATE  DAPR  \\\n",
       "0  US1VACRC002  CHARLOTTESVILLE 0.5 NNE, VA US  2024-01-04   NaN   \n",
       "1  US1VACRC002  CHARLOTTESVILLE 0.5 NNE, VA US  2024-01-07   NaN   \n",
       "2  US1VACRC002  CHARLOTTESVILLE 0.5 NNE, VA US  2024-01-09   NaN   \n",
       "3  US1VACRC002  CHARLOTTESVILLE 0.5 NNE, VA US  2024-01-10   NaN   \n",
       "4  US1VACRC002  CHARLOTTESVILLE 0.5 NNE, VA US  2024-01-24   NaN   \n",
       "5  US1VACRC002  CHARLOTTESVILLE 0.5 NNE, VA US  2024-01-25   NaN   \n",
       "6  US1VACRC002  CHARLOTTESVILLE 0.5 NNE, VA US  2024-01-26   NaN   \n",
       "7  US1VACRC002  CHARLOTTESVILLE 0.5 NNE, VA US  2024-01-27   NaN   \n",
       "8  US1VACRC002  CHARLOTTESVILLE 0.5 NNE, VA US  2024-01-28   NaN   \n",
       "9  US1VACRC002  CHARLOTTESVILLE 0.5 NNE, VA US  2024-01-29   NaN   \n",
       "\n",
       "  DAPR_ATTRIBUTES  MDPR MDPR_ATTRIBUTES  PRCP PRCP_ATTRIBUTES  SNOW  \\\n",
       "0             NaN   NaN             NaN  0.03             ,,N   NaN   \n",
       "1             NaN   NaN             NaN  1.08             ,,N   NaN   \n",
       "2             NaN   NaN             NaN  0.24             ,,N   NaN   \n",
       "3             NaN   NaN             NaN  3.00             ,,N   NaN   \n",
       "4             NaN   NaN             NaN  0.00             ,,N   0.0   \n",
       "5             NaN   NaN             NaN  0.18             ,,N   NaN   \n",
       "6             NaN   NaN             NaN  0.08             ,,N   NaN   \n",
       "7             NaN   NaN             NaN  0.00             ,,N   0.0   \n",
       "8             NaN   NaN             NaN  1.29             ,,N   NaN   \n",
       "9             NaN   NaN             NaN  0.19             ,,N   NaN   \n",
       "\n",
       "  SNOW_ATTRIBUTES  SNWD SNWD_ATTRIBUTES  \n",
       "0             NaN   NaN             NaN  \n",
       "1             NaN   NaN             NaN  \n",
       "2             NaN   NaN             NaN  \n",
       "3             NaN   NaN             NaN  \n",
       "4             ,,N   NaN             NaN  \n",
       "5             NaN   NaN             NaN  \n",
       "6             NaN   NaN             NaN  \n",
       "7             ,,N   NaN             NaN  \n",
       "8             NaN   NaN             NaN  \n",
       "9             NaN   NaN             NaN  "
      ]
     },
     "execution_count": 41,
     "metadata": {},
     "output_type": "execute_result"
    }
   ],
   "source": [
    "weather.head(10)"
   ]
  },
  {
   "cell_type": "markdown",
   "id": "f004d865",
   "metadata": {},
   "source": [
    "Just from an initial glance of the dataset, many columns contain missing values."
   ]
  },
  {
   "cell_type": "code",
   "execution_count": 43,
   "id": "e041c5e6",
   "metadata": {},
   "outputs": [
    {
     "name": "stdout",
     "output_type": "stream",
     "text": [
      "12\n"
     ]
    }
   ],
   "source": [
    "print(weather['PRCP'].isna().sum())"
   ]
  },
  {
   "cell_type": "markdown",
   "id": "d061997c",
   "metadata": {},
   "source": [
    "There are 12 missing values in the `PRCP` column"
   ]
  },
  {
   "cell_type": "code",
   "execution_count": 47,
   "id": "bf4c5cf7",
   "metadata": {},
   "outputs": [],
   "source": [
    "weather_clean = weather.dropna(subset=['PRCP']).reset_index(drop=True)"
   ]
  },
  {
   "cell_type": "markdown",
   "id": "8765c304",
   "metadata": {},
   "source": [
    "**Based on the precipitation variable, `PRCP`, make a new variable called `rain` that takes the value 1 if `PRCP`>0 and 0 otherwise.**"
   ]
  },
  {
   "cell_type": "code",
   "execution_count": 48,
   "id": "80074a53",
   "metadata": {},
   "outputs": [],
   "source": [
    "weather_clean['rain'] = (weather_clean['PRCP'] > 0).astype(int)"
   ]
  },
  {
   "cell_type": "markdown",
   "id": "476e296c",
   "metadata": {},
   "source": [
    "**Build a two-state Markov chain over the states 0 and 1 for the `rain` variable.**\n"
   ]
  },
  {
   "cell_type": "code",
   "execution_count": 55,
   "id": "2a2e642c",
   "metadata": {},
   "outputs": [
    {
     "data": {
      "text/html": [
       "<div>\n",
       "<style scoped>\n",
       "    .dataframe tbody tr th:only-of-type {\n",
       "        vertical-align: middle;\n",
       "    }\n",
       "\n",
       "    .dataframe tbody tr th {\n",
       "        vertical-align: top;\n",
       "    }\n",
       "\n",
       "    .dataframe thead th {\n",
       "        text-align: right;\n",
       "    }\n",
       "</style>\n",
       "<table border=\"1\" class=\"dataframe\">\n",
       "  <thead>\n",
       "    <tr style=\"text-align: right;\">\n",
       "      <th>rain</th>\n",
       "      <th>0</th>\n",
       "      <th>1</th>\n",
       "    </tr>\n",
       "    <tr>\n",
       "      <th>rain</th>\n",
       "      <th></th>\n",
       "      <th></th>\n",
       "    </tr>\n",
       "  </thead>\n",
       "  <tbody>\n",
       "    <tr>\n",
       "      <th>0.0</th>\n",
       "      <td>0.744292</td>\n",
       "      <td>0.255708</td>\n",
       "    </tr>\n",
       "    <tr>\n",
       "      <th>1.0</th>\n",
       "      <td>0.318436</td>\n",
       "      <td>0.681564</td>\n",
       "    </tr>\n",
       "  </tbody>\n",
       "</table>\n",
       "</div>"
      ],
      "text/plain": [
       "rain         0         1\n",
       "rain                    \n",
       "0.0   0.744292  0.255708\n",
       "1.0   0.318436  0.681564"
      ]
     },
     "execution_count": 55,
     "metadata": {},
     "output_type": "execute_result"
    }
   ],
   "source": [
    "transitions = pd.crosstab(weather_clean['rain'].shift(1), weather_clean['rain'], normalize = 'index')\n",
    "transitions"
   ]
  },
  {
   "cell_type": "code",
   "execution_count": 56,
   "id": "d1f2bc76",
   "metadata": {},
   "outputs": [],
   "source": [
    "p00 = transitions[0][0]\n",
    "p01 = transitions[0][1]\n",
    "p10 = transitions[1][0]\n",
    "p11 = transitions[1][1]"
   ]
  },
  {
   "cell_type": "code",
   "execution_count": 58,
   "id": "a874dd15",
   "metadata": {},
   "outputs": [
    {
     "name": "stdout",
     "output_type": "stream",
     "text": [
      "[[0.74429224 0.31843575]\n",
      " [0.25570776 0.68156425]]\n"
     ]
    }
   ],
   "source": [
    "P = np.array([[p00, p01], [p10, p11]])\n",
    "print(P)"
   ]
  },
  {
   "cell_type": "markdown",
   "id": "6b464ed6",
   "metadata": {},
   "source": [
    "**For your chain from c, how likely is it to rain if it was rainy yesterday? How likely is it to rain if it was clear yesterday?**"
   ]
  },
  {
   "cell_type": "code",
   "execution_count": 60,
   "id": "217e96c1",
   "metadata": {},
   "outputs": [
    {
     "name": "stdout",
     "output_type": "stream",
     "text": [
      "\n",
      "P(rain | rain yesterday) = 0.6816 (68.16%)\n",
      "P(rain | no rain yesterday) = 0.2557 (25.57%)\n"
     ]
    }
   ],
   "source": [
    "print(f\"\\nP(rain | rain yesterday) = {p11:.4f} ({p11*100:.2f}%)\")\n",
    "print(f\"P(rain | no rain yesterday) = {p10:.4f} ({p10*100:.2f}%)\")"
   ]
  },
  {
   "cell_type": "markdown",
   "id": "50b5addf",
   "metadata": {},
   "source": [
    "**Starting from a clear day, forecast the distribution. How quickly does it converge to a fixed result? What if you start from a rainy day?**"
   ]
  },
  {
   "cell_type": "code",
   "execution_count": 68,
   "id": "29c6685d",
   "metadata": {},
   "outputs": [
    {
     "name": "stdout",
     "output_type": "stream",
     "text": [
      "\n",
      "Starting from a clear day:\n",
      "Day 0: P(rain) = 0.0\n",
      "Day 1: P(rain) = 0.2557077625570776\n",
      "Day 2: P(rain) = 0.3646025710601223\n",
      "Day 3: P(rain) = 0.4109761312537354\n",
      "Day 4: P(rain) = 0.4307246125137077\n",
      "Day 5: P(rain) = 0.4391346312926669\n",
      "Day 6: P(rain) = 0.44271609231396597\n",
      "Day 7: P(rain) = 0.444241280709404\n",
      "Day 8: P(rain) = 0.4448907920757835\n",
      "Day 9: P(rain) = 0.4451673907021027\n",
      "Day 10: P(rain) = 0.4452851820203796\n",
      "Day 11: P(rain) = 0.4453353442169387\n",
      "Day 12: P(rain) = 0.4453567061135576\n",
      "Day 13: P(rain) = 0.44536580321572733\n",
      "Day 14: P(rain) = 0.44536967727566507\n",
      "Day 15: P(rain) = 0.44537132706920607\n",
      "Day 16: P(rain) = 0.4453720296444815\n",
      "Day 17: P(rain) = 0.4453723288407176\n",
      "Day 18: P(rain) = 0.4453724562553744\n",
      "Day 19: P(rain) = 0.4453725105157321\n",
      "Day 20: P(rain) = 0.4453725336228572\n",
      "Day 21: P(rain) = 0.44537254346317623\n",
      "Day 22: P(rain) = 0.4453725476537399\n",
      "Day 23: P(rain) = 0.44537254943831855\n",
      "Day 24: P(rain) = 0.44537255019829297\n",
      "Day 25: P(rain) = 0.44537255052193303\n",
      "Day 26: P(rain) = 0.4453725506597572\n",
      "Day 27: P(rain) = 0.44537255071845055\n",
      "Day 28: P(rain) = 0.4453725507434455\n",
      "Day 29: P(rain) = 0.44537255075408977\n",
      "Day 30: P(rain) = 0.4453725507586227\n",
      "Day 31: P(rain) = 0.44537255076055304\n",
      "Day 32: P(rain) = 0.4453725507613751\n",
      "Day 33: P(rain) = 0.44537255076172516\n",
      "Day 34: P(rain) = 0.44537255076187426\n",
      "Day 35: P(rain) = 0.44537255076193777\n",
      "Day 36: P(rain) = 0.44537255076196475\n",
      "Day 37: P(rain) = 0.4453725507619763\n",
      "Day 38: P(rain) = 0.4453725507619811\n",
      "Day 39: P(rain) = 0.44537255076198323\n",
      "Day 40: P(rain) = 0.4453725507619841\n",
      "Day 41: P(rain) = 0.4453725507619845\n",
      "Day 42: P(rain) = 0.4453725507619846\n",
      "Day 43: P(rain) = 0.4453725507619847\n",
      "Day 44: P(rain) = 0.4453725507619847\n",
      "Day 45: P(rain) = 0.4453725507619847\n",
      "Day 46: P(rain) = 0.4453725507619847\n",
      "Day 47: P(rain) = 0.4453725507619847\n",
      "Day 48: P(rain) = 0.4453725507619847\n",
      "Day 49: P(rain) = 0.4453725507619847\n"
     ]
    }
   ],
   "source": [
    "print(\"\\nStarting from a clear day:\")\n",
    "\n",
    "init_condition = np.array([1.0 , 0.0])\n",
    "for i in range(50):\n",
    "    print(f\"Day {i}: P(rain) = {init_condition[1]}\")\n",
    "    init_condition = P @ init_condition"
   ]
  },
  {
   "cell_type": "markdown",
   "id": "a9022a38",
   "metadata": {},
   "source": [
    "The distribution appears to starts converging around day 11 at ~0.4453. The distribution starts to give a fized result by day 43."
   ]
  },
  {
   "cell_type": "code",
   "execution_count": 69,
   "id": "3d53c033",
   "metadata": {},
   "outputs": [
    {
     "name": "stdout",
     "output_type": "stream",
     "text": [
      "\n",
      "Starting from a rainy day:\n",
      "Day 0: P(rain) = 1.0\n",
      "Day 1: P(rain) = 0.6815642458100558\n",
      "Day 2: P(rain) = 0.5459563153887164\n",
      "Day 3: P(rain) = 0.4882067990382702\n",
      "Day 4: P(rain) = 0.46361379309570877\n",
      "Day 5: P(rain) = 0.45314070207239\n",
      "Day 6: P(rain) = 0.4486806683604111\n",
      "Day 7: P(rain) = 0.44678133408863807\n",
      "Day 8: P(rain) = 0.4459724902751389\n",
      "Day 9: P(rain) = 0.4456280388932213\n",
      "Day 10: P(rain) = 0.4454813520390662\n",
      "Day 11: P(rain) = 0.44541888449121625\n",
      "Day 12: P(rain) = 0.4453922822809714\n",
      "Day 13: P(rain) = 0.44538095355726975\n",
      "Day 14: P(rain) = 0.44537612914683444\n",
      "Day 15: P(rain) = 0.44537407464037265\n",
      "Day 16: P(rain) = 0.44537319971547606\n",
      "Day 17: P(rain) = 0.4453728271230365\n",
      "Day 18: P(rain) = 0.44537266845213047\n",
      "Day 19: P(rain) = 0.4453726008810964\n",
      "Day 20: P(rain) = 0.4453725721055335\n",
      "Day 21: P(rain) = 0.44537255985127344\n",
      "Day 22: P(rain) = 0.4453725546327174\n",
      "Day 23: P(rain) = 0.4453725524103614\n",
      "Day 24: P(rain) = 0.4453725514639567\n",
      "Day 25: P(rain) = 0.4453725510609241\n",
      "Day 26: P(rain) = 0.4453725508892901\n",
      "Day 27: P(rain) = 0.44537255081619864\n",
      "Day 28: P(rain) = 0.44537255078507215\n",
      "Day 29: P(rain) = 0.44537255077181676\n",
      "Day 30: P(rain) = 0.4453725507661718\n",
      "Day 31: P(rain) = 0.44537255076376786\n",
      "Day 32: P(rain) = 0.4453725507627441\n",
      "Day 33: P(rain) = 0.4453725507623082\n",
      "Day 34: P(rain) = 0.44537255076212257\n",
      "Day 35: P(rain) = 0.44537255076204346\n",
      "Day 36: P(rain) = 0.44537255076200977\n",
      "Day 37: P(rain) = 0.4453725507619954\n",
      "Day 38: P(rain) = 0.4453725507619893\n",
      "Day 39: P(rain) = 0.4453725507619867\n",
      "Day 40: P(rain) = 0.44537255076198556\n",
      "Day 41: P(rain) = 0.44537255076198506\n",
      "Day 42: P(rain) = 0.44537255076198484\n",
      "Day 43: P(rain) = 0.44537255076198473\n",
      "Day 44: P(rain) = 0.4453725507619847\n",
      "Day 45: P(rain) = 0.4453725507619846\n",
      "Day 46: P(rain) = 0.4453725507619846\n",
      "Day 47: P(rain) = 0.4453725507619846\n",
      "Day 48: P(rain) = 0.4453725507619846\n",
      "Day 49: P(rain) = 0.4453725507619846\n"
     ]
    }
   ],
   "source": [
    "print(\"\\nStarting from a rainy day:\")\n",
    "\n",
    "init_condition = np.array([0.0 , 1.0])\n",
    "for i in range(50):\n",
    "    print(f\"Day {i}: P(rain) = {init_condition[1]}\")\n",
    "    init_condition = P @ init_condition"
   ]
  },
  {
   "cell_type": "markdown",
   "id": "51972402",
   "metadata": {},
   "source": [
    "The distribution starts converging around day 12 with ~0.4454. It converges to a fixed result starting on day 45."
   ]
  },
  {
   "cell_type": "markdown",
   "id": "98985dd1",
   "metadata": {},
   "source": [
    "**Conditional on being rainy, plot a KDE of the `PRCP` variable.**"
   ]
  },
  {
   "cell_type": "code",
   "execution_count": 72,
   "id": "7545ce4a",
   "metadata": {},
   "outputs": [],
   "source": [
    "rainy_days = weather_clean[weather_clean['rain'] == 1]['PRCP']"
   ]
  },
  {
   "cell_type": "code",
   "execution_count": 74,
   "id": "eb5c87ea",
   "metadata": {},
   "outputs": [
    {
     "data": {
      "image/png": "[encoded data removed]",
      "text/plain": [
       "<Figure size 1000x500 with 1 Axes>"
      ]
     },
     "metadata": {},
     "output_type": "display_data"
    }
   ],
   "source": [
    "plt.figure(figsize=(10,5))\n",
    "rainy_days.plot(kind = 'kde', linewidth = 2)\n",
    "plt.xlabel(\"Precipitation (inches)\")\n",
    "plt.ylabel(\"Density\")\n",
    "plt.title(\"KDE of Precipitation (Rainy Days Only)\")\n",
    "plt.grid(alpha = 0.3)\n",
    "plt.tight_layout()\n",
    "plt.show()"
   ]
  },
  {
   "cell_type": "markdown",
   "id": "0ac19890",
   "metadata": {},
   "source": [
    "**Describe one way of making your model better for forecasting and simulation the weather.**"
   ]
  },
  {
   "cell_type": "markdown",
   "id": "3d3598be",
   "metadata": {},
   "source": [
    "One way of making the model better for forecasting is using a multi-state model with different categories for precipitation. Precipitation can be categorized as none, light, moderate, or heavy instead of just a binary rain/no rain."
   ]
  },
  {
   "cell_type": "markdown",
   "id": "be50f0f2",
   "metadata": {},
   "source": [
    "**Congratulations, you now are a non-parametric meteorologist!**"
   ]
  },
  {
   "cell_type": "markdown",
   "id": "b953c2c4",
   "metadata": {},
   "source": [
    "## Question 4: Taxicab trajectories \n",
    "**Using the pickled taxicab data, we want to complete the exercise from class.**\n",
    "\n",
    "- **For the taxicab trajectory data, determine your state space and clean your sequences of cab rides.**\n"
   ]
  },
  {
   "cell_type": "code",
   "execution_count": 2,
   "id": "71b2cd62",
   "metadata": {},
   "outputs": [],
   "source": [
    "import pickle"
   ]
  },
  {
   "cell_type": "code",
   "execution_count": 3,
   "id": "4676ecc3",
   "metadata": {},
   "outputs": [
    {
     "data": {
      "text/plain": [
       "1000"
      ]
     },
     "execution_count": 3,
     "metadata": {},
     "output_type": "execute_result"
    }
   ],
   "source": [
    "with open(\"taxicab.pkl\", 'rb') as f:\n",
    "    data = pickle.load(f)\n",
    "\n",
    "len(data)"
   ]
  },
  {
   "cell_type": "code",
   "execution_count": 4,
   "metadata": {},
   "outputs": [],
   "source": [
    "states = set(data[0])"
   ]
  },
  {
   "cell_type": "code",
   "execution_count": 5,
   "metadata": {},
   "outputs": [],
   "source": [
    "for i in range(1, len(data)):\n",
    "    new_trip =  data[i]\n",
    "    new_states = set(new_trip)\n",
    "    states = states.union(new_states)\n",
    "states = list(states)"
   ]
  },
  {
   "cell_type": "markdown",
   "id": "36ab05f0",
   "metadata": {},
   "source": [
    "- **Compute the transition matrix for the taxicab data between neighborhoods in Manhattan. Plot it in a heat map. What are the most common routes?**"
   ]
  },
  {
   "cell_type": "code",
   "execution_count": 6,
   "id": "46d51627",
   "metadata": {},
   "outputs": [
    {
     "data": {
      "text/plain": [
       "array([[1.68380e+04, 0.00000e+00, 2.83000e+02, ..., 2.41200e+03,\n",
       "        0.00000e+00, 1.27000e+02],\n",
       "       [0.00000e+00, 2.00000e+00, 0.00000e+00, ..., 1.00000e+00,\n",
       "        0.00000e+00, 0.00000e+00],\n",
       "       [3.01000e+02, 0.00000e+00, 5.22680e+04, ..., 1.59800e+03,\n",
       "        0.00000e+00, 3.37200e+03],\n",
       "       ...,\n",
       "       [2.50200e+03, 0.00000e+00, 1.27700e+03, ..., 1.36147e+05,\n",
       "        1.00000e+00, 3.95000e+02],\n",
       "       [0.00000e+00, 0.00000e+00, 0.00000e+00, ..., 0.00000e+00,\n",
       "        0.00000e+00, 0.00000e+00],\n",
       "       [1.06000e+02, 0.00000e+00, 3.97400e+03, ..., 3.99000e+02,\n",
       "        0.00000e+00, 3.23970e+04]], shape=(38, 38))"
      ]
     },
     "execution_count": 6,
     "metadata": {},
     "output_type": "execute_result"
    }
   ],
   "source": [
    "tr_counts = np.zeros((len(states), len(states)))\n",
    "for trip in data:\n",
    "    seq = np.array(trip)\n",
    "    for t in range(1, len(seq)):\n",
    "        x_tm1 = seq[t-1]\n",
    "        x_t = seq[t]\n",
    "        index_from = states.index(x_tm1)\n",
    "        index_to = states.index(x_t)\n",
    "        tr_counts[index_from, index_to] += 1\n",
    "tr_counts"
   ]
  },
  {
   "cell_type": "code",
   "execution_count": 7,
   "metadata": {},
   "outputs": [
    {
     "data": {
      "text/html": [
       "<div>\n",
       "<style scoped>\n",
       "    .dataframe tbody tr th:only-of-type {\n",
       "        vertical-align: middle;\n",
       "    }\n",
       "\n",
       "    .dataframe tbody tr th {\n",
       "        vertical-align: top;\n",
       "    }\n",
       "\n",
       "    .dataframe thead th {\n",
       "        text-align: right;\n",
       "    }\n",
       "</style>\n",
       "<table border=\"1\" class=\"dataframe\">\n",
       "  <thead>\n",
       "    <tr style=\"text-align: right;\">\n",
       "      <th></th>\n",
       "      <th>Nolita</th>\n",
       "      <th>Governors Island</th>\n",
       "      <th>Central Park</th>\n",
       "      <th>Inwood</th>\n",
       "      <th>East Village</th>\n",
       "      <th>Hell's Kitchen</th>\n",
       "      <th>Two Bridges</th>\n",
       "      <th>Midtown</th>\n",
       "      <th>Lower East Side</th>\n",
       "      <th>Battery Park City</th>\n",
       "      <th>...</th>\n",
       "      <th>Washington Heights</th>\n",
       "      <th>NoHo</th>\n",
       "      <th>Little Italy</th>\n",
       "      <th>SoHo</th>\n",
       "      <th>Civic Center</th>\n",
       "      <th>East Harlem</th>\n",
       "      <th>Gramercy</th>\n",
       "      <th>Financial District</th>\n",
       "      <th>Ellis Island</th>\n",
       "      <th>Morningside Heights</th>\n",
       "    </tr>\n",
       "  </thead>\n",
       "  <tbody>\n",
       "    <tr>\n",
       "      <th>Nolita</th>\n",
       "      <td>0.16</td>\n",
       "      <td>0.00</td>\n",
       "      <td>0.00</td>\n",
       "      <td>0.00</td>\n",
       "      <td>0.09</td>\n",
       "      <td>0.02</td>\n",
       "      <td>0.0</td>\n",
       "      <td>0.07</td>\n",
       "      <td>0.05</td>\n",
       "      <td>0.01</td>\n",
       "      <td>...</td>\n",
       "      <td>0.00</td>\n",
       "      <td>0.05</td>\n",
       "      <td>0.01</td>\n",
       "      <td>0.09</td>\n",
       "      <td>0.0</td>\n",
       "      <td>0.00</td>\n",
       "      <td>0.03</td>\n",
       "      <td>0.02</td>\n",
       "      <td>0.0</td>\n",
       "      <td>0.00</td>\n",
       "    </tr>\n",
       "    <tr>\n",
       "      <th>Governors Island</th>\n",
       "      <td>0.00</td>\n",
       "      <td>0.17</td>\n",
       "      <td>0.00</td>\n",
       "      <td>0.00</td>\n",
       "      <td>0.08</td>\n",
       "      <td>0.00</td>\n",
       "      <td>0.0</td>\n",
       "      <td>0.00</td>\n",
       "      <td>0.00</td>\n",
       "      <td>0.00</td>\n",
       "      <td>...</td>\n",
       "      <td>0.00</td>\n",
       "      <td>0.00</td>\n",
       "      <td>0.00</td>\n",
       "      <td>0.00</td>\n",
       "      <td>0.0</td>\n",
       "      <td>0.00</td>\n",
       "      <td>0.08</td>\n",
       "      <td>0.08</td>\n",
       "      <td>0.0</td>\n",
       "      <td>0.00</td>\n",
       "    </tr>\n",
       "    <tr>\n",
       "      <th>Central Park</th>\n",
       "      <td>0.00</td>\n",
       "      <td>0.00</td>\n",
       "      <td>0.14</td>\n",
       "      <td>0.00</td>\n",
       "      <td>0.01</td>\n",
       "      <td>0.04</td>\n",
       "      <td>0.0</td>\n",
       "      <td>0.19</td>\n",
       "      <td>0.00</td>\n",
       "      <td>0.00</td>\n",
       "      <td>...</td>\n",
       "      <td>0.00</td>\n",
       "      <td>0.00</td>\n",
       "      <td>0.00</td>\n",
       "      <td>0.01</td>\n",
       "      <td>0.0</td>\n",
       "      <td>0.02</td>\n",
       "      <td>0.01</td>\n",
       "      <td>0.00</td>\n",
       "      <td>0.0</td>\n",
       "      <td>0.01</td>\n",
       "    </tr>\n",
       "    <tr>\n",
       "      <th>Inwood</th>\n",
       "      <td>0.00</td>\n",
       "      <td>0.00</td>\n",
       "      <td>0.01</td>\n",
       "      <td>0.07</td>\n",
       "      <td>0.01</td>\n",
       "      <td>0.10</td>\n",
       "      <td>0.0</td>\n",
       "      <td>0.06</td>\n",
       "      <td>0.00</td>\n",
       "      <td>0.00</td>\n",
       "      <td>...</td>\n",
       "      <td>0.08</td>\n",
       "      <td>0.00</td>\n",
       "      <td>0.00</td>\n",
       "      <td>0.00</td>\n",
       "      <td>0.0</td>\n",
       "      <td>0.03</td>\n",
       "      <td>0.00</td>\n",
       "      <td>0.00</td>\n",
       "      <td>0.0</td>\n",
       "      <td>0.12</td>\n",
       "    </tr>\n",
       "    <tr>\n",
       "      <th>East Village</th>\n",
       "      <td>0.01</td>\n",
       "      <td>0.00</td>\n",
       "      <td>0.00</td>\n",
       "      <td>0.00</td>\n",
       "      <td>0.27</td>\n",
       "      <td>0.02</td>\n",
       "      <td>0.0</td>\n",
       "      <td>0.09</td>\n",
       "      <td>0.03</td>\n",
       "      <td>0.01</td>\n",
       "      <td>...</td>\n",
       "      <td>0.00</td>\n",
       "      <td>0.02</td>\n",
       "      <td>0.00</td>\n",
       "      <td>0.03</td>\n",
       "      <td>0.0</td>\n",
       "      <td>0.01</td>\n",
       "      <td>0.07</td>\n",
       "      <td>0.02</td>\n",
       "      <td>0.0</td>\n",
       "      <td>0.00</td>\n",
       "    </tr>\n",
       "  </tbody>\n",
       "</table>\n",
       "<p>5 rows × 38 columns</p>\n",
       "</div>"
      ],
      "text/plain": [
       "                  Nolita  Governors Island  Central Park  Inwood  \\\n",
       "Nolita              0.16              0.00          0.00    0.00   \n",
       "Governors Island    0.00              0.17          0.00    0.00   \n",
       "Central Park        0.00              0.00          0.14    0.00   \n",
       "Inwood              0.00              0.00          0.01    0.07   \n",
       "East Village        0.01              0.00          0.00    0.00   \n",
       "\n",
       "                  East Village  Hell's Kitchen  Two Bridges  Midtown  \\\n",
       "Nolita                    0.09            0.02          0.0     0.07   \n",
       "Governors Island          0.08            0.00          0.0     0.00   \n",
       "Central Park              0.01            0.04          0.0     0.19   \n",
       "Inwood                    0.01            0.10          0.0     0.06   \n",
       "East Village              0.27            0.02          0.0     0.09   \n",
       "\n",
       "                  Lower East Side  Battery Park City  ...  Washington Heights  \\\n",
       "Nolita                       0.05               0.01  ...                0.00   \n",
       "Governors Island             0.00               0.00  ...                0.00   \n",
       "Central Park                 0.00               0.00  ...                0.00   \n",
       "Inwood                       0.00               0.00  ...                0.08   \n",
       "East Village                 0.03               0.01  ...                0.00   \n",
       "\n",
       "                  NoHo  Little Italy  SoHo  Civic Center  East Harlem  \\\n",
       "Nolita            0.05          0.01  0.09           0.0         0.00   \n",
       "Governors Island  0.00          0.00  0.00           0.0         0.00   \n",
       "Central Park      0.00          0.00  0.01           0.0         0.02   \n",
       "Inwood            0.00          0.00  0.00           0.0         0.03   \n",
       "East Village      0.02          0.00  0.03           0.0         0.01   \n",
       "\n",
       "                  Gramercy  Financial District  Ellis Island  \\\n",
       "Nolita                0.03                0.02           0.0   \n",
       "Governors Island      0.08                0.08           0.0   \n",
       "Central Park          0.01                0.00           0.0   \n",
       "Inwood                0.00                0.00           0.0   \n",
       "East Village          0.07                0.02           0.0   \n",
       "\n",
       "                  Morningside Heights  \n",
       "Nolita                           0.00  \n",
       "Governors Island                 0.00  \n",
       "Central Park                     0.01  \n",
       "Inwood                           0.12  \n",
       "East Village                     0.00  \n",
       "\n",
       "[5 rows x 38 columns]"
      ]
     },
     "execution_count": 7,
     "metadata": {},
     "output_type": "execute_result"
    }
   ],
   "source": [
    "sums = tr_counts.sum(axis = 1, keepdims=True)\n",
    "tr_pr = np.divide(tr_counts, sums, out = np.zeros_like(tr_counts), where = sums != 0)\n",
    "tr_df = pd.DataFrame(np.round(tr_pr, 2), index = states, columns = states)\n",
    "tr_df.head()"
   ]
  },
  {
   "cell_type": "code",
   "execution_count": 8,
   "id": "beb2be45",
   "metadata": {},
   "outputs": [
    {
     "data": {
      "image/png": "[encoded data removed]",
      "text/plain": [
       "<Figure size 1200x1000 with 2 Axes>"
      ]
     },
     "metadata": {},
     "output_type": "display_data"
    }
   ],
   "source": [
    "plt.figure(figsize=(12, 10))\n",
    "\n",
    "sns.heatmap(tr_pr, \n",
    "            cmap = 'YlOrRd', \n",
    "            square=True, \n",
    "            xticklabels = states, \n",
    "            yticklabels = states, \n",
    "            cbar_kws={'label': 'Transition probabilities'},\n",
    "            vmin=0, vmax=0.5,\n",
    "            linewidths=0.5,\n",
    "            linecolor='lightgray')\n",
    "\n",
    "plt.title(\"Transition probabilities\")\n",
    "plt.xlabel(\"...To State\")\n",
    "plt.ylabel(\"From State...\")\n",
    "plt.xticks(rotation = 90)\n",
    "plt.yticks(rotation = 0)\n",
    "\n",
    "plt.show()"
   ]
  },
  {
   "cell_type": "code",
   "execution_count": 9,
   "id": "3fdd86f0",
   "metadata": {},
   "outputs": [
    {
     "name": "stdout",
     "output_type": "stream",
     "text": [
      "Top 10 Most Common Routes:\n",
      "Midtown              → Midtown              | Count: 1389343 | Prob: 0.361\n",
      "Upper East Side      → Upper East Side      | Count: 1283151 | Prob: 0.459\n",
      "Outside Manhattan    → Outside Manhattan    | Count: 1203902 | Prob: 0.509\n",
      "Upper West Side      → Upper West Side      | Count: 763963 | Prob: 0.424\n",
      "Chelsea              → Chelsea              | Count: 662397 | Prob: 0.335\n",
      "Upper East Side      → Midtown              | Count: 507502 | Prob: 0.181\n",
      "Midtown              → Upper East Side      | Count: 484395 | Prob: 0.126\n",
      "Hell's Kitchen       → Hell's Kitchen       | Count: 346322 | Prob: 0.283\n",
      "Midtown              → Chelsea              | Count: 278191 | Prob: 0.072\n",
      "Chelsea              → Midtown              | Count: 260420 | Prob: 0.132\n"
     ]
    }
   ],
   "source": [
    "transitions = []\n",
    "for i in range(len(states)):\n",
    "    for j in range(len(states)):\n",
    "        if tr_counts[i, j] > 0:\n",
    "            transitions.append({\n",
    "                \"from\": states[i],\n",
    "                \"to\": states[j],\n",
    "                \"count\": int(tr_counts[i, j]),\n",
    "                \"prob\": tr_pr[i, j]\n",
    "            })\n",
    "transitions_df = pd.DataFrame(transitions)\n",
    "transitions_df = transitions_df.sort_values('count', ascending=False)\n",
    "\n",
    "print(f\"Top 10 Most Common Routes:\")\n",
    "for i, row in transitions_df.head(10).iterrows():\n",
    "    print(f\"{row['from']:20s} → {row['to']:20s} | Count: {row['count']:5.0f} | Prob: {row['prob']:.3f}\")"
   ]
  },
  {
   "cell_type": "markdown",
   "id": "ad20f5e7",
   "metadata": {},
   "source": [
    "- **Explain why taxicabs are most likely order 1, and not 2 or more.**"
   ]
  },
  {
   "cell_type": "markdown",
   "id": "98d1b9c6",
   "metadata": {},
   "source": [
    "Taxicabs are more likely order 1 and not 2 or more because a Markov chain is order 1 if the next state depends only on the current state, and not on the history of the previous states. Where a taxicab is going depends on where it is now, not where it came from, and each passenger is going to have a destination independent of the taxicab's prvious routes. The next location does not depend on the last two locations. SO taxicabs are more likely order 1."
   ]
  },
  {
   "cell_type": "markdown",
   "id": "9e2ce2a5",
   "metadata": {},
   "source": [
    "\n",
    "- **Starting at Hell's Kitchen, create a sequence of forecasts of where the cab is likely to be in 2, 3, 5, and 10 trips**\n"
   ]
  },
  {
   "cell_type": "code",
   "execution_count": 12,
   "id": "4d077700",
   "metadata": {},
   "outputs": [
    {
     "name": "stdout",
     "output_type": "stream",
     "text": [
      "\n",
      "After 2 trips:\n",
      "  Midtown                  : 0.1725 (17.25%)\n",
      "  Hell's Kitchen           : 0.1192 (11.92%)\n",
      "  Chelsea                  : 0.1087 (10.87%)\n",
      "  Upper West Side          : 0.0989 (9.89%)\n",
      "  Upper East Side          : 0.0869 (8.69%)\n",
      "\n",
      "After 3 trips:\n",
      "  Midtown                  : 0.1726 (17.26%)\n",
      "  Upper East Side          : 0.1080 (10.80%)\n",
      "  Chelsea                  : 0.0972 (9.72%)\n",
      "  Upper West Side          : 0.0916 (9.16%)\n",
      "  Outside Manhattan        : 0.0900 (9.00%)\n",
      "\n",
      "After 5 trips:\n",
      "  Midtown                  : 0.1693 (16.93%)\n",
      "  Upper East Side          : 0.1204 (12.04%)\n",
      "  Outside Manhattan        : 0.0994 (9.94%)\n",
      "  Chelsea                  : 0.0881 (8.81%)\n",
      "  Upper West Side          : 0.0826 (8.26%)\n",
      "\n",
      "After 10 trips:\n",
      "  Midtown                  : 0.1678 (16.78%)\n",
      "  Upper East Side          : 0.1220 (12.20%)\n",
      "  Outside Manhattan        : 0.1028 (10.28%)\n",
      "  Chelsea                  : 0.0861 (8.61%)\n",
      "  Upper West Side          : 0.0787 (7.87%)\n"
     ]
    }
   ],
   "source": [
    "start_state = \"Hell's Kitchen\"\n",
    "start_state_index = states.index(start_state)\n",
    "pi_0 = np.zeros(len(states))\n",
    "pi_0[start_state_index] = 1\n",
    "\n",
    "forecast_steps = [2, 3, 5, 10]\n",
    "\n",
    "for i in forecast_steps:\n",
    "    P_n = np.linalg.matrix_power(tr_pr, i)\n",
    "    pi_n = pi_0 @ P_n\n",
    "\n",
    "    print(f\"\\nAfter {i} trips:\")\n",
    "    \n",
    "    top_indices = np.argsort(pi_n)[-5:][::-1]\n",
    "    for i in top_indices:\n",
    "        if pi_n[i] > 0.01:\n",
    "            print(f\"  {states[i]:25s}: {pi_n[i]:.4f} ({pi_n[i]*100:.2f}%)\")\n",
    "    "
   ]
  },
  {
   "cell_type": "markdown",
   "id": "c3d8b714",
   "metadata": {},
   "source": [
    "- **Starting at any neighborhood, iterate your forecast until it is no longer changing very much. Where do cabs spend most of their time working in Manhattan?**"
   ]
  },
  {
   "cell_type": "code",
   "execution_count": 34,
   "id": "9c1a85df",
   "metadata": {},
   "outputs": [],
   "source": [
    "p = np.ones(len(states)) / len(states)"
   ]
  },
  {
   "cell_type": "code",
   "execution_count": null,
   "id": "2e19e6f2",
   "metadata": {},
   "outputs": [
    {
     "name": "stdout",
     "output_type": "stream",
     "text": [
      "\n",
      "Iteration 1\n",
      "[1.07658904e-02 4.38672977e-03 1.35152044e-02 4.92772791e-03\n",
      " 4.60953920e-02 3.88344758e-02 2.73907206e-03 1.04346481e-01\n",
      " 2.29532721e-02 1.50669355e-02 6.64816432e-02 7.56761883e-02\n",
      " 1.98581022e-02 9.97089248e-02 2.20253534e-02 2.29178836e-02\n",
      " 9.98457301e-03 3.39669868e-03 4.77308137e-03 1.07854026e-02\n",
      " 3.49172045e-02 2.62293314e-02 5.15733960e-08 6.73598052e-02\n",
      " 3.48247793e-02 2.35736723e-02 8.93590502e-04 1.53105344e-02\n",
      " 1.03634147e-02 1.19834425e-02 1.38363704e-02 3.11609327e-02\n",
      " 5.74310529e-03 1.99734313e-02 5.20075314e-02 3.32441498e-02\n",
      " 7.75596510e-08 1.93395432e-02]\n",
      "\n",
      "Iteration 2\n",
      "[7.19211708e-03 7.31695904e-04 1.41628015e-02 1.04633858e-03\n",
      " 4.65029499e-02 4.62132941e-02 7.66693469e-04 1.40375635e-01\n",
      " 2.02522951e-02 1.28373440e-02 8.09700241e-02 9.85232370e-02\n",
      " 1.34830424e-02 1.07249546e-01 2.30915001e-02 2.62848471e-02\n",
      " 6.58475185e-03 6.94714488e-04 9.76051870e-04 6.77337448e-03\n",
      " 2.48607027e-02 3.20103371e-02 4.61994249e-08 7.56528797e-02\n",
      " 3.87675548e-02 2.45634641e-02 5.51784751e-05 1.66350095e-02\n",
      " 4.80507125e-03 9.64949462e-03 3.30140784e-03 3.02294332e-02\n",
      " 3.44146406e-03 1.54520197e-02 2.78482569e-02 2.65568009e-02\n",
      " 1.44554531e-07 1.14584804e-02]\n",
      "\n",
      "Iteration 3\n",
      "[5.57003093e-03 1.22450548e-04 1.49705231e-02 6.67259518e-04\n",
      " 4.30964571e-02 5.00722049e-02 5.40345170e-04 1.55505415e-01\n",
      " 1.82773707e-02 1.15011830e-02 8.49872096e-02 1.09704369e-01\n",
      " 1.06815706e-02 1.06769668e-01 2.25693165e-02 2.75465135e-02\n",
      " 5.45966672e-03 3.83472251e-04 3.02046042e-04 5.45280956e-03\n",
      " 2.10838403e-02 3.52816269e-02 4.81392080e-08 7.67185518e-02\n",
      " 3.88028441e-02 2.38273397e-02 2.36388657e-05 1.70577034e-02\n",
      " 3.49541673e-03 8.59303713e-03 2.04123852e-03 2.74143013e-02\n",
      " 2.89715070e-03 1.39155008e-02 2.36253741e-02 2.26585267e-02\n",
      " 1.41953446e-07 8.38383666e-03]\n",
      "\n",
      "Iteration 4\n",
      "[5.03079649e-03 2.08762962e-05 1.54255145e-02 6.26963508e-04\n",
      " 4.09786155e-02 5.18502538e-02 4.89675043e-04 1.62098526e-01\n",
      " 1.72384669e-02 1.07757795e-02 8.61639862e-02 1.15371910e-01\n",
      " 9.74183026e-03 1.05463924e-01 2.23292638e-02 2.80950676e-02\n",
      " 5.09736910e-03 3.50627329e-04 1.81904622e-04 4.99498398e-03\n",
      " 1.94206372e-02 3.68171397e-02 4.66965593e-08 7.69278492e-02\n",
      " 3.80917233e-02 2.31735267e-02 2.17416230e-05 1.72103492e-02\n",
      " 3.21402888e-03 8.09296400e-03 1.81533508e-03 2.57790175e-02\n",
      " 2.70178808e-03 1.35620175e-02 2.25849766e-02 2.08646363e-02\n",
      " 1.36850074e-07 7.39575104e-03]\n",
      "\n",
      "Iteration 5\n",
      "[4.82596884e-03 3.93201935e-06 1.56956466e-02 6.21542583e-04\n",
      " 3.98914885e-02 5.26341522e-02 4.70564373e-04 1.65055575e-01\n",
      " 1.67170445e-02 1.03986617e-02 8.64353633e-02 1.18319847e-01\n",
      " 9.47323950e-03 1.04475850e-01 2.22363171e-02 2.83382459e-02\n",
      " 4.96477960e-03 3.48272333e-04 1.60610486e-04 4.80340769e-03\n",
      " 1.86293764e-02 3.74965151e-02 4.54152239e-08 7.72359642e-02\n",
      " 3.74925503e-02 2.27664033e-02 2.14817198e-05 1.72537886e-02\n",
      " 3.15467921e-03 7.85259810e-03 1.74580457e-03 2.49335660e-02\n",
      " 2.61463132e-03 1.35586313e-02 2.22194120e-02 2.00429948e-02\n",
      " 1.33946818e-07 7.11091430e-03]\n",
      "\n",
      "Iteration 6\n",
      "[4.73401519e-03 1.10026328e-06 1.58620789e-02 6.21139218e-04\n",
      " 3.93415645e-02 5.29828546e-02 4.61793911e-04 1.66421981e-01\n",
      " 1.64509098e-02 1.02040656e-02 8.64285027e-02 1.19891577e-01\n",
      " 9.41437266e-03 1.03849694e-01 2.21917414e-02 2.84415558e-02\n",
      " 4.90802466e-03 3.48541585e-04 1.57029086e-04 4.71244100e-03\n",
      " 1.82358773e-02 3.77961802e-02 4.46173479e-08 7.75921156e-02\n",
      " 3.71045513e-02 2.25323302e-02 2.14324846e-05 1.72564681e-02\n",
      " 3.14515067e-03 7.73236184e-03 1.71520354e-03 2.44956462e-02\n",
      " 2.57157732e-03 1.36253863e-02 2.20542333e-02 1.96514820e-02\n",
      " 1.32435787e-07 7.04484380e-03]\n",
      "\n",
      "Iteration 7\n",
      "[4.68801327e-03 6.24172835e-07 1.59644973e-02 6.21616818e-04\n",
      " 3.90552884e-02 5.31446432e-02 4.57442760e-04 1.67073827e-01\n",
      " 1.63109682e-02 1.01026340e-02 8.63577587e-02 1.20747289e-01\n",
      " 9.41356342e-03 1.03474768e-01 2.21647136e-02 2.84824424e-02\n",
      " 4.88042764e-03 3.48756195e-04 1.56579163e-04 4.66614338e-03\n",
      " 1.80337287e-02 3.79319143e-02 4.41586139e-08 7.78995067e-02\n",
      " 3.68727430e-02 2.23998003e-02 2.14311168e-05 1.72473404e-02\n",
      " 3.14680815e-03 7.66960272e-03 1.69964947e-03 2.42637901e-02\n",
      " 2.54917275e-03 1.36867232e-02 2.19680873e-02 1.94562436e-02\n",
      " 1.31639000e-07 7.04128566e-03]\n",
      "\n",
      "Iteration 8\n",
      "[4.66360417e-03 5.42543219e-07 1.60267762e-02 6.22143774e-04\n",
      " 3.89009483e-02 5.32241506e-02 4.55179298e-04 1.67395115e-01\n",
      " 1.62352889e-02 1.00488443e-02 8.62897757e-02 1.21220860e-01\n",
      " 9.42486453e-03 1.03255110e-01 2.21466488e-02 2.84969486e-02\n",
      " 4.86581852e-03 3.48834562e-04 1.56632568e-04 4.64158048e-03\n",
      " 1.79270322e-02 3.79960291e-02 4.38988833e-08 7.81272150e-02\n",
      " 3.67379961e-02 2.23244699e-02 2.14403345e-05 1.72371597e-02\n",
      " 3.15021837e-03 7.63566888e-03 1.69129650e-03 2.41382633e-02\n",
      " 2.53713502e-03 1.37297530e-02 2.19196877e-02 1.93548920e-02\n",
      " 1.31207475e-07 7.05190122e-03]\n",
      "\n",
      "Iteration 9\n",
      "[4.65021659e-03 5.27655146e-07 1.60642193e-02 6.22548795e-04\n",
      " 3.88152834e-02 5.32655129e-02 4.53960680e-04 1.67558554e-01\n",
      " 1.61934277e-02 1.00197797e-02 8.62395349e-02 1.21486250e-01\n",
      " 9.43575510e-03 1.03127511e-01 2.21344949e-02 2.85010677e-02\n",
      " 4.85768271e-03 3.48853589e-04 1.56728489e-04 4.62817776e-03\n",
      " 1.78694053e-02 3.80277692e-02 4.37512516e-08 7.82821062e-02\n",
      " 3.66602890e-02 2.22813019e-02 2.14497785e-05 1.72290660e-02\n",
      " 3.15312704e-03 7.61683193e-03 1.68668884e-03 2.40690050e-02\n",
      " 2.53052000e-03 1.37572343e-02 2.18915017e-02 1.93005606e-02\n",
      " 1.30968438e-07 7.06288055e-03]\n",
      "\n",
      "Iteration 10\n",
      "[4.64272164e-03 5.24443073e-07 1.60865407e-02 6.22825537e-04\n",
      " 3.87667416e-02 5.32880500e-02 4.53287897e-04 1.67644126e-01\n",
      " 1.61698777e-02 1.00037996e-02 8.62060565e-02 1.21636419e-01\n",
      " 9.44374189e-03 1.03053598e-01 2.21264991e-02 2.85015037e-02\n",
      " 4.85302235e-03 3.48853121e-04 1.56799034e-04 4.62071630e-03\n",
      " 1.78376798e-02 3.80441910e-02 4.36666514e-08 7.83822333e-02\n",
      " 3.66155006e-02 2.22563812e-02 2.14570065e-05 1.72234012e-02\n",
      " 3.15519111e-03 7.60618008e-03 1.68410438e-03 2.40302087e-02\n",
      " 2.52682353e-03 1.37740695e-02 2.18748321e-02 1.92707144e-02\n",
      " 1.30833849e-07 7.07115398e-03]\n",
      "\n",
      "Iteration 11\n",
      "[4.63846773e-03 5.23488028e-07 1.60997693e-02 6.23004241e-04\n",
      " 3.87388608e-02 5.33007358e-02 4.52909730e-04 1.67690058e-01\n",
      " 1.61564670e-02 9.99488236e-03 8.61848818e-02 1.21722034e-01\n",
      " 9.44904483e-03 1.03010792e-01 2.21213729e-02 2.85008820e-02\n",
      " 4.85031304e-03 3.48848109e-04 1.56843914e-04 4.61650170e-03\n",
      " 1.78199434e-02 3.80530054e-02 4.36178122e-08 7.84449232e-02\n",
      " 3.65896334e-02 2.22419163e-02 2.14619631e-05 1.72196864e-02\n",
      " 3.15654715e-03 7.60008081e-03 1.68263768e-03 2.40082190e-02\n",
      " 2.52473189e-03 1.37841726e-02 2.18649226e-02 1.92540197e-02\n",
      " 1.30757206e-07 7.07673092e-03]\n",
      "\n",
      "Iteration 12\n",
      "[4.63603042e-03 5.23086371e-07 1.61075782e-02 6.23115989e-04\n",
      " 3.87227122e-02 5.33080246e-02 4.52694468e-04 1.67715226e-01\n",
      " 1.61487646e-02 9.98984646e-03 8.61718759e-02 1.21771137e-01\n",
      " 9.45239989e-03 1.02985979e-01 2.21181583e-02 2.85001334e-02\n",
      " 4.84872659e-03 3.48843264e-04 1.56871196e-04 4.61409612e-03\n",
      " 1.78099081e-02 3.80578709e-02 4.35894640e-08 7.84833666e-02\n",
      " 3.65746548e-02 2.22334898e-02 2.14651770e-05 1.72173413e-02\n",
      " 3.15740250e-03 7.59655948e-03 1.68179819e-03 2.39956437e-02\n",
      " 2.52353727e-03 1.37901705e-02 2.18590295e-02 1.92445579e-02\n",
      " 1.30713215e-07 7.08029297e-03]\n",
      "\n",
      "Iteration 13\n",
      "[4.63462473e-03 5.22878764e-07 1.61121755e-02 6.23184480e-04\n",
      " 3.87133119e-02 5.33122623e-02 4.52570860e-04 1.67729245e-01\n",
      " 1.61443144e-02 9.98697580e-03 8.61640256e-02 1.21799432e-01\n",
      " 9.45446609e-03 1.02971577e-01 2.21161771e-02 2.84995275e-02\n",
      " 4.84779471e-03 3.48839658e-04 1.56887483e-04 4.61271283e-03\n",
      " 1.78041780e-02 3.80606108e-02 4.35729498e-08 7.85066165e-02\n",
      " 3.65659597e-02 2.22285697e-02 2.14671934e-05 1.72158957e-02\n",
      " 3.15792915e-03 7.59451568e-03 1.68131470e-03 2.39884046e-02\n",
      " 2.52285028e-03 1.37937102e-02 2.18555307e-02 1.92391445e-02\n",
      " 1.30687824e-07 7.08250047e-03]\n",
      "\n",
      "Iteration 14\n",
      "[4.63381029e-03 5.22762335e-07 1.61148774e-02 6.23225905e-04\n",
      " 3.87078241e-02 5.33147418e-02 4.52499452e-04 1.67737155e-01\n",
      " 1.61417328e-02 9.98532773e-03 8.61593378e-02 1.21815796e-01\n",
      " 9.45571790e-03 1.02963205e-01 2.21149721e-02 2.84991002e-02\n",
      " 4.84724678e-03 3.48837235e-04 1.56897126e-04 4.61191319e-03\n",
      " 1.78008838e-02 3.80621751e-02 4.35633074e-08 7.85205453e-02\n",
      " 3.65609018e-02 2.22256930e-02 2.14684323e-05 1.72150184e-02\n",
      " 3.15824847e-03 7.59332545e-03 1.68103498e-03 2.39842171e-02\n",
      " 2.52245323e-03 1.37957921e-02 2.18534581e-02 1.92360265e-02\n",
      " 1.30673112e-07 7.08384361e-03]\n",
      "\n",
      "Iteration 15\n",
      "[4.63333691e-03 5.22695236e-07 1.61164633e-02 6.23250733e-04\n",
      " 3.87046151e-02 5.33161969e-02 4.52458030e-04 1.67741661e-01\n",
      " 1.61402310e-02 9.98437651e-03 8.61565574e-02 1.21825289e-01\n",
      " 9.45646838e-03 1.02958332e-01 2.21142463e-02 2.84988186e-02\n",
      " 4.84692460e-03 3.48835690e-04 1.56902812e-04 4.61144921e-03\n",
      " 1.77989804e-02 3.80630762e-02 4.35576697e-08 7.85288354e-02\n",
      " 3.65579547e-02 2.22240096e-02 2.14691830e-05 1.72144916e-02\n",
      " 3.15844010e-03 7.59263085e-03 1.68087260e-03 2.39817865e-02\n",
      " 2.52222293e-03 1.37970143e-02 2.18522330e-02 1.92342219e-02\n",
      " 1.30664562e-07 7.08465124e-03]\n",
      "\n",
      "Iteration 16\n",
      "[4.63306116e-03 5.22656216e-07 1.61173935e-02 6.23265519e-04\n",
      " 3.87027370e-02 5.33170517e-02 4.52433933e-04 1.67744246e-01\n",
      " 1.61393557e-02 9.98382534e-03 8.61549154e-02 1.21830807e-01\n",
      " 9.45691517e-03 1.02955492e-01 2.21138123e-02 2.84986402e-02\n",
      " 4.84673524e-03 3.48834735e-04 1.56906155e-04 4.61117929e-03\n",
      " 1.77978765e-02 3.80635984e-02 4.35543707e-08 7.85337469e-02\n",
      " 3.65562353e-02 2.22230242e-02 2.14696335e-05 1.72141776e-02\n",
      " 3.15855430e-03 7.59222496e-03 1.68077813e-03 2.39803720e-02\n",
      " 2.52208900e-03 1.37977310e-02 2.18515104e-02 1.92331739e-02\n",
      " 1.30659584e-07 7.08513305e-03]\n",
      "\n",
      "Iteration 17\n",
      "[4.63290028e-03 5.22633451e-07 1.61179389e-02 6.23274284e-04\n",
      " 3.87016374e-02 5.33175541e-02 4.52419887e-04 1.67745738e-01\n",
      " 1.61388448e-02 9.98350504e-03 8.61539485e-02 1.21834020e-01\n",
      " 9.45717989e-03 1.02953836e-01 2.21135543e-02 2.84985299e-02\n",
      " 4.84662402e-03 3.48834154e-04 1.56908119e-04 4.61102196e-03\n",
      " 1.77972346e-02 3.80639021e-02 4.35524394e-08 7.85366473e-02\n",
      " 3.65552312e-02 2.22224472e-02 2.14699021e-05 1.72139913e-02\n",
      " 3.15862203e-03 7.59198758e-03 1.68072306e-03 2.39795474e-02\n",
      " 2.52201096e-03 1.37981510e-02 2.18510849e-02 1.92325639e-02\n",
      " 1.30656681e-07 7.08541894e-03]\n",
      "\n",
      "Iteration 18\n",
      "[4.63280632e-03 5.22620150e-07 1.61182584e-02 6.23279463e-04\n",
      " 3.87009934e-02 5.33178492e-02 4.52411689e-04 1.67746602e-01\n",
      " 1.61385463e-02 9.98331853e-03 8.61533801e-02 1.21835894e-01\n",
      " 9.45733621e-03 1.02952869e-01 2.21134014e-02 2.84984628e-02\n",
      " 4.84655873e-03 3.48833806e-04 1.56909270e-04 4.61093015e-03\n",
      " 1.77968607e-02 3.80640793e-02 4.35513086e-08 7.85383561e-02\n",
      " 3.65546444e-02 2.22221092e-02 2.14700614e-05 1.72138813e-02\n",
      " 3.15866205e-03 7.59184869e-03 1.68069093e-03 2.39790661e-02\n",
      " 2.52196543e-03 1.37983971e-02 2.18508346e-02 1.92322082e-02\n",
      " 1.30654986e-07 7.08558795e-03]\n",
      "\n",
      "Iteration 19\n",
      "[4.63275141e-03 5.22612374e-07 1.61184456e-02 6.23282516e-04\n",
      " 3.87006162e-02 5.33180225e-02 4.52406899e-04 1.67747104e-01\n",
      " 1.61383718e-02 9.98320974e-03 8.61530464e-02 1.21836988e-01\n",
      " 9.45742831e-03 1.02952304e-01 2.21133112e-02 2.84984225e-02\n",
      " 4.84652042e-03 3.48833599e-04 1.56909946e-04 4.61087652e-03\n",
      " 1.77966425e-02 3.80641827e-02 4.35506463e-08 7.85393611e-02\n",
      " 3.65543013e-02 2.22219113e-02 2.14701556e-05 1.72138164e-02\n",
      " 3.15868565e-03 7.59176740e-03 1.68067215e-03 2.39787849e-02\n",
      " 2.52193884e-03 1.37985412e-02 2.18506876e-02 1.92320005e-02\n",
      " 1.30653995e-07 7.08568759e-03]\n",
      "\n",
      "Iteration 20\n",
      "[4.63271929e-03 5.22607825e-07 1.61185553e-02 6.23284312e-04\n",
      " 3.87003953e-02 5.33181242e-02 4.52404099e-04 1.67747396e-01\n",
      " 1.61382698e-02 9.98314623e-03 8.61528506e-02 1.21837627e-01\n",
      " 9.45748248e-03 1.02951974e-01 2.21132580e-02 2.84983984e-02\n",
      " 4.84649795e-03 3.48833476e-04 1.56910342e-04 4.61084516e-03\n",
      " 1.77965150e-02 3.80642431e-02 4.35502585e-08 7.85399516e-02\n",
      " 3.65541006e-02 2.22217954e-02 2.14702111e-05 1.72137782e-02\n",
      " 3.15869953e-03 7.59171981e-03 1.68066118e-03 2.39786206e-02\n",
      " 2.52192330e-03 1.37986255e-02 2.18506013e-02 1.92318791e-02\n",
      " 1.30653417e-07 7.08574623e-03]\n",
      "\n",
      "Iteration 21\n",
      "[4.63270051e-03 5.22605164e-07 1.61186195e-02 6.23285368e-04\n",
      " 3.87002660e-02 5.33181838e-02 4.52402461e-04 1.67747566e-01\n",
      " 1.61382101e-02 9.98310912e-03 8.61527358e-02 1.21838001e-01\n",
      " 9.45751430e-03 1.02951781e-01 2.21132267e-02 2.84983841e-02\n",
      " 4.84648478e-03 3.48833403e-04 1.56910574e-04 4.61082683e-03\n",
      " 1.77964406e-02 3.80642785e-02 4.35500313e-08 7.85402981e-02\n",
      " 3.65539831e-02 2.22217276e-02 2.14702438e-05 1.72137557e-02\n",
      " 3.15870769e-03 7.59169195e-03 1.68065477e-03 2.39785244e-02\n",
      " 2.52191421e-03 1.37986750e-02 2.18505506e-02 1.92318082e-02\n",
      " 1.30653078e-07 7.08578069e-03]\n",
      "\n",
      "Iteration 22\n",
      "[4.63268951e-03 5.22603606e-07 1.61186571e-02 6.23285988e-04\n",
      " 3.87001902e-02 5.33182188e-02 4.52401503e-04 1.67747666e-01\n",
      " 1.61381751e-02 9.98308742e-03 8.61526686e-02 1.21838219e-01\n",
      " 9.45753297e-03 1.02951668e-01 2.21132083e-02 2.84983756e-02\n",
      " 4.84647706e-03 3.48833361e-04 1.56910710e-04 4.61081610e-03\n",
      " 1.77963970e-02 3.80642992e-02 4.35498983e-08 7.85405014e-02\n",
      " 3.65539144e-02 2.22216878e-02 2.14702630e-05 1.72137426e-02\n",
      " 3.15871248e-03 7.59167563e-03 1.68065101e-03 2.39784682e-02\n",
      " 2.52190890e-03 1.37987039e-02 2.18505209e-02 1.92317667e-02\n",
      " 1.30652880e-07 7.08580092e-03]\n",
      "\n",
      "Iteration 23\n",
      "[4.63268308e-03 5.22602694e-07 1.61186792e-02 6.23286352e-04\n",
      " 3.87001458e-02 5.33182393e-02 4.52400942e-04 1.67747724e-01\n",
      " 1.61381547e-02 9.98307472e-03 8.61526291e-02 1.21838347e-01\n",
      " 9.45754393e-03 1.02951602e-01 2.21131976e-02 2.84983706e-02\n",
      " 4.84647254e-03 3.48833336e-04 1.56910789e-04 4.61080983e-03\n",
      " 1.77963716e-02 3.80643113e-02 4.35498204e-08 7.85406206e-02\n",
      " 3.65538742e-02 2.22216645e-02 2.14702743e-05 1.72137348e-02\n",
      " 3.15871529e-03 7.59166608e-03 1.68064882e-03 2.39784352e-02\n",
      " 2.52190579e-03 1.37987208e-02 2.18505035e-02 1.92317424e-02\n",
      " 1.30652764e-07 7.08581279e-03]\n",
      "\n",
      "Iteration 24\n",
      "[4.63267931e-03 5.22602160e-07 1.61186921e-02 6.23286565e-04\n",
      " 3.87001198e-02 5.33182513e-02 4.52400614e-04 1.67747758e-01\n",
      " 1.61381427e-02 9.98306730e-03 8.61526061e-02 1.21838422e-01\n",
      " 9.45755035e-03 1.02951564e-01 2.21131912e-02 2.84983677e-02\n",
      " 4.84646989e-03 3.48833321e-04 1.56910836e-04 4.61080615e-03\n",
      " 1.77963567e-02 3.80643184e-02 4.35497748e-08 7.85406904e-02\n",
      " 3.65538506e-02 2.22216509e-02 2.14702809e-05 1.72137303e-02\n",
      " 3.15871694e-03 7.59166049e-03 1.68064753e-03 2.39784160e-02\n",
      " 2.52190397e-03 1.37987307e-02 2.18504933e-02 1.92317282e-02\n",
      " 1.30652696e-07 7.08581975e-03]\n",
      "\n",
      "Iteration 25\n",
      "[4.63267711e-03 5.22601848e-07 1.61186996e-02 6.23286690e-04\n",
      " 3.87001046e-02 5.33182584e-02 4.52400422e-04 1.67747778e-01\n",
      " 1.61381357e-02 9.98306295e-03 8.61525925e-02 1.21838466e-01\n",
      " 9.45755411e-03 1.02951541e-01 2.21131875e-02 2.84983659e-02\n",
      " 4.84646834e-03 3.48833312e-04 1.56910863e-04 4.61080400e-03\n",
      " 1.77963479e-02 3.80643225e-02 4.35497481e-08 7.85407313e-02\n",
      " 3.65538368e-02 2.22216429e-02 2.14702848e-05 1.72137277e-02\n",
      " 3.15871790e-03 7.59165722e-03 1.68064678e-03 2.39784047e-02\n",
      " 2.52190290e-03 1.37987366e-02 2.18504873e-02 1.92317199e-02\n",
      " 1.30652656e-07 7.08582383e-03]\n",
      "\n",
      "Iteration 26\n",
      "[4.63267582e-03 5.22601665e-07 1.61187040e-02 6.23286763e-04\n",
      " 3.87000957e-02 5.33182625e-02 4.52400309e-04 1.67747789e-01\n",
      " 1.61381316e-02 9.98306041e-03 8.61525846e-02 1.21838491e-01\n",
      " 9.45755632e-03 1.02951528e-01 2.21131853e-02 2.84983649e-02\n",
      " 4.84646743e-03 3.48833307e-04 1.56910879e-04 4.61080275e-03\n",
      " 1.77963428e-02 3.80643250e-02 4.35497324e-08 7.85407553e-02\n",
      " 3.65538288e-02 2.22216382e-02 2.14702871e-05 1.72137261e-02\n",
      " 3.15871847e-03 7.59165530e-03 1.68064634e-03 2.39783981e-02\n",
      " 2.52190228e-03 1.37987400e-02 2.18504838e-02 1.92317150e-02\n",
      " 1.30652633e-07 7.08582622e-03]\n",
      "\n",
      "Iteration 27\n",
      "[4.63267506e-03 5.22601558e-07 1.61187066e-02 6.23286806e-04\n",
      " 3.87000905e-02 5.33182649e-02 4.52400244e-04 1.67747796e-01\n",
      " 1.61381292e-02 9.98305892e-03 8.61525800e-02 1.21838506e-01\n",
      " 9.45755761e-03 1.02951520e-01 2.21131841e-02 2.84983643e-02\n",
      " 4.84646689e-03 3.48833304e-04 1.56910889e-04 4.61080201e-03\n",
      " 1.77963398e-02 3.80643264e-02 4.35497233e-08 7.85407694e-02\n",
      " 3.65538240e-02 2.22216355e-02 2.14702884e-05 1.72137252e-02\n",
      " 3.15871880e-03 7.59165418e-03 1.68064608e-03 2.39783942e-02\n",
      " 2.52190191e-03 1.37987420e-02 2.18504818e-02 1.92317122e-02\n",
      " 1.30652620e-07 7.08582762e-03]\n",
      "\n",
      "Iteration 28\n",
      "[4.63267462e-03 5.22601495e-07 1.61187082e-02 6.23286831e-04\n",
      " 3.87000874e-02 5.33182663e-02 4.52400205e-04 1.67747800e-01\n",
      " 1.61381278e-02 9.98305805e-03 8.61525772e-02 1.21838515e-01\n",
      " 9.45755837e-03 1.02951516e-01 2.21131833e-02 2.84983640e-02\n",
      " 4.84646658e-03 3.48833302e-04 1.56910894e-04 4.61080158e-03\n",
      " 1.77963381e-02 3.80643272e-02 4.35497179e-08 7.85407776e-02\n",
      " 3.65538213e-02 2.22216339e-02 2.14702892e-05 1.72137246e-02\n",
      " 3.15871899e-03 7.59165352e-03 1.68064593e-03 2.39783920e-02\n",
      " 2.52190170e-03 1.37987431e-02 2.18504806e-02 1.92317105e-02\n",
      " 1.30652612e-07 7.08582844e-03]\n",
      "Converged after 29 iterations\n"
     ]
    }
   ],
   "source": [
    "for i in range(0, len(states)):\n",
    "    p_new = p @ tr_pr\n",
    "\n",
    "    diff = np.linalg.norm(p_new - p)\n",
    "    if diff < 1e-8:\n",
    "        print(f\"Converged after {i + 1} iterations\")\n",
    "        p = p_new\n",
    "        break\n",
    "    p = p_new\n",
    "    print(f\"\\nIteration {i + 1}\")\n",
    "    print(p)"
   ]
  },
  {
   "cell_type": "code",
   "execution_count": 21,
   "id": "de20d243",
   "metadata": {},
   "outputs": [
    {
     "name": "stdout",
     "output_type": "stream",
     "text": [
      "[[1.58280144e-01 0.00000000e+00 2.66024948e-03 ... 2.26732217e-02\n",
      "  0.00000000e+00 1.19382221e-03]\n",
      " [0.00000000e+00 1.66666667e-01 0.00000000e+00 ... 8.33333333e-02\n",
      "  0.00000000e+00 0.00000000e+00]\n",
      " [8.13238771e-04 0.00000000e+00 1.41217156e-01 ... 4.31746032e-03\n",
      "  0.00000000e+00 9.11043566e-03]\n",
      " ...\n",
      " [5.66610730e-03 0.00000000e+00 2.89193406e-03 ... 3.08322746e-01\n",
      "  2.26463122e-06 8.94529330e-04]\n",
      " [0.00000000e+00 0.00000000e+00 0.00000000e+00 ... 0.00000000e+00\n",
      "  0.00000000e+00 0.00000000e+00]\n",
      " [6.51465798e-04 0.00000000e+00 2.44238215e-02 ... 2.45221560e-03\n",
      "  0.00000000e+00 1.99108844e-01]]\n"
     ]
    }
   ],
   "source": [
    "print(tr_pr)"
   ]
  },
  {
   "cell_type": "code",
   "execution_count": 37,
   "id": "679d716a",
   "metadata": {},
   "outputs": [
    {
     "name": "stdout",
     "output_type": "stream",
     "text": [
      "\n",
      "Verification: Eigenvector method difference: 1.26e-08\n"
     ]
    }
   ],
   "source": [
    "eigenvalues, eigenvectors = np.linalg.eig(tr_pr.T)\n",
    "stationary_idx = np.argmax(np.abs(eigenvalues))\n",
    "stationary_dist = np.abs(eigenvectors[:, stationary_idx])\n",
    "stationary_dist = stationary_dist / stationary_dist.sum()\n",
    "\n",
    "print(f\"\\nVerification: Eigenvector method difference: {np.linalg.norm(p - stationary_dist):.2e}\")"
   ]
  },
  {
   "cell_type": "code",
   "execution_count": 38,
   "id": "46664adc",
   "metadata": {},
   "outputs": [
    {
     "name": "stdout",
     "output_type": "stream",
     "text": [
      "\n",
      "       Neighborhood  Probability  Percentage\n",
      "            Midtown 1.677478e-01   16.774780\n",
      "    Upper East Side 1.218385e-01   12.183852\n",
      "  Outside Manhattan 1.029515e-01   10.295151\n",
      "            Chelsea 8.615258e-02    8.615258\n",
      "    Upper West Side 7.854078e-02    7.854078\n",
      "     Hell's Kitchen 5.331827e-02    5.331827\n",
      "       East Village 3.870009e-02    3.870009\n",
      "   Theater District 3.806433e-02    3.806433\n",
      "       West Village 3.655382e-02    3.655382\n",
      "        Murray Hill 2.849836e-02    2.849836\n",
      "               SoHo 2.397839e-02    2.397839\n",
      "  Greenwich Village 2.222163e-02    2.222163\n",
      "           Kips Bay 2.211318e-02    2.211318\n",
      "           Gramercy 2.185048e-02    2.185048\n",
      " Financial District 1.923171e-02    1.923171\n",
      "            Tribeca 1.779634e-02    1.779634\n",
      "  Flatiron District 1.721372e-02    1.721372\n",
      "    Lower East Side 1.613813e-02    1.613813\n",
      "       Central Park 1.611871e-02    1.611871\n",
      "        East Harlem 1.379874e-02    1.379874\n",
      "  Battery Park City 9.983058e-03    0.998306\n",
      "             Harlem 9.457559e-03    0.945756\n",
      "               NoHo 7.591653e-03    0.759165\n",
      "Morningside Heights 7.085829e-03    0.708583\n",
      "    Stuyvesant Town 4.846466e-03    0.484647\n",
      "             Nolita 4.632674e-03    0.463267\n",
      "          Chinatown 4.610801e-03    0.461080\n",
      " Washington Heights 3.158719e-03    0.315872\n",
      "       Civic Center 2.521902e-03    0.252190\n",
      "       Little Italy 1.680646e-03    0.168065\n",
      "             Inwood 6.232868e-04    0.062329\n",
      "        Two Bridges 4.524002e-04    0.045240\n",
      "   Roosevelt Island 3.488333e-04    0.034883\n",
      "   Randall's Island 1.569109e-04    0.015691\n",
      "        Marble Hill 2.147029e-05    0.002147\n",
      "   Governors Island 5.226015e-07    0.000052\n",
      "       Ellis Island 1.306526e-07    0.000013\n",
      "     Liberty Island 4.354971e-08    0.000004\n"
     ]
    }
   ],
   "source": [
    "steady_state_df = pd.DataFrame({\n",
    "    'Neighborhood': states,\n",
    "    'Probability': p,\n",
    "    'Percentage': p * 100\n",
    "}).sort_values('Probability', ascending=False)\n",
    "\n",
    "print(\"\\n\" + steady_state_df.to_string(index=False))"
   ]
  },
  {
   "cell_type": "code",
   "execution_count": 39,
   "id": "5a420f50",
   "metadata": {},
   "outputs": [
    {
     "data": {
      "image/png": "[encoded data removed]",
      "text/plain": [
       "<Figure size 1200x800 with 1 Axes>"
      ]
     },
     "metadata": {},
     "output_type": "display_data"
    }
   ],
   "source": [
    "plt.figure(figsize=(12, 8))\n",
    "top_k = min(15, len(states))\n",
    "top_neighborhoods = steady_state_df.head(top_k)\n",
    "\n",
    "plt.barh(range(len(top_neighborhoods)), top_neighborhoods['Percentage'])\n",
    "plt.yticks(range(len(top_neighborhoods)), top_neighborhoods['Neighborhood'])\n",
    "plt.xlabel('Percentage of Time (%)', fontsize=12)\n",
    "plt.ylabel('Neighborhood', fontsize=12)\n",
    "plt.title('Steady State: Where Cabs Spend Most Time in Manhattan', fontsize=14, fontweight='bold')\n",
    "plt.gca().invert_yaxis()\n",
    "plt.grid(axis='x', alpha=0.3)\n",
    "plt.tight_layout\n",
    "plt.show()"
   ]
  }
 ],
 "metadata": {
  "kernelspec": {
   "display_name": "base",
   "language": "python",
   "name": "python3"
  },
  "language_info": {
   "codemirror_mode": {
    "name": "ipython",
    "version": 3
   },
   "file_extension": ".py",
   "mimetype": "text/x-python",
   "name": "python",
   "nbconvert_exporter": "python",
   "pygments_lexer": "ipython3",
   "version": "3.13.2"
  }
 },
 "nbformat": 4,
 "nbformat_minor": 5
}
